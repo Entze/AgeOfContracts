{
 "cells": [
  {
   "cell_type": "code",
   "execution_count": 12,
   "metadata": {
    "collapsed": true
   },
   "outputs": [],
   "source": [
    "import functools\n",
    "from typing import Union, Callable\n",
    "\n",
    "import clingo\n",
    "from clingox.program import Program, ProgramObserver"
   ]
  },
  {
   "cell_type": "code",
   "execution_count": 13,
   "outputs": [],
   "source": [
    "static_rules = \"\"\"\n",
    "\n",
    "pos((1..3,1..3)).\n",
    "adjacent((X1,Y1), (X2,Y2)) :- pos((X1,Y1)), pos((X2,Y2)), |X1 - X2| + |Y1 - Y2| = 1.\n",
    "\n",
    "1 { observe(object(Type, Id), value(Property, Value), 0) : value(Property, Value) } 1 :- object(Type, Id).\n",
    "\n",
    "value(at, Pos) :- pos(Pos).\n",
    "action(move, Pos) :- pos(Pos).\n",
    "action(wait, ()).\n",
    "\n",
    "\"\"\""
   ],
   "metadata": {
    "collapsed": false,
    "pycharm": {
     "name": "#%%\n"
    }
   }
  },
  {
   "cell_type": "code",
   "execution_count": 14,
   "outputs": [],
   "source": [
    "effect_rules = \"\"\"\n",
    "\n",
    "observe(O, value(at, Pos2), T+1) :-\n",
    "  time(T+1), time(T),\n",
    "  occurs(O, action(move, Pos2), T),\n",
    "  observe(O, value(at, Pos1), T),\n",
    "  adjacent(Pos1, Pos2).\n",
    "\n",
    "observe(O, value(at, Pos), T+1) :-\n",
    "  time(T+1), time(T),\n",
    "  occurs(O, action(wait, ()), T),\n",
    "  observe(O, value(at, Pos), T).\n",
    "\n",
    "observe(object(cell, Pos), value(collision, ()), T) :-\n",
    "  observe(O1, value(at, Pos), T),\n",
    "  observe(O2, value(at, Pos), T),\n",
    "  O1 != O2.\n",
    "\n",
    "observe(object(cell, Pos), value(collision, ()), T+1) :-\n",
    "  O1 != O2,\n",
    "  observe(O1, value(at, Pos), T),\n",
    "  occurs(O2, action(move, Pos), T).\n",
    "\n",
    ":- occurs(O, action(move, Pos2), T),                                 % Action\n",
    "   time(T+1), time(T),\n",
    "   observe(O, value(at, Pos1), T), adjacent(Pos1, Pos2),             % State\n",
    "   observe(object(cell, Pos2), value(collision, ()), T+1).           % Precondition\n",
    "\n",
    "\"\"\""
   ],
   "metadata": {
    "collapsed": false,
    "pycharm": {
     "name": "#%%\n"
    }
   }
  },
  {
   "cell_type": "code",
   "execution_count": 15,
   "outputs": [],
   "source": [
    "instance = \"\"\"\n",
    "\n",
    "object(robot, worker).\n",
    "object(robot, charger).\n",
    "\n",
    "init(object(robot, worker), value(at, (1,1))).\n",
    "init(object(robot, charger), value(at, (2,2))).\n",
    "\n",
    "goal(object(robot, worker), value(at, (3,3))).\n",
    "goal(object(robot, charger), value(at, (2,2))).\n",
    "\n",
    "occurs(object(robot, worker), action(move, (1,2)), 0).\n",
    "occurs(object(robot, charger), action(move, (2,1)), 0).\n",
    "\n",
    "occurs(object(robot, worker), action(move, (2,2)), 1).\n",
    "occurs(object(robot, charger), action(wait, ()), 1).\n",
    "\n",
    "occurs(object(robot, worker), action(move, (3,2)), 2).\n",
    "occurs(object(robot, charger), action(wait, ()), 2).\n",
    "\n",
    "occurs(object(robot, worker), action(move, (3,3)), 3).\n",
    "occurs(object(robot, charger), action(move, (2,2)), 3).\n",
    "\n",
    "occurs(object(robot, worker), action(wait, ()), 4).\n",
    "occurs(object(robot, charger), action(wait, ()), 4).\n",
    "\"\"\""
   ],
   "metadata": {
    "collapsed": false,
    "pycharm": {
     "name": "#%%\n"
    }
   }
  },
  {
   "cell_type": "code",
   "execution_count": 16,
   "outputs": [],
   "source": [
    "plan = \"\"\"\n",
    "\n",
    "time(0..k).\n",
    "\n",
    ":- init(O, V), not observe(O, V, 0).\n",
    ":- goal(O, V), not observe(O, V, k).\n",
    "\n",
    "\"\"\""
   ],
   "metadata": {
    "collapsed": false,
    "pycharm": {
     "name": "#%%\n"
    }
   }
  },
  {
   "cell_type": "code",
   "execution_count": 17,
   "outputs": [],
   "source": [
    "ctl = clingo.Control()\n",
    "ctl.configuration.solve.models = 0\n",
    "prg = Program()\n",
    "obs = ProgramObserver(prg)\n",
    "ctl.register_observer(obs)"
   ],
   "metadata": {
    "collapsed": false,
    "pycharm": {
     "name": "#%%\n"
    }
   }
  },
  {
   "cell_type": "code",
   "execution_count": 18,
   "outputs": [],
   "source": [
    "ctl.add('base', [], static_rules)\n",
    "ctl.add('base', [], effect_rules)\n",
    "ctl.add('base', [], instance)\n",
    "ctl.add('plan', ['k'], plan)\n",
    "ctl.add('base', [], '#show observe/3. #show occurs/3.')"
   ],
   "metadata": {
    "collapsed": false,
    "pycharm": {
     "name": "#%%\n"
    }
   }
  },
  {
   "cell_type": "code",
   "execution_count": 19,
   "outputs": [],
   "source": [
    "ctl.ground([(\"base\", []), (\"plan\", [clingo.Number(5)])])"
   ],
   "metadata": {
    "collapsed": false,
    "pycharm": {
     "name": "#%%\n"
    }
   }
  },
  {
   "cell_type": "code",
   "execution_count": 20,
   "outputs": [
    {
     "name": "stdout",
     "output_type": "stream",
     "text": [
      "Facts: 10 Rules: 126\n",
      "occurs(object(robot,charger),action(move,(2,1)),0).\n",
      "occurs(object(robot,charger),action(move,(2,2)),3).\n",
      "occurs(object(robot,charger),action(wait,()),1).\n",
      "occurs(object(robot,charger),action(wait,()),2).\n",
      "occurs(object(robot,charger),action(wait,()),4).\n",
      "occurs(object(robot,worker),action(move,(1,2)),0).\n",
      "occurs(object(robot,worker),action(move,(2,2)),1).\n",
      "occurs(object(robot,worker),action(move,(3,2)),2).\n",
      "occurs(object(robot,worker),action(move,(3,3)),3).\n",
      "occurs(object(robot,worker),action(wait,()),4).\n",
      " :- not observe(object(robot,worker),value(at,(3,3)),5).\n",
      " :- not observe(object(robot,charger),value(at,(2,2)),5).\n",
      " :- not observe(object(robot,worker),value(at,(1,1)),0).\n",
      " :- not observe(object(robot,charger),value(at,(2,2)),0).\n",
      " :- __x36, not __x118.\n",
      " :- __x37, not __x121.\n",
      " :- observe(object(cell,(1,2)),value(collision,()),1), observe(object(robot,worker),value(at,(2,2)),0).\n",
      " :- observe(object(cell,(1,2)),value(collision,()),1), observe(object(robot,worker),value(at,(1,3)),0).\n",
      " :- observe(object(cell,(1,2)),value(collision,()),1), observe(object(robot,worker),value(at,(1,1)),0).\n",
      " :- observe(object(cell,(2,1)),value(collision,()),1), observe(object(robot,charger),value(at,(3,1)),0).\n",
      " :- observe(object(cell,(2,1)),value(collision,()),1), observe(object(robot,charger),value(at,(2,2)),0).\n",
      " :- observe(object(cell,(2,1)),value(collision,()),1), observe(object(robot,charger),value(at,(1,1)),0).\n",
      "__x1.\n",
      "__x2.\n",
      "__x3.\n",
      "__x4.\n",
      "__x5.\n",
      "__x6.\n",
      "__x7.\n",
      "__x8.\n",
      "__x9.\n",
      "__x10.\n",
      "__x11.\n",
      "__x12.\n",
      "__x13.\n",
      "__x14.\n",
      "__x15.\n",
      "__x16.\n",
      "__x17.\n",
      "__x18.\n",
      "__x19.\n",
      "__x20.\n",
      "__x21.\n",
      "__x22.\n",
      "__x23.\n",
      "__x24.\n",
      "__x25.\n",
      "__x26.\n",
      "__x27.\n",
      "__x28.\n",
      "__x29.\n",
      "__x30.\n",
      "__x31.\n",
      "__x32.\n",
      "__x33.\n",
      "__x34.\n",
      "__x35.\n",
      "__x36.\n",
      "__x37.\n",
      "__x38.\n",
      "__x39.\n",
      "__x40.\n",
      "__x41.\n",
      "__x42.\n",
      "__x43.\n",
      "__x44.\n",
      "__x45.\n",
      "__x46.\n",
      "__x47.\n",
      "__x48.\n",
      "__x49.\n",
      "__x50.\n",
      "__x51.\n",
      "__x52.\n",
      "__x53.\n",
      "__x54.\n",
      "__x55.\n",
      "__x56.\n",
      "__x57.\n",
      "__x58.\n",
      "__x59.\n",
      "__x60.\n",
      "__x61.\n",
      "__x62.\n",
      "__x63.\n",
      "__x64.\n",
      "__x65.\n",
      "__x66.\n",
      "__x67.\n",
      "observe(object(robot,charger),value(at,(2,1)),1) :- observe(object(robot,charger),value(at,(3,1)),0).\n",
      "observe(object(robot,charger),value(at,(2,1)),1) :- observe(object(robot,charger),value(at,(2,2)),0).\n",
      "observe(object(robot,charger),value(at,(2,1)),1) :- observe(object(robot,charger),value(at,(1,1)),0).\n",
      "observe(object(robot,worker),value(at,(1,2)),1) :- observe(object(robot,worker),value(at,(2,2)),0).\n",
      "observe(object(robot,worker),value(at,(1,2)),1) :- observe(object(robot,worker),value(at,(1,3)),0).\n",
      "observe(object(robot,worker),value(at,(1,2)),1) :- observe(object(robot,worker),value(at,(1,1)),0).\n",
      "observe(object(robot,charger),value(at,(2,1)),2) :- observe(object(robot,charger),value(at,(2,1)),1).\n",
      "observe(object(robot,worker),value(at,(2,2)),2) :- observe(object(robot,worker),value(at,(1,2)),1).\n",
      "observe(object(robot,charger),value(at,(2,1)),3) :- observe(object(robot,charger),value(at,(2,1)),2).\n",
      "observe(object(robot,worker),value(at,(3,2)),3) :- observe(object(robot,worker),value(at,(2,2)),2).\n",
      "observe(object(robot,worker),value(at,(3,3)),4) :- observe(object(robot,worker),value(at,(3,2)),3).\n",
      "observe(object(robot,charger),value(at,(2,2)),4) :- observe(object(robot,charger),value(at,(2,1)),3).\n",
      "observe(object(robot,charger),value(at,(2,2)),5) :- observe(object(robot,charger),value(at,(2,2)),4).\n",
      "observe(object(robot,worker),value(at,(3,3)),5) :- observe(object(robot,worker),value(at,(3,3)),4).\n",
      "observe(object(cell,(1,1)),value(collision,()),0) :- observe(object(robot,charger),value(at,(1,1)),0), observe(object(robot,worker),value(at,(1,1)),0).\n",
      "observe(object(cell,(1,1)),value(collision,()),0) :- observe(object(robot,worker),value(at,(1,1)),0), observe(object(robot,charger),value(at,(1,1)),0).\n",
      "observe(object(cell,(1,2)),value(collision,()),0) :- observe(object(robot,worker),value(at,(1,2)),0), observe(object(robot,charger),value(at,(1,2)),0).\n",
      "observe(object(cell,(1,2)),value(collision,()),0) :- observe(object(robot,charger),value(at,(1,2)),0), observe(object(robot,worker),value(at,(1,2)),0).\n",
      "observe(object(cell,(1,3)),value(collision,()),0) :- observe(object(robot,worker),value(at,(1,3)),0), observe(object(robot,charger),value(at,(1,3)),0).\n",
      "observe(object(cell,(1,3)),value(collision,()),0) :- observe(object(robot,charger),value(at,(1,3)),0), observe(object(robot,worker),value(at,(1,3)),0).\n",
      "observe(object(cell,(2,1)),value(collision,()),0) :- observe(object(robot,worker),value(at,(2,1)),0), observe(object(robot,charger),value(at,(2,1)),0).\n",
      "observe(object(cell,(2,1)),value(collision,()),0) :- observe(object(robot,charger),value(at,(2,1)),0), observe(object(robot,worker),value(at,(2,1)),0).\n",
      "observe(object(cell,(2,2)),value(collision,()),0) :- observe(object(robot,charger),value(at,(2,2)),0), observe(object(robot,worker),value(at,(2,2)),0).\n",
      "observe(object(cell,(2,2)),value(collision,()),0) :- observe(object(robot,worker),value(at,(2,2)),0), observe(object(robot,charger),value(at,(2,2)),0).\n",
      "observe(object(cell,(2,3)),value(collision,()),0) :- observe(object(robot,worker),value(at,(2,3)),0), observe(object(robot,charger),value(at,(2,3)),0).\n",
      "observe(object(cell,(2,3)),value(collision,()),0) :- observe(object(robot,charger),value(at,(2,3)),0), observe(object(robot,worker),value(at,(2,3)),0).\n",
      "observe(object(cell,(3,1)),value(collision,()),0) :- observe(object(robot,charger),value(at,(3,1)),0), observe(object(robot,worker),value(at,(3,1)),0).\n",
      "observe(object(cell,(3,1)),value(collision,()),0) :- observe(object(robot,worker),value(at,(3,1)),0), observe(object(robot,charger),value(at,(3,1)),0).\n",
      "observe(object(cell,(3,2)),value(collision,()),0) :- observe(object(robot,worker),value(at,(3,2)),0), observe(object(robot,charger),value(at,(3,2)),0).\n",
      "observe(object(cell,(3,2)),value(collision,()),0) :- observe(object(robot,charger),value(at,(3,2)),0), observe(object(robot,worker),value(at,(3,2)),0).\n",
      "observe(object(cell,(3,3)),value(collision,()),0) :- observe(object(robot,worker),value(at,(3,3)),0), observe(object(robot,charger),value(at,(3,3)),0).\n",
      "observe(object(cell,(3,3)),value(collision,()),0) :- observe(object(robot,charger),value(at,(3,3)),0), observe(object(robot,worker),value(at,(3,3)),0).\n",
      "observe(object(cell,(1,2)),value(collision,()),1) :- observe(object(robot,charger),value(at,(1,2)),0).\n",
      "observe(object(cell,(2,1)),value(collision,()),1) :- observe(object(robot,worker),value(at,(2,1)),0).\n",
      "__x107.\n",
      "__x108.\n",
      "__x109.\n",
      "__x110.\n",
      "__x111.\n",
      "__x112.\n",
      "__x113.\n",
      "__x114.\n",
      "__x115.\n",
      "__x118 :- __x116, not __x117.\n",
      "__x121 :- __x119, not __x120.\n",
      "{observe(object(robot,charger),value(at,(1,1)),0); observe(object(robot,charger),value(at,(1,2)),0); observe(object(robot,charger),value(at,(1,3)),0); observe(object(robot,charger),value(at,(2,1)),0); observe(object(robot,charger),value(at,(2,2)),0); observe(object(robot,charger),value(at,(2,3)),0); observe(object(robot,charger),value(at,(3,1)),0); observe(object(robot,charger),value(at,(3,2)),0); observe(object(robot,charger),value(at,(3,3)),0)} :- __x37.\n",
      "{observe(object(robot,worker),value(at,(1,1)),0); observe(object(robot,worker),value(at,(1,2)),0); observe(object(robot,worker),value(at,(1,3)),0); observe(object(robot,worker),value(at,(2,1)),0); observe(object(robot,worker),value(at,(2,2)),0); observe(object(robot,worker),value(at,(2,3)),0); observe(object(robot,worker),value(at,(3,1)),0); observe(object(robot,worker),value(at,(3,2)),0); observe(object(robot,worker),value(at,(3,3)),0)} :- __x36.\n",
      "__x116 :- 1{1,0: observe(object(robot,worker),value(at,(1,1)),0), 1,1: observe(object(robot,worker),value(at,(1,2)),0), 1,2: observe(object(robot,worker),value(at,(1,3)),0), 1,3: observe(object(robot,worker),value(at,(2,1)),0), 1,4: observe(object(robot,worker),value(at,(2,2)),0), 1,5: observe(object(robot,worker),value(at,(2,3)),0), 1,6: observe(object(robot,worker),value(at,(3,1)),0), 1,7: observe(object(robot,worker),value(at,(3,2)),0), 1,8: observe(object(robot,worker),value(at,(3,3)),0)}.\n",
      "__x117 :- 2{1,0: observe(object(robot,worker),value(at,(1,1)),0), 1,1: observe(object(robot,worker),value(at,(1,2)),0), 1,2: observe(object(robot,worker),value(at,(1,3)),0), 1,3: observe(object(robot,worker),value(at,(2,1)),0), 1,4: observe(object(robot,worker),value(at,(2,2)),0), 1,5: observe(object(robot,worker),value(at,(2,3)),0), 1,6: observe(object(robot,worker),value(at,(3,1)),0), 1,7: observe(object(robot,worker),value(at,(3,2)),0), 1,8: observe(object(robot,worker),value(at,(3,3)),0)}.\n",
      "__x119 :- 1{1,0: observe(object(robot,charger),value(at,(1,1)),0), 1,1: observe(object(robot,charger),value(at,(1,2)),0), 1,2: observe(object(robot,charger),value(at,(1,3)),0), 1,3: observe(object(robot,charger),value(at,(2,1)),0), 1,4: observe(object(robot,charger),value(at,(2,2)),0), 1,5: observe(object(robot,charger),value(at,(2,3)),0), 1,6: observe(object(robot,charger),value(at,(3,1)),0), 1,7: observe(object(robot,charger),value(at,(3,2)),0), 1,8: observe(object(robot,charger),value(at,(3,3)),0)}.\n",
      "__x120 :- 2{1,0: observe(object(robot,charger),value(at,(1,1)),0), 1,1: observe(object(robot,charger),value(at,(1,2)),0), 1,2: observe(object(robot,charger),value(at,(1,3)),0), 1,3: observe(object(robot,charger),value(at,(2,1)),0), 1,4: observe(object(robot,charger),value(at,(2,2)),0), 1,5: observe(object(robot,charger),value(at,(2,3)),0), 1,6: observe(object(robot,charger),value(at,(3,1)),0), 1,7: observe(object(robot,charger),value(at,(3,2)),0), 1,8: observe(object(robot,charger),value(at,(3,3)),0)}.\n"
     ]
    }
   ],
   "source": [
    "print(\"Facts:\", len(prg.facts), \"Rules:\", len(prg.rules))\n",
    "print(prg)"
   ],
   "metadata": {
    "collapsed": false,
    "pycharm": {
     "name": "#%%\n"
    }
   }
  },
  {
   "cell_type": "code",
   "execution_count": 21,
   "outputs": [],
   "source": [
    "def get_time(symbol: clingo.Symbol, default: Union[Callable[[clingo.Symbol], int], int, None] = None):\n",
    "    if symbol.type is clingo.SymbolType.Function and symbol.name in ('occurs', 'observe'):\n",
    "        return symbol.arguments[-1].number\n",
    "    if callable(default):\n",
    "        return default(symbol)\n",
    "    return default"
   ],
   "metadata": {
    "collapsed": false,
    "pycharm": {
     "name": "#%%\n"
    }
   }
  },
  {
   "cell_type": "code",
   "execution_count": 22,
   "outputs": [
    {
     "name": "stdout",
     "output_type": "stream",
     "text": [
      "Answer 1:{\n",
      "observe(object(robot,charger),value(at,(2,2)),0)\n",
      "observe(object(robot,worker),value(at,(1,1)),0)\n",
      "occurs(object(robot,charger),action(move,(2,1)),0)\n",
      "occurs(object(robot,worker),action(move,(1,2)),0)\n",
      "observe(object(robot,charger),value(at,(2,1)),1)\n",
      "observe(object(robot,worker),value(at,(1,2)),1)\n",
      "occurs(object(robot,charger),action(wait,()),1)\n",
      "occurs(object(robot,worker),action(move,(2,2)),1)\n",
      "observe(object(robot,charger),value(at,(2,1)),2)\n",
      "observe(object(robot,worker),value(at,(2,2)),2)\n",
      "occurs(object(robot,charger),action(wait,()),2)\n",
      "occurs(object(robot,worker),action(move,(3,2)),2)\n",
      "observe(object(robot,charger),value(at,(2,1)),3)\n",
      "observe(object(robot,worker),value(at,(3,2)),3)\n",
      "occurs(object(robot,charger),action(move,(2,2)),3)\n",
      "occurs(object(robot,worker),action(move,(3,3)),3)\n",
      "observe(object(robot,charger),value(at,(2,2)),4)\n",
      "observe(object(robot,worker),value(at,(3,3)),4)\n",
      "occurs(object(robot,charger),action(wait,()),4)\n",
      "occurs(object(robot,worker),action(wait,()),4)\n",
      "observe(object(robot,charger),value(at,(2,2)),5)\n",
      "observe(object(robot,worker),value(at,(3,3)),5)\n",
      "}\n",
      "SAT 1\n"
     ]
    }
   ],
   "source": [
    "models = []\n",
    "with ctl.solve(yield_=True) as solve_handle:\n",
    "    for model in solve_handle:\n",
    "        symbols = sorted(sorted(model.symbols(shown=True)), key=functools.partial(get_time, default=-1))\n",
    "        print(\"Answer {}:{}\".format(model.number,'{'), '\\n'.join(map(str, symbols)), '}', sep='\\n')\n",
    "        models.append(symbols)\n",
    "    solve_result = solve_handle.get()\n",
    "    print(solve_result, end='')\n",
    "    if solve_result.satisfiable:\n",
    "        print(' {}{}'.format(len(models), '' if solve_result.exhausted else '+'), end='')\n",
    "    print()\n"
   ],
   "metadata": {
    "collapsed": false,
    "pycharm": {
     "name": "#%%\n"
    }
   }
  }
 ],
 "metadata": {
  "kernelspec": {
   "display_name": "Python 3",
   "language": "python",
   "name": "python3"
  },
  "language_info": {
   "codemirror_mode": {
    "name": "ipython",
    "version": 2
   },
   "file_extension": ".py",
   "mimetype": "text/x-python",
   "name": "python",
   "nbconvert_exporter": "python",
   "pygments_lexer": "ipython2",
   "version": "2.7.6"
  }
 },
 "nbformat": 4,
 "nbformat_minor": 0
}