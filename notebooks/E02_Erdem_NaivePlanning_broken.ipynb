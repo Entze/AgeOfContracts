{
 "cells": [
  {
   "cell_type": "code",
   "execution_count": 321,
   "metadata": {
    "collapsed": true
   },
   "outputs": [],
   "source": [
    "import functools\n",
    "from typing import Union, Callable\n",
    "\n",
    "import clingo\n",
    "from clingo import Function, Number\n",
    "from clingox.backend import SymbolicBackend\n",
    "from clingox.program import Program, ProgramObserver"
   ]
  },
  {
   "cell_type": "code",
   "execution_count": 322,
   "outputs": [],
   "source": [
    "static_rules = \"\"\"\n",
    "\n",
    "pos((X,Y)) :- X=1..3, Y=1..3, (X,Y) != (1,3), (X,Y) != (3,1).\n",
    "adjacent((X1,Y1), (X2,Y2)) :- pos((X1,Y1)), pos((X2,Y2)), |X1 - X2| + |Y1 - Y2| = 1.\n",
    "\n",
    "1 { observe(object(Type, Id), value(Property, Value), 0) : value(Property, Value) } 1 :- object(Type, Id).\n",
    "\n",
    "value(at, Pos) :- pos(Pos).\n",
    "action(move, Pos) :- pos(Pos).\n",
    "action(wait, ()).\n",
    "\n",
    "\"\"\""
   ],
   "metadata": {
    "collapsed": false,
    "pycharm": {
     "name": "#%%\n"
    }
   }
  },
  {
   "cell_type": "code",
   "execution_count": 323,
   "outputs": [],
   "source": [
    "effect_rules = \"\"\"\n",
    "\n",
    "observe(O, value(at, Pos2), T+1) :-\n",
    "  time(T+1), time(T),\n",
    "  occurs(O, action(move, Pos2), T),\n",
    "  observe(O, value(at, Pos1), T),\n",
    "  adjacent(Pos1, Pos2).\n",
    "\n",
    "observe(O, value(at, Pos), T+1) :-\n",
    "  time(T+1), time(T),\n",
    "  occurs(O, action(wait, ()), T),\n",
    "  observe(O, value(at, Pos), T).\n",
    "\n",
    "observe(object(cell, Pos), value(collision, ()), T) :-\n",
    "  observe(O1, value(at, Pos), T),\n",
    "  observe(O2, value(at, Pos), T),\n",
    "  O1 != O2.\n",
    "\n",
    "observe(object(cell, Pos), value(collision, ()), T+1) :-\n",
    "  O1 != O2,\n",
    "  observe(O1, value(at, Pos), T),\n",
    "  occurs(O2, action(move, Pos), T).\n",
    "\n",
    ":- occurs(O, action(move, Pos2), T),                                 % Action\n",
    "   time(T+1), time(T),\n",
    "   observe(O, value(at, Pos1), T), adjacent(Pos1, Pos2),             % State\n",
    "   observe(object(cell, Pos2), value(collision, ()), T+1).           % Precondition\n",
    "\n",
    "\"\"\""
   ],
   "metadata": {
    "collapsed": false,
    "pycharm": {
     "name": "#%%\n"
    }
   }
  },
  {
   "cell_type": "code",
   "execution_count": 324,
   "outputs": [],
   "source": [
    "instance = \"\"\"\n",
    "\n",
    "object(robot, worker).\n",
    "object(robot, charger).\n",
    "\n",
    "init(object(robot, worker), value(at, (1,1))).\n",
    "init(object(robot, charger), value(at, (2,2))).\n",
    "\n",
    "goal(object(robot, worker), value(at, (3,3))).\n",
    "goal(object(robot, charger), value(at, (2,2))).\n",
    "\n",
    "\"\"\""
   ],
   "metadata": {
    "collapsed": false,
    "pycharm": {
     "name": "#%%\n"
    }
   }
  },
  {
   "cell_type": "code",
   "execution_count": 325,
   "outputs": [],
   "source": [
    "plan = \"\"\"\n",
    "\n",
    "time(0..k).\n",
    "\n",
    ":- init(O, V), not observe(O, V, 0).\n",
    ":- goal(O, V), not observe(O, V, k).\n",
    "\n",
    "1 { occurs(object(ObjectType, Id), action(ActionType, Par), T) : action(ActionType, Par) } 1 :- object(ObjectType, Id), time(T), time(T+1).\n",
    "\n",
    "\"\"\""
   ],
   "metadata": {
    "collapsed": false,
    "pycharm": {
     "name": "#%%\n"
    }
   }
  },
  {
   "cell_type": "code",
   "execution_count": 326,
   "outputs": [],
   "source": [
    "breakable = \"\"\"\n",
    "\n",
    "breakable(charger, base).\n",
    "breakable(worker, base).\n",
    "\n",
    "disables((charger, base), action(move, Pos), value(at, Pos)) :- pos(Pos).\n",
    "disables((worker, base), action(move, Pos), value(at, Pos)) :- pos(Pos).\n",
    "\n",
    "status(broken;working).\n",
    "\n",
    "1 { observe(object(robot, R), value(Part, Status), T) : status(Status) } 1 :-\n",
    "  time(T), object(robot, R), breakable(R, Part).\n",
    "\n",
    ":- time(T), time(T+1), observe(object(robot, R), value(Part, broken), T), observe(object(robot, R), value(Part, working), T+1).\n",
    "\n",
    "\"\"\""
   ],
   "metadata": {
    "collapsed": false,
    "pycharm": {
     "name": "#%%\n"
    }
   }
  },
  {
   "cell_type": "code",
   "execution_count": 327,
   "outputs": [],
   "source": [
    "diagnose_rules = \"\"\"\n",
    "\n",
    "observe(O, value(at, Pos), T+1) :-\n",
    "  time(T+1), time(T),\n",
    "  occurs(O, action(wait, ()), T),\n",
    "  observe(O, value(at, Pos), T).\n",
    "\n",
    "observe(object(robot, R), value(Property, Value), T+1) :-\n",
    "  time(T+1), time(T),\n",
    "  breakable(R, Part), disables((R, Part), action(ActionType, Parameter), value(Property, Value)),\n",
    "  occurs(object(robot, R), action(ActionType, Parameter), T),\n",
    "  observe(object(robot, R), value(Part, working), T).\n",
    "\n",
    "observe(object(robot, R), value(Property, Value), T+1) :-\n",
    "  time(T+1), time(T),\n",
    "  %breakable(R, Part), disables((R, Part), action(ActionType, Parameter), value(Property, Value)),\n",
    "  occurs(object(robot, R), action(ActionType, Parameter), T),\n",
    "  observe(object(robot, R), value(Property, Value), T),\n",
    "  observe(object(robot, R), value(Part, broken), T).\n",
    "\n",
    "%observe(object(robot,worker),value(at,(1,1)),0)\n",
    "%observe(object(robot,worker),value(base,broken),0)\n",
    "%occurs(object(robot,worker),action(move,(2,1)),0)\n",
    "\n",
    "\"\"\""
   ],
   "metadata": {
    "collapsed": false,
    "pycharm": {
     "name": "#%%\n"
    }
   }
  },
  {
   "cell_type": "code",
   "execution_count": 328,
   "outputs": [],
   "source": [
    "diagnose = \"\"\"\n",
    "\n",
    "time(0..k).\n",
    "\n",
    ":- init(O, V), not observe(O, V, 0).\n",
    "\n",
    "1 { occurs(object(ObjectType, Id), action(ActionType, Par), T) : action(ActionType, Par) } 1 :- object(ObjectType, Id), time(T), time(T+1).\n",
    "\n",
    "{ faulty(Robot, Part) : breakable(Robot, Part) }.\n",
    "\n",
    ":- breakable(Robot, Part),     faulty(Robot, Part), not observe(object(robot, Robot), value(Part, broken), k).   % X\n",
    ":- breakable(Robot, Part), not faulty(Robot, Part), not observe(object(robot, Robot), value(Part, working), k).  % R - X\n",
    "\n",
    "\"\"\""
   ],
   "metadata": {
    "collapsed": false,
    "pycharm": {
     "name": "#%%\n"
    }
   }
  },
  {
   "cell_type": "code",
   "execution_count": 329,
   "outputs": [],
   "source": [
    "ctl = clingo.Control()\n",
    "ctl.configuration.solve.models = 10\n",
    "prg = Program()\n",
    "obs = ProgramObserver(prg)\n",
    "ctl.register_observer(obs)"
   ],
   "metadata": {
    "collapsed": false,
    "pycharm": {
     "name": "#%%\n"
    }
   }
  },
  {
   "cell_type": "code",
   "execution_count": 330,
   "outputs": [],
   "source": [
    "ctl.add('base', [], static_rules)\n",
    "ctl.add('base', [], effect_rules)\n",
    "ctl.add('base', [], instance)\n",
    "ctl.add('plan', ['k'], plan)\n",
    "ctl.add('base', [], '#show observe/3. #show occurs/3.')"
   ],
   "metadata": {
    "collapsed": false,
    "pycharm": {
     "name": "#%%\n"
    }
   }
  },
  {
   "cell_type": "code",
   "execution_count": 331,
   "outputs": [],
   "source": [
    "k = 4\n",
    "ctl.ground([(\"base\", []), (\"plan\", [clingo.Number(k)])])"
   ],
   "metadata": {
    "collapsed": false,
    "pycharm": {
     "name": "#%%\n"
    }
   }
  },
  {
   "cell_type": "code",
   "execution_count": 332,
   "outputs": [
    {
     "name": "stdout",
     "output_type": "stream",
     "text": [
      "Facts: 0 Rules: 531\n"
     ]
    }
   ],
   "source": [
    "print(\"Facts:\", len(prg.facts), \"Rules:\", len(prg.rules))"
   ],
   "metadata": {
    "collapsed": false,
    "pycharm": {
     "name": "#%%\n"
    }
   }
  },
  {
   "cell_type": "code",
   "execution_count": 333,
   "outputs": [],
   "source": [
    "def get_time(symbol: clingo.Symbol, default: Union[Callable[[clingo.Symbol], int], int, None] = None):\n",
    "    if symbol.type is clingo.SymbolType.Function and symbol.name in ('occurs', 'observe'):\n",
    "        return symbol.arguments[-1].number\n",
    "    if callable(default):\n",
    "        return default(symbol)\n",
    "    return default"
   ],
   "metadata": {
    "collapsed": false,
    "pycharm": {
     "name": "#%%\n"
    }
   }
  },
  {
   "cell_type": "code",
   "execution_count": 334,
   "outputs": [],
   "source": [
    "def solve(control: clingo.Control):\n",
    "    models = []\n",
    "    with control.solve(yield_=True) as solve_handle:\n",
    "        for model in solve_handle:\n",
    "            symbols = sorted(sorted(model.symbols(shown=True)), key=functools.partial(get_time, default=-1))\n",
    "            print(\"Answer {}:{}\".format(model.number,'{'), '\\n'.join(map(str, symbols)), '}', sep='\\n')\n",
    "            models.append(symbols)\n",
    "        solve_result = solve_handle.get()\n",
    "        print(solve_result, end='')\n",
    "        if solve_result.satisfiable:\n",
    "            print(' {}{}'.format(len(models), '' if solve_result.exhausted else '+'), end='')\n",
    "        print()\n",
    "    return models"
   ],
   "metadata": {
    "collapsed": false,
    "pycharm": {
     "name": "#%%\n"
    }
   }
  },
  {
   "cell_type": "code",
   "execution_count": 335,
   "outputs": [
    {
     "name": "stdout",
     "output_type": "stream",
     "text": [
      "Answer 1:{\n",
      "observe(object(robot,charger),value(at,(2,2)),0)\n",
      "observe(object(robot,worker),value(at,(1,1)),0)\n",
      "occurs(object(robot,charger),action(move,(1,2)),0)\n",
      "occurs(object(robot,worker),action(move,(2,1)),0)\n",
      "observe(object(robot,charger),value(at,(1,2)),1)\n",
      "observe(object(robot,worker),value(at,(2,1)),1)\n",
      "occurs(object(robot,charger),action(wait,()),1)\n",
      "occurs(object(robot,worker),action(move,(2,2)),1)\n",
      "observe(object(robot,charger),value(at,(1,2)),2)\n",
      "observe(object(robot,worker),value(at,(2,2)),2)\n",
      "occurs(object(robot,charger),action(wait,()),2)\n",
      "occurs(object(robot,worker),action(move,(2,3)),2)\n",
      "observe(object(robot,charger),value(at,(1,2)),3)\n",
      "observe(object(robot,worker),value(at,(2,3)),3)\n",
      "occurs(object(robot,charger),action(move,(2,2)),3)\n",
      "occurs(object(robot,worker),action(move,(3,3)),3)\n",
      "observe(object(robot,charger),value(at,(2,2)),4)\n",
      "observe(object(robot,worker),value(at,(3,3)),4)\n",
      "}\n",
      "Answer 2:{\n",
      "observe(object(robot,charger),value(at,(2,2)),0)\n",
      "observe(object(robot,worker),value(at,(1,1)),0)\n",
      "occurs(object(robot,charger),action(move,(1,2)),0)\n",
      "occurs(object(robot,worker),action(move,(2,1)),0)\n",
      "observe(object(robot,charger),value(at,(1,2)),1)\n",
      "observe(object(robot,worker),value(at,(2,1)),1)\n",
      "occurs(object(robot,charger),action(move,(1,1)),1)\n",
      "occurs(object(robot,worker),action(move,(2,2)),1)\n",
      "observe(object(robot,charger),value(at,(1,1)),2)\n",
      "observe(object(robot,worker),value(at,(2,2)),2)\n",
      "occurs(object(robot,charger),action(move,(1,2)),2)\n",
      "occurs(object(robot,worker),action(move,(2,3)),2)\n",
      "observe(object(robot,charger),value(at,(1,2)),3)\n",
      "observe(object(robot,worker),value(at,(2,3)),3)\n",
      "occurs(object(robot,charger),action(move,(2,2)),3)\n",
      "occurs(object(robot,worker),action(move,(3,3)),3)\n",
      "observe(object(robot,charger),value(at,(2,2)),4)\n",
      "observe(object(robot,worker),value(at,(3,3)),4)\n",
      "}\n",
      "Answer 3:{\n",
      "observe(object(robot,charger),value(at,(2,2)),0)\n",
      "observe(object(robot,worker),value(at,(1,1)),0)\n",
      "occurs(object(robot,charger),action(move,(1,2)),0)\n",
      "occurs(object(robot,worker),action(move,(2,1)),0)\n",
      "observe(object(robot,charger),value(at,(1,2)),1)\n",
      "observe(object(robot,worker),value(at,(2,1)),1)\n",
      "occurs(object(robot,charger),action(move,(1,1)),1)\n",
      "occurs(object(robot,worker),action(move,(2,2)),1)\n",
      "observe(object(robot,charger),value(at,(1,1)),2)\n",
      "observe(object(robot,worker),value(at,(2,2)),2)\n",
      "occurs(object(robot,charger),action(move,(2,1)),2)\n",
      "occurs(object(robot,worker),action(move,(2,3)),2)\n",
      "observe(object(robot,charger),value(at,(2,1)),3)\n",
      "observe(object(robot,worker),value(at,(2,3)),3)\n",
      "occurs(object(robot,charger),action(move,(2,2)),3)\n",
      "occurs(object(robot,worker),action(move,(3,3)),3)\n",
      "observe(object(robot,charger),value(at,(2,2)),4)\n",
      "observe(object(robot,worker),value(at,(3,3)),4)\n",
      "}\n",
      "Answer 4:{\n",
      "observe(object(robot,charger),value(at,(2,2)),0)\n",
      "observe(object(robot,worker),value(at,(1,1)),0)\n",
      "occurs(object(robot,charger),action(move,(3,2)),0)\n",
      "occurs(object(robot,worker),action(move,(1,2)),0)\n",
      "observe(object(robot,charger),value(at,(3,2)),1)\n",
      "observe(object(robot,worker),value(at,(1,2)),1)\n",
      "occurs(object(robot,charger),action(move,(3,3)),1)\n",
      "occurs(object(robot,worker),action(move,(2,2)),1)\n",
      "observe(object(robot,charger),value(at,(3,3)),2)\n",
      "observe(object(robot,worker),value(at,(2,2)),2)\n",
      "occurs(object(robot,charger),action(move,(3,2)),2)\n",
      "occurs(object(robot,worker),action(move,(2,3)),2)\n",
      "observe(object(robot,charger),value(at,(3,2)),3)\n",
      "observe(object(robot,worker),value(at,(2,3)),3)\n",
      "occurs(object(robot,charger),action(move,(2,2)),3)\n",
      "occurs(object(robot,worker),action(move,(3,3)),3)\n",
      "observe(object(robot,charger),value(at,(2,2)),4)\n",
      "observe(object(robot,worker),value(at,(3,3)),4)\n",
      "}\n",
      "Answer 5:{\n",
      "observe(object(robot,charger),value(at,(2,2)),0)\n",
      "observe(object(robot,worker),value(at,(1,1)),0)\n",
      "occurs(object(robot,charger),action(move,(2,3)),0)\n",
      "occurs(object(robot,worker),action(move,(1,2)),0)\n",
      "observe(object(robot,charger),value(at,(2,3)),1)\n",
      "observe(object(robot,worker),value(at,(1,2)),1)\n",
      "occurs(object(robot,charger),action(move,(3,3)),1)\n",
      "occurs(object(robot,worker),action(move,(2,2)),1)\n",
      "observe(object(robot,charger),value(at,(3,3)),2)\n",
      "observe(object(robot,worker),value(at,(2,2)),2)\n",
      "occurs(object(robot,charger),action(move,(3,2)),2)\n",
      "occurs(object(robot,worker),action(move,(2,3)),2)\n",
      "observe(object(robot,charger),value(at,(3,2)),3)\n",
      "observe(object(robot,worker),value(at,(2,3)),3)\n",
      "occurs(object(robot,charger),action(move,(2,2)),3)\n",
      "occurs(object(robot,worker),action(move,(3,3)),3)\n",
      "observe(object(robot,charger),value(at,(2,2)),4)\n",
      "observe(object(robot,worker),value(at,(3,3)),4)\n",
      "}\n",
      "Answer 6:{\n",
      "observe(object(robot,charger),value(at,(2,2)),0)\n",
      "observe(object(robot,worker),value(at,(1,1)),0)\n",
      "occurs(object(robot,charger),action(move,(3,2)),0)\n",
      "occurs(object(robot,worker),action(move,(2,1)),0)\n",
      "observe(object(robot,charger),value(at,(3,2)),1)\n",
      "observe(object(robot,worker),value(at,(2,1)),1)\n",
      "occurs(object(robot,charger),action(move,(3,3)),1)\n",
      "occurs(object(robot,worker),action(move,(2,2)),1)\n",
      "observe(object(robot,charger),value(at,(3,3)),2)\n",
      "observe(object(robot,worker),value(at,(2,2)),2)\n",
      "occurs(object(robot,charger),action(move,(3,2)),2)\n",
      "occurs(object(robot,worker),action(move,(2,3)),2)\n",
      "observe(object(robot,charger),value(at,(3,2)),3)\n",
      "observe(object(robot,worker),value(at,(2,3)),3)\n",
      "occurs(object(robot,charger),action(move,(2,2)),3)\n",
      "occurs(object(robot,worker),action(move,(3,3)),3)\n",
      "observe(object(robot,charger),value(at,(2,2)),4)\n",
      "observe(object(robot,worker),value(at,(3,3)),4)\n",
      "}\n",
      "Answer 7:{\n",
      "observe(object(robot,charger),value(at,(2,2)),0)\n",
      "observe(object(robot,worker),value(at,(1,1)),0)\n",
      "occurs(object(robot,charger),action(move,(2,3)),0)\n",
      "occurs(object(robot,worker),action(move,(2,1)),0)\n",
      "observe(object(robot,charger),value(at,(2,3)),1)\n",
      "observe(object(robot,worker),value(at,(2,1)),1)\n",
      "occurs(object(robot,charger),action(move,(3,3)),1)\n",
      "occurs(object(robot,worker),action(move,(2,2)),1)\n",
      "observe(object(robot,charger),value(at,(3,3)),2)\n",
      "observe(object(robot,worker),value(at,(2,2)),2)\n",
      "occurs(object(robot,charger),action(move,(3,2)),2)\n",
      "occurs(object(robot,worker),action(move,(2,3)),2)\n",
      "observe(object(robot,charger),value(at,(3,2)),3)\n",
      "observe(object(robot,worker),value(at,(2,3)),3)\n",
      "occurs(object(robot,charger),action(move,(2,2)),3)\n",
      "occurs(object(robot,worker),action(move,(3,3)),3)\n",
      "observe(object(robot,charger),value(at,(2,2)),4)\n",
      "observe(object(robot,worker),value(at,(3,3)),4)\n",
      "}\n",
      "Answer 8:{\n",
      "observe(object(robot,charger),value(at,(2,2)),0)\n",
      "observe(object(robot,worker),value(at,(1,1)),0)\n",
      "occurs(object(robot,charger),action(move,(3,2)),0)\n",
      "occurs(object(robot,worker),action(move,(2,1)),0)\n",
      "observe(object(robot,charger),value(at,(3,2)),1)\n",
      "observe(object(robot,worker),value(at,(2,1)),1)\n",
      "occurs(object(robot,charger),action(wait,()),1)\n",
      "occurs(object(robot,worker),action(move,(2,2)),1)\n",
      "observe(object(robot,charger),value(at,(3,2)),2)\n",
      "observe(object(robot,worker),value(at,(2,2)),2)\n",
      "occurs(object(robot,charger),action(wait,()),2)\n",
      "occurs(object(robot,worker),action(move,(2,3)),2)\n",
      "observe(object(robot,charger),value(at,(3,2)),3)\n",
      "observe(object(robot,worker),value(at,(2,3)),3)\n",
      "occurs(object(robot,charger),action(move,(2,2)),3)\n",
      "occurs(object(robot,worker),action(move,(3,3)),3)\n",
      "observe(object(robot,charger),value(at,(2,2)),4)\n",
      "observe(object(robot,worker),value(at,(3,3)),4)\n",
      "}\n",
      "Answer 9:{\n",
      "observe(object(robot,charger),value(at,(2,2)),0)\n",
      "observe(object(robot,worker),value(at,(1,1)),0)\n",
      "occurs(object(robot,charger),action(move,(3,2)),0)\n",
      "occurs(object(robot,worker),action(move,(1,2)),0)\n",
      "observe(object(robot,charger),value(at,(3,2)),1)\n",
      "observe(object(robot,worker),value(at,(1,2)),1)\n",
      "occurs(object(robot,charger),action(wait,()),1)\n",
      "occurs(object(robot,worker),action(move,(2,2)),1)\n",
      "observe(object(robot,charger),value(at,(3,2)),2)\n",
      "observe(object(robot,worker),value(at,(2,2)),2)\n",
      "occurs(object(robot,charger),action(wait,()),2)\n",
      "occurs(object(robot,worker),action(move,(2,3)),2)\n",
      "observe(object(robot,charger),value(at,(3,2)),3)\n",
      "observe(object(robot,worker),value(at,(2,3)),3)\n",
      "occurs(object(robot,charger),action(move,(2,2)),3)\n",
      "occurs(object(robot,worker),action(move,(3,3)),3)\n",
      "observe(object(robot,charger),value(at,(2,2)),4)\n",
      "observe(object(robot,worker),value(at,(3,3)),4)\n",
      "}\n",
      "Answer 10:{\n",
      "observe(object(robot,charger),value(at,(2,2)),0)\n",
      "observe(object(robot,worker),value(at,(1,1)),0)\n",
      "occurs(object(robot,charger),action(move,(2,1)),0)\n",
      "occurs(object(robot,worker),action(move,(1,2)),0)\n",
      "observe(object(robot,charger),value(at,(2,1)),1)\n",
      "observe(object(robot,worker),value(at,(1,2)),1)\n",
      "occurs(object(robot,charger),action(move,(1,1)),1)\n",
      "occurs(object(robot,worker),action(move,(2,2)),1)\n",
      "observe(object(robot,charger),value(at,(1,1)),2)\n",
      "observe(object(robot,worker),value(at,(2,2)),2)\n",
      "occurs(object(robot,charger),action(move,(1,2)),2)\n",
      "occurs(object(robot,worker),action(move,(2,3)),2)\n",
      "observe(object(robot,charger),value(at,(1,2)),3)\n",
      "observe(object(robot,worker),value(at,(2,3)),3)\n",
      "occurs(object(robot,charger),action(move,(2,2)),3)\n",
      "occurs(object(robot,worker),action(move,(3,3)),3)\n",
      "observe(object(robot,charger),value(at,(2,2)),4)\n",
      "observe(object(robot,worker),value(at,(3,3)),4)\n",
      "}\n",
      "SAT 10+\n"
     ]
    }
   ],
   "source": [
    "plans = solve(ctl)"
   ],
   "metadata": {
    "collapsed": false,
    "pycharm": {
     "name": "#%%\n"
    }
   }
  },
  {
   "cell_type": "code",
   "execution_count": 336,
   "outputs": [],
   "source": [
    "observed = [\n",
    " Function('observe', [Function('object', [Function('robot', []), Function('charger', [])]), Function('value', [Function('at', []), Function('', [Number(2), Number(2)])]), Number(0)]),\n",
    " Function('observe', [Function('object', [Function('robot', []), Function('worker', [])] ), Function('value', [Function('at', []), Function('', [Number(1), Number(1)])]), Number(0)]),\n",
    " Function('observe', [Function('object', [Function('robot', []), Function('charger', [])]), Function('value', [Function('at', []), Function('', [Number(2), Number(2)])]), Number(1)]),\n",
    " Function('observe', [Function('object', [Function('robot', []), Function('worker', [])] ), Function('value', [Function('at', []), Function('', [Number(1), Number(1)])]), Number(1)]),\n",
    " Function('observe', [Function('object', [Function('robot', []), Function('charger', [])]), Function('value', [Function('at', []), Function('', [Number(2), Number(2)])]), Number(2)]),\n",
    " Function('observe', [Function('object', [Function('robot', []), Function('worker', [])] ), Function('value', [Function('at', []), Function('', [Number(1), Number(1)])]), Number(2)]),\n",
    " Function('observe', [Function('object', [Function('robot', []), Function('charger', [])]), Function('value', [Function('at', []), Function('', [Number(2), Number(2)])]), Number(3)]),\n",
    " Function('observe', [Function('object', [Function('robot', []), Function('worker', [])] ), Function('value', [Function('at', []), Function('', [Number(1), Number(1)])]), Number(3)]),\n",
    " Function('observe', [Function('object', [Function('robot', []), Function('charger', [])]), Function('value', [Function('at', []), Function('', [Number(2), Number(2)])]), Number(4)]),\n",
    " Function('observe', [Function('object', [Function('robot', []), Function('worker', [])] ), Function('value', [Function('at', []), Function('', [Number(1), Number(1)])]), Number(4)])]"
   ],
   "metadata": {
    "collapsed": false,
    "pycharm": {
     "name": "#%%\n"
    }
   }
  },
  {
   "cell_type": "markdown",
   "source": [
    "This is done like in Algorithm 1"
   ],
   "metadata": {
    "collapsed": false
   }
  },
  {
   "cell_type": "code",
   "execution_count": 337,
   "outputs": [
    {
     "data": {
      "text/plain": "[Function('observe', [Function('object', [Function('robot', [], True), Function('charger', [], True)], True), Function('value', [Function('at', [], True), Function('', [Number(2), Number(2)], True)], True), Number(0)], True),\n Function('observe', [Function('object', [Function('robot', [], True), Function('worker', [], True)], True), Function('value', [Function('at', [], True), Function('', [Number(1), Number(1)], True)], True), Number(0)], True),\n Function('occurs', [Function('object', [Function('robot', [], True), Function('charger', [], True)], True), Function('action', [Function('move', [], True), Function('', [Number(1), Number(2)], True)], True), Number(0)], True),\n Function('occurs', [Function('object', [Function('robot', [], True), Function('worker', [], True)], True), Function('action', [Function('move', [], True), Function('', [Number(2), Number(1)], True)], True), Number(0)], True),\n Function('observe', [Function('object', [Function('robot', [], True), Function('charger', [], True)], True), Function('value', [Function('at', [], True), Function('', [Number(1), Number(2)], True)], True), Number(1)], True),\n Function('observe', [Function('object', [Function('robot', [], True), Function('worker', [], True)], True), Function('value', [Function('at', [], True), Function('', [Number(2), Number(1)], True)], True), Number(1)], True),\n Function('occurs', [Function('object', [Function('robot', [], True), Function('charger', [], True)], True), Function('action', [Function('wait', [], True), Function('', [], True)], True), Number(1)], True),\n Function('occurs', [Function('object', [Function('robot', [], True), Function('worker', [], True)], True), Function('action', [Function('move', [], True), Function('', [Number(2), Number(2)], True)], True), Number(1)], True),\n Function('observe', [Function('object', [Function('robot', [], True), Function('charger', [], True)], True), Function('value', [Function('at', [], True), Function('', [Number(1), Number(2)], True)], True), Number(2)], True),\n Function('observe', [Function('object', [Function('robot', [], True), Function('worker', [], True)], True), Function('value', [Function('at', [], True), Function('', [Number(2), Number(2)], True)], True), Number(2)], True),\n Function('occurs', [Function('object', [Function('robot', [], True), Function('charger', [], True)], True), Function('action', [Function('wait', [], True), Function('', [], True)], True), Number(2)], True),\n Function('occurs', [Function('object', [Function('robot', [], True), Function('worker', [], True)], True), Function('action', [Function('move', [], True), Function('', [Number(2), Number(3)], True)], True), Number(2)], True),\n Function('observe', [Function('object', [Function('robot', [], True), Function('charger', [], True)], True), Function('value', [Function('at', [], True), Function('', [Number(1), Number(2)], True)], True), Number(3)], True),\n Function('observe', [Function('object', [Function('robot', [], True), Function('worker', [], True)], True), Function('value', [Function('at', [], True), Function('', [Number(2), Number(3)], True)], True), Number(3)], True),\n Function('occurs', [Function('object', [Function('robot', [], True), Function('charger', [], True)], True), Function('action', [Function('move', [], True), Function('', [Number(2), Number(2)], True)], True), Number(3)], True),\n Function('occurs', [Function('object', [Function('robot', [], True), Function('worker', [], True)], True), Function('action', [Function('move', [], True), Function('', [Number(3), Number(3)], True)], True), Number(3)], True),\n Function('observe', [Function('object', [Function('robot', [], True), Function('charger', [], True)], True), Function('value', [Function('at', [], True), Function('', [Number(2), Number(2)], True)], True), Number(4)], True),\n Function('observe', [Function('object', [Function('robot', [], True), Function('worker', [], True)], True), Function('value', [Function('at', [], True), Function('', [Number(3), Number(3)], True)], True), Number(4)], True)]"
     },
     "execution_count": 337,
     "metadata": {},
     "output_type": "execute_result"
    }
   ],
   "source": [
    "i = 0\n",
    "plan = plans[0]\n",
    "plan"
   ],
   "metadata": {
    "collapsed": false,
    "pycharm": {
     "name": "#%%\n"
    }
   }
  },
  {
   "cell_type": "code",
   "execution_count": 338,
   "outputs": [],
   "source": [
    "actions = [symbol for symbol in plan if symbol.match('occurs', 3)]"
   ],
   "metadata": {
    "collapsed": false,
    "pycharm": {
     "name": "#%%\n"
    }
   }
  },
  {
   "cell_type": "code",
   "execution_count": 340,
   "outputs": [
    {
     "name": "stdout",
     "output_type": "stream",
     "text": [
      "Discrepancy in step 1\n",
      "observe(object(robot,charger),value(at,(2,2)),1)\n",
      "observe(object(robot,worker),value(at,(1,1)),1)\n",
      "Answer 1:{\n",
      "faulty(charger,base)\n",
      "faulty(worker,base)\n",
      "observe(object(robot,charger),value(at,(2,2)),0)\n",
      "observe(object(robot,charger),value(base,broken),0)\n",
      "observe(object(robot,worker),value(at,(1,1)),0)\n",
      "observe(object(robot,worker),value(base,broken),0)\n",
      "occurs(object(robot,charger),action(move,(1,2)),0)\n",
      "occurs(object(robot,worker),action(move,(2,1)),0)\n",
      "observe(object(robot,charger),value(at,(2,2)),1)\n",
      "observe(object(robot,charger),value(base,broken),1)\n",
      "observe(object(robot,worker),value(at,(1,1)),1)\n",
      "observe(object(robot,worker),value(base,broken),1)\n",
      "}\n",
      "SAT 1\n"
     ]
    },
    {
     "name": "stderr",
     "output_type": "stream",
     "text": [
      "<block>:1:34-49: info: no atoms over signature occur in program:\n",
      "  faulty/2\n",
      "\n",
      "<block>:1:1-17: info: no atoms over signature occur in program:\n",
      "  observe/3\n",
      "\n",
      "<block>:1:18-33: info: no atoms over signature occur in program:\n",
      "  occurs/3\n",
      "\n"
     ]
    },
    {
     "data": {
      "text/plain": "2"
     },
     "execution_count": 340,
     "metadata": {},
     "output_type": "execute_result"
    }
   ],
   "source": [
    "if i < k: # simulate a while loop by repeatedly running 'Run cell'\n",
    "    o = [symbol for symbol in observed if symbol.match('observe', 3) and symbol.arguments[-1].number == i]\n",
    "    e = [symbol for symbol in plan if symbol.match('observe', 3) and symbol.arguments[-1].number == i]\n",
    "    os = set(o)\n",
    "    es = set(e)\n",
    "    discrepancy = os != es\n",
    "    if discrepancy:\n",
    "        print('Discrepancy in step', i)\n",
    "        diag = clingo.Control()\n",
    "        diag.configuration.solve.models = 6\n",
    "        diag.add('base', [], static_rules)\n",
    "        diag.add('base', [], diagnose_rules)\n",
    "        diag.add('base', [], breakable)\n",
    "        diag.add('base', [], instance)\n",
    "        diag.add('diagnose', ['k'], diagnose)\n",
    "        diag.add('base', [], '#show observe/3. #show occurs/3. #show faulty/2.')\n",
    "        with SymbolicBackend(diag.backend()) as sb:\n",
    "            for action in actions:\n",
    "                if action.arguments[-1].number < i:\n",
    "                    sb.add_rule(head=(),pos_body=(),neg_body=[action])\n",
    "                    pass\n",
    "            for obs in o:\n",
    "                print(obs)\n",
    "                sb.add_rule(head=(), pos_body=(), neg_body=[obs])\n",
    "\n",
    "        diag.ground([('base', []), ('diagnose', [clingo.Number(i)])])\n",
    "        diagnosis = solve(diag)\n",
    "    i += 1\n",
    "i"
   ],
   "metadata": {
    "collapsed": false,
    "pycharm": {
     "name": "#%%\n"
    }
   }
  },
  {
   "cell_type": "code",
   "execution_count": 339,
   "outputs": [],
   "source": [],
   "metadata": {
    "collapsed": false,
    "pycharm": {
     "name": "#%%\n"
    }
   }
  }
 ],
 "metadata": {
  "kernelspec": {
   "display_name": "Python 3",
   "language": "python",
   "name": "python3"
  },
  "language_info": {
   "codemirror_mode": {
    "name": "ipython",
    "version": 2
   },
   "file_extension": ".py",
   "mimetype": "text/x-python",
   "name": "python",
   "nbconvert_exporter": "python",
   "pygments_lexer": "ipython2",
   "version": "2.7.6"
  }
 },
 "nbformat": 4,
 "nbformat_minor": 0
}