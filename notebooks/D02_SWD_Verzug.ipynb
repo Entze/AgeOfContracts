{
 "cells": [
  {
   "cell_type": "code",
   "execution_count": 1,
   "metadata": {
    "collapsed": true
   },
   "outputs": [],
   "source": [
    "import functools\n",
    "\n",
    "import clingo\n",
    "\n",
    "from typing import Sequence"
   ]
  },
  {
   "cell_type": "code",
   "execution_count": 2,
   "outputs": [],
   "source": [
    "def solve(programs: Sequence[str], grounding_context=None, sep:str=' ', report_answersets=True):\n",
    "    ctl = clingo.Control((\"--models\", \"0\"))\n",
    "    for program in programs:\n",
    "        ctl.add(\"base\", (), program)\n",
    "\n",
    "    ctl.ground(((\"base\", ()),), grounding_context)\n",
    "\n",
    "    models = []\n",
    "\n",
    "    with ctl.solve(yield_=True) as solve_handle:\n",
    "        for i, model in enumerate(solve_handle):\n",
    "            assert isinstance(model, clingo.Model)\n",
    "            symbols = model.symbols(shown=True)\n",
    "            if report_answersets:\n",
    "                print(\"Answer {}: {}{}{}{}{}\".format(i + 1, \"{\", sep, sep.join(map(str, sorted(symbols))), sep, \"}\"))\n",
    "            models.append(symbols)\n",
    "        solve_result = solve_handle.get()\n",
    "        cardinality_suffix = \"\"\n",
    "        if not solve_result.exhausted:\n",
    "            cardinality_suffix = \"+\"\n",
    "        print(solve_result, \"{}{}\".format(len(models), cardinality_suffix))\n",
    "\n",
    "    return models\n",
    "run = functools.partial(solve, report_answersets=False)"
   ],
   "metadata": {
    "collapsed": false,
    "pycharm": {
     "name": "#%%\n"
    }
   }
  },
  {
   "cell_type": "code",
   "execution_count": 3,
   "outputs": [],
   "source": [
    "def check(programs: Sequence[str], consistency_checks:str, grounding_context=None):\n",
    "    print(\"Run without checks:\")\n",
    "    wo_checks = solve(programs, grounding_context, report_answersets=False)\n",
    "    print(\"Run with checks:\")\n",
    "    w_checks = solve((*programs, consistency_checks), grounding_context, report_answersets=False)\n",
    "    return len(wo_checks) == len(w_checks)"
   ],
   "metadata": {
    "collapsed": false,
    "pycharm": {
     "name": "#%%\n"
    }
   }
  },
  {
   "cell_type": "code",
   "execution_count": 4,
   "outputs": [
    {
     "name": "stdout",
     "output_type": "stream",
     "text": [
      "SAT 1\n"
     ]
    }
   ],
   "source": [
    "resources = \"\"\"\n",
    "\n",
    "resource(\"Geld\").\n",
    "\n",
    "\"\"\"\n",
    "run([resources]);"
   ],
   "metadata": {
    "collapsed": false,
    "pycharm": {
     "name": "#%%\n"
    }
   }
  },
  {
   "cell_type": "code",
   "execution_count": 5,
   "outputs": [
    {
     "name": "stdout",
     "output_type": "stream",
     "text": [
      "SAT 1\n"
     ]
    }
   ],
   "source": [
    "accounts = \"\"\"\n",
    "\n",
    "account(\"Lieferant:Geld\").\n",
    "account(\"Empfänger:Geld\").\n",
    "\n",
    "\"\"\"\n",
    "run([accounts]);"
   ],
   "metadata": {
    "collapsed": false,
    "pycharm": {
     "name": "#%%\n"
    }
   }
  },
  {
   "cell_type": "code",
   "execution_count": 6,
   "outputs": [
    {
     "name": "stdout",
     "output_type": "stream",
     "text": [
      "SAT 1\n"
     ]
    }
   ],
   "source": [
    "agents = \"\"\"\n",
    "\n",
    "agent(\"Lieferant\").\n",
    "agent(\"Empfänger\").\n",
    "\n",
    "\"\"\"\n",
    "run([agents]);"
   ],
   "metadata": {
    "collapsed": false,
    "pycharm": {
     "name": "#%%\n"
    }
   }
  },
  {
   "cell_type": "code",
   "execution_count": 7,
   "outputs": [
    {
     "name": "stdout",
     "output_type": "stream",
     "text": [
      "Answer 1: { coordinates((1,1)) coordinates((1,2)) coordinates((1,3)) coordinates((1,4)) coordinates((2,1)) coordinates((2,2)) coordinates((2,3)) coordinates((2,4)) coordinates((3,1)) coordinates((3,2)) coordinates((3,3)) coordinates((3,4)) height(4) width(3) adjacent((1,1),(1,2)) adjacent((1,1),(2,1)) adjacent((1,2),(1,1)) adjacent((1,2),(1,3)) adjacent((1,2),(2,2)) adjacent((1,3),(1,2)) adjacent((1,3),(1,4)) adjacent((1,3),(2,3)) adjacent((1,4),(1,3)) adjacent((1,4),(2,4)) adjacent((2,1),(1,1)) adjacent((2,1),(2,2)) adjacent((2,1),(3,1)) adjacent((2,2),(1,2)) adjacent((2,2),(2,1)) adjacent((2,2),(2,3)) adjacent((2,2),(3,2)) adjacent((2,3),(1,3)) adjacent((2,3),(2,2)) adjacent((2,3),(2,4)) adjacent((2,3),(3,3)) adjacent((2,4),(1,4)) adjacent((2,4),(2,3)) adjacent((2,4),(3,4)) adjacent((3,1),(2,1)) adjacent((3,1),(3,2)) adjacent((3,2),(2,2)) adjacent((3,2),(3,1)) adjacent((3,2),(3,3)) adjacent((3,3),(2,3)) adjacent((3,3),(3,2)) adjacent((3,3),(3,4)) adjacent((3,4),(2,4)) adjacent((3,4),(3,3)) diagonal((1,1),(2,2)) diagonal((1,2),(2,1)) diagonal((1,2),(2,3)) diagonal((1,3),(2,2)) diagonal((1,3),(2,4)) diagonal((1,4),(2,3)) diagonal((2,1),(1,2)) diagonal((2,1),(3,2)) diagonal((2,2),(1,1)) diagonal((2,2),(1,3)) diagonal((2,2),(3,1)) diagonal((2,2),(3,3)) diagonal((2,3),(1,2)) diagonal((2,3),(1,4)) diagonal((2,3),(3,2)) diagonal((2,3),(3,4)) diagonal((2,4),(1,3)) diagonal((2,4),(3,3)) diagonal((3,1),(2,2)) diagonal((3,2),(2,1)) diagonal((3,2),(2,3)) diagonal((3,3),(2,2)) diagonal((3,3),(2,4)) diagonal((3,4),(2,3)) surrounding((1,1),(1,2)) surrounding((1,1),(2,1)) surrounding((1,1),(2,2)) surrounding((1,2),(1,1)) surrounding((1,2),(1,3)) surrounding((1,2),(2,1)) surrounding((1,2),(2,2)) surrounding((1,2),(2,3)) surrounding((1,3),(1,2)) surrounding((1,3),(1,4)) surrounding((1,3),(2,2)) surrounding((1,3),(2,3)) surrounding((1,3),(2,4)) surrounding((1,4),(1,3)) surrounding((1,4),(2,3)) surrounding((1,4),(2,4)) surrounding((2,1),(1,1)) surrounding((2,1),(1,2)) surrounding((2,1),(2,2)) surrounding((2,1),(3,1)) surrounding((2,1),(3,2)) surrounding((2,2),(1,1)) surrounding((2,2),(1,2)) surrounding((2,2),(1,3)) surrounding((2,2),(2,1)) surrounding((2,2),(2,3)) surrounding((2,2),(3,1)) surrounding((2,2),(3,2)) surrounding((2,2),(3,3)) surrounding((2,3),(1,2)) surrounding((2,3),(1,3)) surrounding((2,3),(1,4)) surrounding((2,3),(2,2)) surrounding((2,3),(2,4)) surrounding((2,3),(3,2)) surrounding((2,3),(3,3)) surrounding((2,3),(3,4)) surrounding((2,4),(1,3)) surrounding((2,4),(1,4)) surrounding((2,4),(2,3)) surrounding((2,4),(3,3)) surrounding((2,4),(3,4)) surrounding((3,1),(2,1)) surrounding((3,1),(2,2)) surrounding((3,1),(3,2)) surrounding((3,2),(2,1)) surrounding((3,2),(2,2)) surrounding((3,2),(2,3)) surrounding((3,2),(3,1)) surrounding((3,2),(3,3)) surrounding((3,3),(2,2)) surrounding((3,3),(2,3)) surrounding((3,3),(2,4)) surrounding((3,3),(3,2)) surrounding((3,3),(3,4)) surrounding((3,4),(2,3)) surrounding((3,4),(2,4)) surrounding((3,4),(3,3)) }\n",
      "SAT 1\n"
     ]
    }
   ],
   "source": [
    "gridworld = \"\"\"\n",
    "\n",
    "width(3).\n",
    "height(4).\n",
    "\n",
    "coordinates((1..W,1..H)) :- width(W), height(H).\n",
    "\n",
    "adjacent(P1, P2) :-\n",
    "  coordinates(P1), coordinates(P2),\n",
    "  P1 = (X1, Y1),\n",
    "  P2 = (X2, Y2),\n",
    "  |X1 - X2| + |Y1 - Y2| = 1.\n",
    "\n",
    "diagonal(P1, P2) :-\n",
    "  coordinates(P1), coordinates(P2),\n",
    "  P1 = (X1, Y1),\n",
    "  P2 = (X2, Y2),\n",
    "  |X1 - X2| = 1,\n",
    "  |Y1 - Y2| = 1.\n",
    "\n",
    "surrounding(P1, P2) :-\n",
    "  diagonal(P1, P2).\n",
    "surrounding(P1, P2) :-\n",
    "  adjacent(P1, P2).\n",
    "\n",
    "\"\"\"\n",
    "solve([gridworld]);"
   ],
   "metadata": {
    "collapsed": false,
    "pycharm": {
     "name": "#%%\n"
    }
   }
  },
  {
   "cell_type": "code",
   "execution_count": 8,
   "outputs": [
    {
     "name": "stdout",
     "output_type": "stream",
     "text": [
      "SAT 1\n"
     ]
    }
   ],
   "source": [
    "objectTypes = \"\"\"\n",
    "\n",
    "objectType(pipeline).\n",
    "objectType(valve).\n",
    "\n",
    "\"\"\"\n",
    "run([objectTypes]);"
   ],
   "metadata": {
    "collapsed": false,
    "pycharm": {
     "name": "#%%\n"
    }
   }
  },
  {
   "cell_type": "code",
   "execution_count": 9,
   "outputs": [
    {
     "name": "stdout",
     "output_type": "stream",
     "text": [
      "SAT 1\n"
     ]
    }
   ],
   "source": [
    "actions = \"\"\"\n",
    "\n",
    "\"\"\"\n",
    "run([actions]);"
   ],
   "metadata": {
    "collapsed": false,
    "pycharm": {
     "name": "#%%\n"
    }
   }
  },
  {
   "cell_type": "code",
   "execution_count": 10,
   "outputs": [
    {
     "name": "stdout",
     "output_type": "stream",
     "text": [
      "SAT 1\n"
     ]
    }
   ],
   "source": [
    "items = \"\"\"\n",
    "\n",
    "item(\"Lieferung\").\n",
    "item(\"Bezahlung\").\n",
    "\n",
    "\"\"\"\n",
    "run([items]);"
   ],
   "metadata": {
    "collapsed": false,
    "pycharm": {
     "name": "#%%\n"
    }
   }
  },
  {
   "cell_type": "code",
   "execution_count": 11,
   "outputs": [
    {
     "name": "stdout",
     "output_type": "stream",
     "text": [
      "SAT 1\n"
     ]
    }
   ],
   "source": [
    "attainment = \"\"\"\n",
    "\n",
    "attainment(object_change(object(pipeline, sink), change(liquidLevel, full))).\n",
    "attainment(object_event(object(account, \"Lieferant:Geld\"), event(transaction, (3, \"Geld\")))).\n",
    "\n",
    "\"\"\"\n",
    "run([attainment]);"
   ],
   "metadata": {
    "collapsed": false,
    "pycharm": {
     "name": "#%%\n"
    }
   }
  },
  {
   "cell_type": "code",
   "execution_count": 12,
   "outputs": [
    {
     "name": "stdout",
     "output_type": "stream",
     "text": [
      "SAT 1\n"
     ]
    },
    {
     "name": "stderr",
     "output_type": "stream",
     "text": [
      "<block>:4:3-19: info: atom does not occur in any rule head:\n",
      "  account(Account)\n",
      "\n",
      "<block>:4:21-28: info: atom does not occur in any rule head:\n",
      "  time(T)\n",
      "\n",
      "<block>:5:3-67: info: atom does not occur in any rule head:\n",
      "  observe(object(account,Account),value(balance,OldBalance),T)\n",
      "\n",
      "<block>:8:27-87: info: atom does not occur in any rule head:\n",
      "  occurs(object(account,Account),event(income,(N,Res)),T)\n",
      "\n",
      "<block>:9:29-90: info: atom does not occur in any rule head:\n",
      "  occurs(object(account,Account),event(expense,(N,Res)),T)\n",
      "\n",
      "<block>:10:44-135: info: atom does not occur in any rule head:\n",
      "  occurs(object(account,Account),event(transaction,((N,Res),Account,Into,Because)),T)\n",
      "\n",
      "<block>:10:137-150: info: atom does not occur in any rule head:\n",
      "  account(Into)\n",
      "\n",
      "<block>:11:41-132: info: atom does not occur in any rule head:\n",
      "  occurs(object(account,Account),event(transaction,((N,Res),From,Account,Because)),T)\n",
      "\n",
      "<block>:11:134-147: info: atom does not occur in any rule head:\n",
      "  account(From)\n",
      "\n"
     ]
    }
   ],
   "source": [
    "balance_rules = \"\"\"\n",
    "\n",
    "occurs(object(account, Account), change(balance, OldBalance + Change), T) :-\n",
    "  account(Account), time(T),\n",
    "  observe(object(account, Account), value(balance, OldBalance), T),\n",
    "  Change = Income + Expense + Withdrawn + Deposit,\n",
    "  Change != 0,\n",
    "  Income = #sum { N,Res : occurs(object(account, Account), event(income, (N, Res)), T) },\n",
    "  Expense = #sum { -N,Res : occurs(object(account, Account), event(expense, (N, Res)), T) },\n",
    "  Withdrawn = #sum { -N,Res,Because,Into : occurs(object(account, Account), event(transaction, ((N, Res), Account, Into, Because)), T), account(Into) },\n",
    "  Deposit = #sum { N,Res,Because,From : occurs(object(account, Account), event(transaction, ((N, Res), From, Account, Because)), T), account(From) }.\n",
    "\n",
    "\"\"\"\n",
    "run([balance_rules]);"
   ],
   "metadata": {
    "collapsed": false,
    "pycharm": {
     "name": "#%%\n"
    }
   }
  },
  {
   "cell_type": "code",
   "execution_count": 13,
   "outputs": [
    {
     "name": "stdout",
     "output_type": "stream",
     "text": [
      "SAT 1\n"
     ]
    },
    {
     "name": "stderr",
     "output_type": "stream",
     "text": [
      "<block>:5:3-73: info: atom does not occur in any rule head:\n",
      "  observe(object(pipeline,A),value(connected,object(pipeline,B)),T)\n",
      "\n",
      "<block>:10:7-77: info: atom does not occur in any rule head:\n",
      "  observe(object(pipeline,#P0),value(connected,object(pipeline,#X1)),#X2)\n",
      "\n",
      "<block>:16:7-56: info: atom does not occur in any rule head:\n",
      "  observe(object(pipeline,A),value(flows,()),T)\n",
      "\n",
      "<block>:17:3-61: info: atom does not occur in any rule head:\n",
      "  observe(object(pipeline,A),value(liquidLevel,empty),T)\n",
      "\n",
      "<block>:20:3-52: info: atom does not occur in any rule head:\n",
      "  observe(object(pipeline,A),value(flows,()),T)\n",
      "\n",
      "<block>:21:3-73: info: atom does not occur in any rule head:\n",
      "  observe(object(pipeline,A),value(connected,object(pipeline,B)),T)\n",
      "\n",
      "<block>:22:3-60: info: atom does not occur in any rule head:\n",
      "  observe(object(pipeline,A),value(liquidLevel,full),T)\n",
      "\n"
     ]
    }
   ],
   "source": [
    "static_physics = \"\"\"\n",
    "\n",
    "occurs(object(pipeline, B), change(liquidLevel, empty), T) :-\n",
    "  occurs(object(pipeline, B), change(flows, object(pipeline, C)), T),\n",
    "  observe(object(pipeline, A), value(connected, object(pipeline, B)), T),\n",
    "  not occurs(object(pipeline, A), change(flows, object(pipeline, B)), T).\n",
    "\n",
    "occurs(object(pipeline, B), change(liquidLevel, empty), T) :-\n",
    "  occurs(object(pipeline, B), change(flows, object(pipeline, C)), T),\n",
    "  not observe(object(pipeline, _), value(connected, object(pipeline, B)), T).\n",
    "\n",
    "occurs(object(pipeline, C), change(liquidLevel, full), T) :-\n",
    "  occurs(object(pipeline, B), change(flows, object(pipeline, C)), T).\n",
    "\n",
    "occurs(object(pipeline, A), change(flows, ()), T) :-\n",
    "  not observe(object(pipeline, A), value(flows, ()), T),\n",
    "  observe(object(pipeline, A), value(liquidLevel, empty), T).\n",
    "\n",
    "occurs(object(pipeline, A), change(flows, object(pipeline, B)), T) :-\n",
    "  observe(object(pipeline, A), value(flows, ()), T),\n",
    "  observe(object(pipeline, A), value(connected, object(pipeline, B)), T),\n",
    "  observe(object(pipeline, A), value(liquidLevel, full), T).\n",
    "\n",
    "\n",
    "\"\"\"\n",
    "run([static_physics]);"
   ],
   "metadata": {
    "collapsed": false,
    "pycharm": {
     "name": "#%%\n"
    }
   }
  },
  {
   "cell_type": "code",
   "execution_count": 14,
   "outputs": [
    {
     "name": "stdout",
     "output_type": "stream",
     "text": [
      "SAT 1\n"
     ]
    },
    {
     "name": "stderr",
     "output_type": "stream",
     "text": [
      "<block>:4:3-79: info: atom does not occur in any rule head:\n",
      "  occurs(Provider,action(give,((Amount,Resource),From,Into,Because)),T)\n",
      "\n",
      "<block>:5:3-84: info: atom does not occur in any rule head:\n",
      "  occurs(Beneficiary,action(accept,((Amount,Resource),From,Into,Because)),T)\n",
      "\n",
      "<block>:8:3-79: info: atom does not occur in any rule head:\n",
      "  occurs(Provider,action(give,((Amount,Resource),From,Into,Because)),T)\n",
      "\n",
      "<block>:9:3-84: info: atom does not occur in any rule head:\n",
      "  occurs(Beneficiary,action(accept,((Amount,Resource),From,Into,Because)),T)\n",
      "\n",
      "<block>:12:3-44: info: atom does not occur in any rule head:\n",
      "  observe(Agent,value(at,Coordinates),T)\n",
      "\n",
      "<block>:13:3-58: info: atom does not occur in any rule head:\n",
      "  observe(object(pipeline,A),value(at,Coordinates),T)\n",
      "\n",
      "<block>:14:3-54: info: atom does not occur in any rule head:\n",
      "  occurs(Agent,action(fill,object(pipeline,A)),T)\n",
      "\n"
     ]
    }
   ],
   "source": [
    "action_consequences = \"\"\"\n",
    "\n",
    "occurs(object(account, From), event(transaction, ((Amount, Resource), From, Into, Because)), T) :-\n",
    "  occurs(Provider, action(give, ((Amount, Resource), From, Into, Because)), T),\n",
    "  occurs(Beneficiary, action(accept, ((Amount, Resource), From, Into, Because)), T).\n",
    "\n",
    "occurs(object(account, Into), event(transaction, ((Amount, Resource), From, Into, Because)), T) :-\n",
    "  occurs(Provider, action(give, ((Amount, Resource), From, Into, Because)), T),\n",
    "  occurs(Beneficiary, action(accept, ((Amount, Resource), From, Into, Because)), T).\n",
    "\n",
    "occurs(object(pipeline, A), change(liquidLevel, full), T) :-\n",
    "  observe(Agent, value(at, Coordinates), T),\n",
    "  observe(object(pipeline, A), value(at, Coordinates), T),\n",
    "  occurs(Agent, action(fill, object(pipeline, A)), T).\n",
    "\n",
    "\"\"\"\n",
    "run([action_consequences]);"
   ],
   "metadata": {
    "collapsed": false,
    "pycharm": {
     "name": "#%%\n"
    }
   }
  },
  {
   "cell_type": "code",
   "execution_count": 15,
   "outputs": [
    {
     "name": "stdout",
     "output_type": "stream",
     "text": [
      "SAT 1\n"
     ]
    },
    {
     "name": "stderr",
     "output_type": "stream",
     "text": [
      "<block>:4:3-18: info: atom does not occur in any rule head:\n",
      "  init(Who,What)\n",
      "\n",
      "<block>:5:3-11: info: atom does not occur in any rule head:\n",
      "  time(ST)\n",
      "\n",
      "<block>:5:17-27: info: atom does not occur in any rule head:\n",
      "  time((ST+-1))\n",
      "\n",
      "<block>:8:3-12: info: atom does not occur in any rule head:\n",
      "  time((T+1))\n",
      "\n",
      "<block>:10:7-42: info: atom does not occur in any rule head:\n",
      "  occurs(#X0,change(#X1,#P2),#X3)\n",
      "\n",
      "<block>:13:3-12: info: atom does not occur in any rule head:\n",
      "  time((T+1))\n",
      "\n",
      "<block>:14:3-45: info: atom does not occur in any rule head:\n",
      "  occurs(Who,change(Property,NewValue),T)\n",
      "\n"
     ]
    }
   ],
   "source": [
    "static = \"\"\"\n",
    "\n",
    "observe(Who, What, ST) :-\n",
    "  init(Who, What),\n",
    "  time(ST), not time(ST-1).\n",
    "\n",
    "observe(Who, value(Property, Value), T+1) :-\n",
    "  time(T+1),\n",
    "  observe(Who, value(Property, Value), T),\n",
    "  not occurs(Who, change(Property, _), T).\n",
    "\n",
    "observe(Who, value(Property, NewValue), T+1) :-\n",
    "  time(T+1),\n",
    "  occurs(Who, change(Property, NewValue), T).\n",
    "\n",
    "\"\"\"\n",
    "run([static]);"
   ],
   "metadata": {
    "collapsed": false,
    "pycharm": {
     "name": "#%%\n"
    }
   }
  },
  {
   "cell_type": "code",
   "execution_count": 16,
   "outputs": [
    {
     "name": "stdout",
     "output_type": "stream",
     "text": [
      "SAT 1\n"
     ]
    }
   ],
   "source": [
    "contract_domain = \"\"\"\n",
    "\n",
    "contract(\"Wasser\").\n",
    "\n",
    "component(\"Lieferung\").\n",
    "component(\"Bezahlung\").\n",
    "\n",
    "contract_component(\"Wasser\", \"Lieferung\").\n",
    "contract_component(\"Wasser\", \"Bezahlung\").\n",
    "\n",
    "component_item(\"Lieferung\", \"Lieferung\").\n",
    "component_item(\"Bezahlung\", \"Bezahlung\").\n",
    "\n",
    "item_attainment(\"Lieferung\", object_change(object(pipeline, sink), change(liquidLevel, full))).\n",
    "item_attainment(\"Bezahlung\", object_event(object(account, \"Lieferant:Geld\"), event(transaction, (3, \"Geld\")))).\n",
    "\n",
    "component_provider(\"Lieferung\", \"Lieferant\").\n",
    "component_beneficiary(\"Lieferung\", \"Empfänger\").\n",
    "\n",
    "component_provider(\"Bezahlung\", \"Empfänger\").\n",
    "component_beneficiary(\"Bezahlung\", \"Lieferant\").\n",
    "\n",
    "component_deadline(\"Lieferung\", 4).\n",
    "component_deadline(\"Bezahlung\", 5).\n",
    "\n",
    "component(\"Lieferung Nachfrist\").\n",
    "\n",
    "component_deadline(\"Lieferung Nachfrist\", 7).\n",
    "\n",
    "component_conversion(\"Lieferung\", \"Lieferung Nachfrist\").\n",
    "\n",
    "\"\"\"\n",
    "run([contract_domain]);"
   ],
   "metadata": {
    "collapsed": false,
    "pycharm": {
     "name": "#%%\n"
    }
   }
  },
  {
   "cell_type": "code",
   "execution_count": 17,
   "outputs": [
    {
     "name": "stdout",
     "output_type": "stream",
     "text": [
      "Answer 1: {\n",
      "componentState(\"Gewährleistung\")\n",
      "componentState(\"Gewährleistung [GLE]\")\n",
      "componentState(\"Inaktiv\")\n",
      "componentState(\"Inaktiv [GLE]\")\n",
      "componentState(\"Initialisiert\")\n",
      "componentState(\"Initialisiert [GLE]\")\n",
      "componentState(\"Verzug (Schuldner)\")\n",
      "componentState(\"Verzug (Schuldner) [GLE]\")\n",
      "transitionAction(\"A\")\n",
      "transitionAction(\"GLE\")\n",
      "transitionAction(\"LE\")\n",
      "transitionAction(\"V(S)\")\n",
      "state_dualState(\"Gewährleistung\",\"Gewährleistung [GLE]\")\n",
      "state_dualState(\"Inaktiv\",\"Inaktiv [GLE]\")\n",
      "state_dualState(\"Initialisiert\",\"Initialisiert [GLE]\")\n",
      "state_dualState(\"Verzug (Schuldner)\",\"Verzug (Schuldner) [GLE]\")\n",
      "state_transAction_state(\"Gewährleistung\",\"GLE\",\"Gewährleistung [GLE]\")\n",
      "state_transAction_state(\"Inaktiv\",\"A\",\"Initialisiert\")\n",
      "state_transAction_state(\"Inaktiv\",\"A\",\"Initialisiert [GLE]\")\n",
      "state_transAction_state(\"Inaktiv\",\"GLE\",\"Inaktiv [GLE]\")\n",
      "state_transAction_state(\"Inaktiv\",\"GLE\",\"Initialisiert [GLE]\")\n",
      "state_transAction_state(\"Inaktiv [GLE]\",\"A\",\"Initialisiert [GLE]\")\n",
      "state_transAction_state(\"Initialisiert\",\"GLE\",\"Gewährleistung [GLE]\")\n",
      "state_transAction_state(\"Initialisiert\",\"GLE\",\"Initialisiert [GLE]\")\n",
      "state_transAction_state(\"Initialisiert\",\"GLE\",\"Verzug (Schuldner) [GLE]\")\n",
      "state_transAction_state(\"Initialisiert\",\"LE\",\"Gewährleistung\")\n",
      "state_transAction_state(\"Initialisiert\",\"LE\",\"Gewährleistung [GLE]\")\n",
      "state_transAction_state(\"Initialisiert\",\"V(S)\",\"Verzug (Schuldner)\")\n",
      "state_transAction_state(\"Initialisiert\",\"V(S)\",\"Verzug (Schuldner) [GLE]\")\n",
      "state_transAction_state(\"Initialisiert [GLE]\",\"LE\",\"Gewährleistung [GLE]\")\n",
      "state_transAction_state(\"Initialisiert [GLE]\",\"V(S)\",\"Verzug (Schuldner) [GLE]\")\n",
      "state_transAction_state(\"Verzug (Schuldner)\",\"GLE\",\"Verzug (Schuldner) [GLE]\")\n",
      "}\n",
      "SAT 1\n"
     ]
    },
    {
     "name": "stderr",
     "output_type": "stream",
     "text": [
      "<block>:42:3-46: info: atom does not occur in any rule head:\n",
      "  component_conversion(Component,Conversion)\n",
      "\n",
      "<block>:46:3-46: info: atom does not occur in any rule head:\n",
      "  component_conversion(Component,Conversion)\n",
      "\n",
      "<block>:50:3-46: info: atom does not occur in any rule head:\n",
      "  component_conversion(Component,Conversion)\n",
      "\n"
     ]
    }
   ],
   "source": [
    "contract_static = \"\"\"\n",
    "\n",
    "componentState(\"Inaktiv\").\n",
    "componentState(\"Initialisiert\").\n",
    "componentState(\"Gewährleistung\").\n",
    "componentState(\"Verzug (Schuldner)\").\n",
    "componentState(\"Inaktiv [GLE]\").\n",
    "componentState(\"Initialisiert [GLE]\").\n",
    "componentState(\"Gewährleistung [GLE]\").\n",
    "componentState(\"Verzug (Schuldner) [GLE]\").\n",
    "\n",
    "state_dualState(\"Inaktiv\", \"Inaktiv [GLE]\").\n",
    "state_dualState(\"Initialisiert\", \"Initialisiert [GLE]\").\n",
    "state_dualState(\"Gewährleistung\", \"Gewährleistung [GLE]\").\n",
    "state_dualState(\"Verzug (Schuldner)\", \"Verzug (Schuldner) [GLE]\").\n",
    "\n",
    "transitionAction(\"A\").\n",
    "transitionAction(\"GLE\").\n",
    "transitionAction(\"LE\").\n",
    "transitionAction(\"V(S)\").\n",
    "\n",
    "state_transAction_state(\"Inaktiv\", \"A\", \"Initialisiert\").\n",
    "state_transAction_state(\"Initialisiert\",\"LE\",\"Gewährleistung\").\n",
    "state_transAction_state(\"Initialisiert\",\"V(S)\",\"Verzug (Schuldner)\").\n",
    "\n",
    "state_transAction_state(Dual, TA, DualNext) :-\n",
    "  state_dualState(State, Dual),\n",
    "  state_dualState(Next, DualNext),\n",
    "  state_transAction_state(State, TA, Next).\n",
    "\n",
    "state_transAction_state(State, \"GLE\", DualState) :- state_dualState(State, DualState).\n",
    "\n",
    "state_transAction_state(State, \"GLE\", NextDualState) :-\n",
    "  state_transAction_state(State, TA, NextState),\n",
    "  state_dualState(NextState, NextDualState).\n",
    "\n",
    "state_transAction_state(State, TA, NextDualState) :-\n",
    "  state_transAction_state(State, TA, NextState),\n",
    "  state_dualState(NextState, NextDualState).\n",
    "\n",
    "component_item(Conversion, Item) :-\n",
    "  component_conversion(Component, Conversion),\n",
    "  component_item(Component, Item).\n",
    "\n",
    "component_provider(Conversion, Provider) :-\n",
    "  component_conversion(Component, Conversion),\n",
    "  component_provider(Component, Provider).\n",
    "\n",
    "component_beneficiary(Conversion, Provider) :-\n",
    "  component_conversion(Component, Conversion),\n",
    "  component_beneficiary(Component, Provider).\n",
    "\n",
    "\"\"\"\n",
    "solve([contract_static], sep='\\n');"
   ],
   "metadata": {
    "collapsed": false,
    "pycharm": {
     "name": "#%%\n"
    }
   }
  },
  {
   "cell_type": "code",
   "execution_count": 18,
   "outputs": [
    {
     "name": "stdout",
     "output_type": "stream",
     "text": [
      "SAT 1\n"
     ]
    },
    {
     "name": "stderr",
     "output_type": "stream",
     "text": [
      "<block>:4:2-22: info: atom does not occur in any rule head:\n",
      "  component(Component)\n",
      "\n",
      "<block>:4:24-39: info: atom does not occur in any rule head:\n",
      "  component(Dual)\n",
      "\n",
      "<block>:5:2-20: info: atom does not occur in any rule head:\n",
      "  contract(Contract)\n",
      "\n",
      "<block>:7:2-41: info: atom does not occur in any rule head:\n",
      "  contract_component(Contract,Component)\n",
      "\n",
      "<block>:7:43-77: info: atom does not occur in any rule head:\n",
      "  contract_component(Contract,Dual)\n",
      "\n",
      "<block>:11:3-23: info: atom does not occur in any rule head:\n",
      "  component(Component)\n",
      "\n",
      "<block>:11:25-50: info: atom does not occur in any rule head:\n",
      "  componentState(SuccState)\n",
      "\n",
      "<block>:11:52-61: info: atom does not occur in any rule head:\n",
      "  time((T+1))\n",
      "\n",
      "<block>:12:3-24: info: atom does not occur in any rule head:\n",
      "  componentState(State)\n",
      "\n",
      "<block>:12:26-55: info: atom does not occur in any rule head:\n",
      "  transitionAction(TransAction)\n",
      "\n",
      "<block>:14:3-57: info: atom does not occur in any rule head:\n",
      "  state_transAction_state(State,TransAction,SuccState)\n",
      "\n",
      "<block>:19:3-23: info: atom does not occur in any rule head:\n",
      "  component(Component)\n",
      "\n",
      "<block>:19:25-47: info: atom does not occur in any rule head:\n",
      "  componentState(State1)\n",
      "\n",
      "<block>:19:49-58: info: atom does not occur in any rule head:\n",
      "  time((T+1))\n",
      "\n",
      "<block>:20:3-24: info: atom does not occur in any rule head:\n",
      "  componentState(State)\n",
      "\n",
      "<block>:20:26-48: info: atom does not occur in any rule head:\n",
      "  componentState(State2)\n",
      "\n",
      "<block>:20:50-80: info: atom does not occur in any rule head:\n",
      "  transitionAction(TransAction1)\n",
      "\n",
      "<block>:20:82-112: info: atom does not occur in any rule head:\n",
      "  transitionAction(TransAction2)\n",
      "\n",
      "<block>:22:3-55: info: atom does not occur in any rule head:\n",
      "  state_transAction_state(State,TransAction1,State1)\n",
      "\n",
      "<block>:23:3-55: info: atom does not occur in any rule head:\n",
      "  state_transAction_state(State,TransAction2,State2)\n",
      "\n"
     ]
    }
   ],
   "source": [
    "contract_dynamic = \"\"\"\n",
    "\n",
    "component_dualComponent(Component, Dual) :-\n",
    " component(Component), component(Dual),\n",
    " contract(Contract),\n",
    " Component != Dual,\n",
    " contract_component(Contract, Component), contract_component(Contract, Dual).\n",
    "\n",
    "% If the transition event does not occur then there is no transition\n",
    "deontic(object(component, Component), value(impossible, SuccState), T+1) :-\n",
    "  component(Component), componentState(SuccState), time(T+1),\n",
    "  componentState(State), transitionAction(TransAction),\n",
    "  deontic(object(component, Component), value(state, State), T),\n",
    "  state_transAction_state(State, TransAction, SuccState),\n",
    "  not deontic(object(component, Component), event(TransAction), T).\n",
    "\n",
    "% If two states have the same successor state and both states can be reached they will not transition\n",
    "deontic(object(component, Component), value(impossible, State1), T+1) :-\n",
    "  component(Component), componentState(State1), time(T+1),\n",
    "  componentState(State), componentState(State2), transitionAction(TransAction1), transitionAction(TransAction2),\n",
    "  deontic(object(component, Component), value(state, State), T),\n",
    "  state_transAction_state(State, TransAction1, State1),\n",
    "  state_transAction_state(State, TransAction2, State2),\n",
    "  state_transAction_state(State1, TransAction2, SuccState),\n",
    "  state_transAction_state(State2, TransAction1, SuccState),\n",
    "  deontic(object(component, Component), event(TransAction1), T),\n",
    "  deontic(object(component, Component), event(TransAction2), T).\n",
    "\n",
    "% If a transition is not impossible then it will be executed\n",
    "deontic(object(component, Component), change(state, SuccState), T) :-\n",
    "  component(Component), componentState(SuccState), time(T),\n",
    "  componentState(State), time(T+1),\n",
    "  deontic(object(component, Component), value(state, State), T),\n",
    "  state_transAction_state(State, _, SuccState),\n",
    "  not deontic(object(component, Component), value(impossible, SuccState), T+1).\n",
    "\n",
    "% INERTIA\n",
    "deontic(object(component, Component), value(state, State), T+1) :-\n",
    "  component(Component), componentState(State), time(T+1),\n",
    "  time(T),\n",
    "  deontic(object(component, Component), value(state, State), T),\n",
    "  not deontic(object(component, Component), change(state, _), T).\n",
    "\n",
    "% TRANSITION\n",
    "deontic(object(component, Component), value(state, SuccState), T+1) :-\n",
    "  component(Component), componentState(SuccState), time(T+1),\n",
    "  time(T), componentState(State),\n",
    "  deontic(object(component, Component), value(state, State), T),\n",
    "  deontic(object(component, Component), change(state, SuccState), T).\n",
    "\n",
    "%%%\n",
    "deontic(object(component, Component), event(\"LE\"), T) :-\n",
    "  component(Component), time(T),\n",
    "  item(Item), attainment(Attainment),\n",
    "  component_item(Component, Item),\n",
    "  item_attainment(Item, Attainment),\n",
    "  Attainment = object_event(Object, Event),\n",
    "  Event = event(transaction, (Amount, Resource)),\n",
    "  occurs(Object, event(transaction, ((Amount, Resource), _, _ , Component)), T).\n",
    "\n",
    "deontic(object(component, Component), event(\"LE\"), T) :-\n",
    "  component(Component), time(T),\n",
    "  item(Item), attainment(Attainment), agent(Provider), agent(Beneficiary),\n",
    "  component_provider(Component, Provider),\n",
    "  component_beneficiary(Component, Beneficiary),\n",
    "  component_item(Component, Item),\n",
    "  item_attainment(Item, Attainment),\n",
    "  Attainment = object_event(Object, Event),\n",
    "  occurs(Object, Event, T).\n",
    "\n",
    "deontic(object(component, Component), event(\"LE\"), T) :-\n",
    "  component(Component), time(T),\n",
    "  item(Item), attainment(Attainment),\n",
    "  component_item(Component, Item),\n",
    "  item_attainment(Item, Attainment),\n",
    "  Attainment = object_value(Object, Value),\n",
    "  observe(Object, Value, T).\n",
    "\n",
    "deontic(object(component, Component), event(\"LE\"), T) :-\n",
    "  component(Component), time(T),\n",
    "  item(Item), attainment(Attainment),\n",
    "  component_item(Component, Item),\n",
    "  item_attainment(Item, Attainment),\n",
    "  Attainment = object_change(Object, Change),\n",
    "  occurs(Object, Change, T).\n",
    "\n",
    "deontic(object(component, Component), event(\"GLE\"),T) :-\n",
    "  component(Component), time(T),\n",
    "  component(Dual),\n",
    "  component_dualComponent(Component, Dual),\n",
    "  deontic(object(component, Dual), event(\"LE\"), T).\n",
    "\n",
    "deontic(object(component, Conversion), event(\"GLE\"),T) :-\n",
    "  component(Conversion), time(T),\n",
    "  component_conversion(Component, Conversion),\n",
    "  deontic(object(component, Component), event(\"GLE\"),T).\n",
    "\n",
    "deontic(object(component, Component), event(\"V(S)\"),T-1) :-\n",
    "  component_deadline(Component, T),\n",
    "  state_transAction_state(State, \"V(S)\", _),\n",
    "  not deontic(object(component, Component), event(\"LE\"), T-1),\n",
    "  deontic(object(component, Component), value(state, State), T-1).\n",
    "\n",
    "deontic(object(component, Conversion), event(\"A\"), T) :-\n",
    "  component_conversion(Component, Conversion),\n",
    "  deontic(object(component, Component), event(\"V(S)\"), T).\n",
    "\n",
    "\"\"\"\n",
    "run([contract_dynamic]);"
   ],
   "metadata": {
    "collapsed": false,
    "pycharm": {
     "name": "#%%\n"
    }
   }
  },
  {
   "cell_type": "code",
   "execution_count": 19,
   "outputs": [
    {
     "name": "stdout",
     "output_type": "stream",
     "text": [
      "SAT 1\n"
     ]
    }
   ],
   "source": [
    "instance = \"\"\"\n",
    "\n",
    "time(1..6).\n",
    "init(object(pipeline, source), value(at, (2,3))).\n",
    "init(object(pipeline, source), value(liquidLevel, empty)).\n",
    "init(object(pipeline, source), value(connected, object(pipeline, connect))).\n",
    "\n",
    "init(object(pipeline, sink), value(at, (2,1))).\n",
    "init(object(pipeline, sink), value(liquidLevel, empty)).\n",
    "\n",
    "init(object(pipeline, connect), value(at, (2,2))).\n",
    "init(object(pipeline, connect), value(liquidLevel, empty)).\n",
    "init(object(pipeline, connect), value(connected, object(pipeline, sink))).\n",
    "\n",
    "init(agent(\"Lieferant\"), value(at, (2,3))).\n",
    "init(agent(\"Empfänger\"), value(at, (2,1))).\n",
    "\n",
    "init(object(account, \"Lieferant:Geld\"), value(balance, 0)).\n",
    "init(object(account, \"Empfänger:Geld\"), value(balance, 3)).\n",
    "\n",
    "deontic(object(component, \"Bezahlung\"), value(state, \"Initialisiert\"), 1).\n",
    "deontic(object(component, \"Lieferung\"), value(state, \"Initialisiert\"), 1).\n",
    "deontic(object(component, \"Lieferung Nachfrist\"), value(state, \"Inaktiv\"), 1).\n",
    "\n",
    "occurs(agent(\"Lieferant\"), action(fill, object(pipeline, source)), 2).\n",
    "\n",
    "occurs(agent(\"Empfänger\"), action(give, ((3, \"Geld\"), \"Empfänger:Geld\", \"Lieferant:Geld\", \"Bezahlung\")), 4).\n",
    "occurs(agent(\"Lieferant\"), action(accept, ((3, \"Geld\"), \"Empfänger:Geld\", \"Lieferant:Geld\", \"Bezahlung\")), 4).\n",
    "\n",
    "\"\"\"\n",
    "run([instance]);"
   ],
   "metadata": {
    "collapsed": false,
    "pycharm": {
     "name": "#%%\n"
    }
   }
  },
  {
   "cell_type": "code",
   "execution_count": 20,
   "outputs": [],
   "source": [
    "prg = (\n",
    "    resources,\n",
    "    accounts,\n",
    "    agents,\n",
    "    gridworld,\n",
    "    objectTypes,\n",
    "    actions,\n",
    "    items,\n",
    "    attainment,\n",
    "    balance_rules,\n",
    "    static_physics,\n",
    "    static,\n",
    "    contract_domain,\n",
    "    contract_static,\n",
    "    contract_dynamic,\n",
    "    action_consequences,\n",
    "    instance\n",
    ")"
   ],
   "metadata": {
    "collapsed": false,
    "pycharm": {
     "name": "#%%\n"
    }
   }
  },
  {
   "cell_type": "code",
   "execution_count": 21,
   "outputs": [
    {
     "name": "stdout",
     "output_type": "stream",
     "text": [
      "Answer 1: {\n",
      "init(agent(\"Empfänger\"),value(at,(2,1)))\n",
      "init(agent(\"Lieferant\"),value(at,(2,3)))\n",
      "init(object(account,\"Empfänger:Geld\"),value(balance,3))\n",
      "init(object(account,\"Lieferant:Geld\"),value(balance,0))\n",
      "init(object(pipeline,connect),value(at,(2,2)))\n",
      "init(object(pipeline,connect),value(connected,object(pipeline,sink)))\n",
      "init(object(pipeline,connect),value(liquidLevel,empty))\n",
      "init(object(pipeline,sink),value(at,(2,1)))\n",
      "init(object(pipeline,sink),value(liquidLevel,empty))\n",
      "init(object(pipeline,source),value(at,(2,3)))\n",
      "init(object(pipeline,source),value(connected,object(pipeline,connect)))\n",
      "init(object(pipeline,source),value(liquidLevel,empty))\n",
      "deontic(object(component,\"Bezahlung\"),event(\"GLE\"),4)\n",
      "deontic(object(component,\"Bezahlung\"),event(\"LE\"),4)\n",
      "deontic(object(component,\"Bezahlung\"),change(state,\"Gewährleistung [GLE]\"),4)\n",
      "deontic(object(component,\"Bezahlung\"),value(impossible,\"Gewährleistung\"),2)\n",
      "deontic(object(component,\"Bezahlung\"),value(impossible,\"Gewährleistung\"),3)\n",
      "deontic(object(component,\"Bezahlung\"),value(impossible,\"Gewährleistung\"),4)\n",
      "deontic(object(component,\"Bezahlung\"),value(impossible,\"Gewährleistung\"),5)\n",
      "deontic(object(component,\"Bezahlung\"),value(impossible,\"Gewährleistung [GLE]\"),2)\n",
      "deontic(object(component,\"Bezahlung\"),value(impossible,\"Gewährleistung [GLE]\"),3)\n",
      "deontic(object(component,\"Bezahlung\"),value(impossible,\"Gewährleistung [GLE]\"),4)\n",
      "deontic(object(component,\"Bezahlung\"),value(impossible,\"Initialisiert [GLE]\"),2)\n",
      "deontic(object(component,\"Bezahlung\"),value(impossible,\"Initialisiert [GLE]\"),3)\n",
      "deontic(object(component,\"Bezahlung\"),value(impossible,\"Initialisiert [GLE]\"),4)\n",
      "deontic(object(component,\"Bezahlung\"),value(impossible,\"Initialisiert [GLE]\"),5)\n",
      "deontic(object(component,\"Bezahlung\"),value(impossible,\"Verzug (Schuldner)\"),2)\n",
      "deontic(object(component,\"Bezahlung\"),value(impossible,\"Verzug (Schuldner)\"),3)\n",
      "deontic(object(component,\"Bezahlung\"),value(impossible,\"Verzug (Schuldner)\"),4)\n",
      "deontic(object(component,\"Bezahlung\"),value(impossible,\"Verzug (Schuldner)\"),5)\n",
      "deontic(object(component,\"Bezahlung\"),value(impossible,\"Verzug (Schuldner) [GLE]\"),2)\n",
      "deontic(object(component,\"Bezahlung\"),value(impossible,\"Verzug (Schuldner) [GLE]\"),3)\n",
      "deontic(object(component,\"Bezahlung\"),value(impossible,\"Verzug (Schuldner) [GLE]\"),4)\n",
      "deontic(object(component,\"Bezahlung\"),value(impossible,\"Verzug (Schuldner) [GLE]\"),5)\n",
      "deontic(object(component,\"Bezahlung\"),value(state,\"Gewährleistung [GLE]\"),5)\n",
      "deontic(object(component,\"Bezahlung\"),value(state,\"Gewährleistung [GLE]\"),6)\n",
      "deontic(object(component,\"Bezahlung\"),value(state,\"Initialisiert\"),1)\n",
      "deontic(object(component,\"Bezahlung\"),value(state,\"Initialisiert\"),2)\n",
      "deontic(object(component,\"Bezahlung\"),value(state,\"Initialisiert\"),3)\n",
      "deontic(object(component,\"Bezahlung\"),value(state,\"Initialisiert\"),4)\n",
      "deontic(object(component,\"Lieferung\"),event(\"GLE\"),4)\n",
      "deontic(object(component,\"Lieferung\"),event(\"LE\"),4)\n",
      "deontic(object(component,\"Lieferung\"),event(\"V(S)\"),3)\n",
      "deontic(object(component,\"Lieferung\"),change(state,\"Verzug (Schuldner)\"),3)\n",
      "deontic(object(component,\"Lieferung\"),change(state,\"Verzug (Schuldner) [GLE]\"),4)\n",
      "deontic(object(component,\"Lieferung\"),value(impossible,\"Gewährleistung\"),2)\n",
      "deontic(object(component,\"Lieferung\"),value(impossible,\"Gewährleistung\"),3)\n",
      "deontic(object(component,\"Lieferung\"),value(impossible,\"Gewährleistung\"),4)\n",
      "deontic(object(component,\"Lieferung\"),value(impossible,\"Gewährleistung [GLE]\"),2)\n",
      "deontic(object(component,\"Lieferung\"),value(impossible,\"Gewährleistung [GLE]\"),3)\n",
      "deontic(object(component,\"Lieferung\"),value(impossible,\"Gewährleistung [GLE]\"),4)\n",
      "deontic(object(component,\"Lieferung\"),value(impossible,\"Initialisiert [GLE]\"),2)\n",
      "deontic(object(component,\"Lieferung\"),value(impossible,\"Initialisiert [GLE]\"),3)\n",
      "deontic(object(component,\"Lieferung\"),value(impossible,\"Initialisiert [GLE]\"),4)\n",
      "deontic(object(component,\"Lieferung\"),value(impossible,\"Verzug (Schuldner)\"),2)\n",
      "deontic(object(component,\"Lieferung\"),value(impossible,\"Verzug (Schuldner)\"),3)\n",
      "deontic(object(component,\"Lieferung\"),value(impossible,\"Verzug (Schuldner) [GLE]\"),2)\n",
      "deontic(object(component,\"Lieferung\"),value(impossible,\"Verzug (Schuldner) [GLE]\"),3)\n",
      "deontic(object(component,\"Lieferung\"),value(impossible,\"Verzug (Schuldner) [GLE]\"),4)\n",
      "deontic(object(component,\"Lieferung\"),value(state,\"Initialisiert\"),1)\n",
      "deontic(object(component,\"Lieferung\"),value(state,\"Initialisiert\"),2)\n",
      "deontic(object(component,\"Lieferung\"),value(state,\"Initialisiert\"),3)\n",
      "deontic(object(component,\"Lieferung\"),value(state,\"Verzug (Schuldner)\"),4)\n",
      "deontic(object(component,\"Lieferung\"),value(state,\"Verzug (Schuldner) [GLE]\"),5)\n",
      "deontic(object(component,\"Lieferung\"),value(state,\"Verzug (Schuldner) [GLE]\"),6)\n",
      "deontic(object(component,\"Lieferung Nachfrist\"),event(\"A\"),3)\n",
      "deontic(object(component,\"Lieferung Nachfrist\"),event(\"GLE\"),4)\n",
      "deontic(object(component,\"Lieferung Nachfrist\"),event(\"LE\"),4)\n",
      "deontic(object(component,\"Lieferung Nachfrist\"),change(state,\"Gewährleistung [GLE]\"),4)\n",
      "deontic(object(component,\"Lieferung Nachfrist\"),change(state,\"Initialisiert\"),3)\n",
      "deontic(object(component,\"Lieferung Nachfrist\"),value(impossible,\"Gewährleistung\"),5)\n",
      "deontic(object(component,\"Lieferung Nachfrist\"),value(impossible,\"Inaktiv [GLE]\"),2)\n",
      "deontic(object(component,\"Lieferung Nachfrist\"),value(impossible,\"Inaktiv [GLE]\"),3)\n",
      "deontic(object(component,\"Lieferung Nachfrist\"),value(impossible,\"Inaktiv [GLE]\"),4)\n",
      "deontic(object(component,\"Lieferung Nachfrist\"),value(impossible,\"Initialisiert\"),2)\n",
      "deontic(object(component,\"Lieferung Nachfrist\"),value(impossible,\"Initialisiert\"),3)\n",
      "deontic(object(component,\"Lieferung Nachfrist\"),value(impossible,\"Initialisiert [GLE]\"),2)\n",
      "deontic(object(component,\"Lieferung Nachfrist\"),value(impossible,\"Initialisiert [GLE]\"),3)\n",
      "deontic(object(component,\"Lieferung Nachfrist\"),value(impossible,\"Initialisiert [GLE]\"),4)\n",
      "deontic(object(component,\"Lieferung Nachfrist\"),value(impossible,\"Initialisiert [GLE]\"),5)\n",
      "deontic(object(component,\"Lieferung Nachfrist\"),value(impossible,\"Verzug (Schuldner)\"),5)\n",
      "deontic(object(component,\"Lieferung Nachfrist\"),value(impossible,\"Verzug (Schuldner) [GLE]\"),5)\n",
      "deontic(object(component,\"Lieferung Nachfrist\"),value(state,\"Gewährleistung [GLE]\"),5)\n",
      "deontic(object(component,\"Lieferung Nachfrist\"),value(state,\"Gewährleistung [GLE]\"),6)\n",
      "deontic(object(component,\"Lieferung Nachfrist\"),value(state,\"Inaktiv\"),1)\n",
      "deontic(object(component,\"Lieferung Nachfrist\"),value(state,\"Inaktiv\"),2)\n",
      "deontic(object(component,\"Lieferung Nachfrist\"),value(state,\"Inaktiv\"),3)\n",
      "deontic(object(component,\"Lieferung Nachfrist\"),value(state,\"Initialisiert\"),4)\n",
      "observe(agent(\"Empfänger\"),value(at,(2,1)),1)\n",
      "observe(agent(\"Empfänger\"),value(at,(2,1)),2)\n",
      "observe(agent(\"Empfänger\"),value(at,(2,1)),3)\n",
      "observe(agent(\"Empfänger\"),value(at,(2,1)),4)\n",
      "observe(agent(\"Empfänger\"),value(at,(2,1)),5)\n",
      "observe(agent(\"Empfänger\"),value(at,(2,1)),6)\n",
      "observe(agent(\"Lieferant\"),value(at,(2,3)),1)\n",
      "observe(agent(\"Lieferant\"),value(at,(2,3)),2)\n",
      "observe(agent(\"Lieferant\"),value(at,(2,3)),3)\n",
      "observe(agent(\"Lieferant\"),value(at,(2,3)),4)\n",
      "observe(agent(\"Lieferant\"),value(at,(2,3)),5)\n",
      "observe(agent(\"Lieferant\"),value(at,(2,3)),6)\n",
      "observe(object(account,\"Empfänger:Geld\"),value(balance,0),5)\n",
      "observe(object(account,\"Empfänger:Geld\"),value(balance,0),6)\n",
      "observe(object(account,\"Empfänger:Geld\"),value(balance,3),1)\n",
      "observe(object(account,\"Empfänger:Geld\"),value(balance,3),2)\n",
      "observe(object(account,\"Empfänger:Geld\"),value(balance,3),3)\n",
      "observe(object(account,\"Empfänger:Geld\"),value(balance,3),4)\n",
      "observe(object(account,\"Lieferant:Geld\"),value(balance,0),1)\n",
      "observe(object(account,\"Lieferant:Geld\"),value(balance,0),2)\n",
      "observe(object(account,\"Lieferant:Geld\"),value(balance,0),3)\n",
      "observe(object(account,\"Lieferant:Geld\"),value(balance,0),4)\n",
      "observe(object(account,\"Lieferant:Geld\"),value(balance,3),5)\n",
      "observe(object(account,\"Lieferant:Geld\"),value(balance,3),6)\n",
      "observe(object(pipeline,connect),value(at,(2,2)),1)\n",
      "observe(object(pipeline,connect),value(at,(2,2)),2)\n",
      "observe(object(pipeline,connect),value(at,(2,2)),3)\n",
      "observe(object(pipeline,connect),value(at,(2,2)),4)\n",
      "observe(object(pipeline,connect),value(at,(2,2)),5)\n",
      "observe(object(pipeline,connect),value(at,(2,2)),6)\n",
      "observe(object(pipeline,connect),value(connected,object(pipeline,sink)),1)\n",
      "observe(object(pipeline,connect),value(connected,object(pipeline,sink)),2)\n",
      "observe(object(pipeline,connect),value(connected,object(pipeline,sink)),3)\n",
      "observe(object(pipeline,connect),value(connected,object(pipeline,sink)),4)\n",
      "observe(object(pipeline,connect),value(connected,object(pipeline,sink)),5)\n",
      "observe(object(pipeline,connect),value(connected,object(pipeline,sink)),6)\n",
      "observe(object(pipeline,connect),value(flows,()),2)\n",
      "observe(object(pipeline,connect),value(flows,()),3)\n",
      "observe(object(pipeline,connect),value(flows,()),4)\n",
      "observe(object(pipeline,connect),value(flows,()),6)\n",
      "observe(object(pipeline,connect),value(flows,object(pipeline,sink)),5)\n",
      "observe(object(pipeline,connect),value(liquidLevel,empty),1)\n",
      "observe(object(pipeline,connect),value(liquidLevel,empty),2)\n",
      "observe(object(pipeline,connect),value(liquidLevel,empty),3)\n",
      "observe(object(pipeline,connect),value(liquidLevel,empty),5)\n",
      "observe(object(pipeline,connect),value(liquidLevel,empty),6)\n",
      "observe(object(pipeline,connect),value(liquidLevel,full),4)\n",
      "observe(object(pipeline,sink),value(at,(2,1)),1)\n",
      "observe(object(pipeline,sink),value(at,(2,1)),2)\n",
      "observe(object(pipeline,sink),value(at,(2,1)),3)\n",
      "observe(object(pipeline,sink),value(at,(2,1)),4)\n",
      "observe(object(pipeline,sink),value(at,(2,1)),5)\n",
      "observe(object(pipeline,sink),value(at,(2,1)),6)\n",
      "observe(object(pipeline,sink),value(flows,()),2)\n",
      "observe(object(pipeline,sink),value(flows,()),3)\n",
      "observe(object(pipeline,sink),value(flows,()),4)\n",
      "observe(object(pipeline,sink),value(flows,()),5)\n",
      "observe(object(pipeline,sink),value(flows,()),6)\n",
      "observe(object(pipeline,sink),value(liquidLevel,empty),1)\n",
      "observe(object(pipeline,sink),value(liquidLevel,empty),2)\n",
      "observe(object(pipeline,sink),value(liquidLevel,empty),3)\n",
      "observe(object(pipeline,sink),value(liquidLevel,empty),4)\n",
      "observe(object(pipeline,sink),value(liquidLevel,full),5)\n",
      "observe(object(pipeline,sink),value(liquidLevel,full),6)\n",
      "observe(object(pipeline,source),value(at,(2,3)),1)\n",
      "observe(object(pipeline,source),value(at,(2,3)),2)\n",
      "observe(object(pipeline,source),value(at,(2,3)),3)\n",
      "observe(object(pipeline,source),value(at,(2,3)),4)\n",
      "observe(object(pipeline,source),value(at,(2,3)),5)\n",
      "observe(object(pipeline,source),value(at,(2,3)),6)\n",
      "observe(object(pipeline,source),value(connected,object(pipeline,connect)),1)\n",
      "observe(object(pipeline,source),value(connected,object(pipeline,connect)),2)\n",
      "observe(object(pipeline,source),value(connected,object(pipeline,connect)),3)\n",
      "observe(object(pipeline,source),value(connected,object(pipeline,connect)),4)\n",
      "observe(object(pipeline,source),value(connected,object(pipeline,connect)),5)\n",
      "observe(object(pipeline,source),value(connected,object(pipeline,connect)),6)\n",
      "observe(object(pipeline,source),value(flows,()),2)\n",
      "observe(object(pipeline,source),value(flows,()),3)\n",
      "observe(object(pipeline,source),value(flows,()),5)\n",
      "observe(object(pipeline,source),value(flows,()),6)\n",
      "observe(object(pipeline,source),value(flows,object(pipeline,connect)),4)\n",
      "observe(object(pipeline,source),value(liquidLevel,empty),1)\n",
      "observe(object(pipeline,source),value(liquidLevel,empty),2)\n",
      "observe(object(pipeline,source),value(liquidLevel,empty),4)\n",
      "observe(object(pipeline,source),value(liquidLevel,empty),5)\n",
      "observe(object(pipeline,source),value(liquidLevel,empty),6)\n",
      "observe(object(pipeline,source),value(liquidLevel,full),3)\n",
      "occurs(agent(\"Empfänger\"),action(give,((3,\"Geld\"),\"Empfänger:Geld\",\"Lieferant:Geld\",\"Bezahlung\")),4)\n",
      "occurs(agent(\"Lieferant\"),action(accept,((3,\"Geld\"),\"Empfänger:Geld\",\"Lieferant:Geld\",\"Bezahlung\")),4)\n",
      "occurs(agent(\"Lieferant\"),action(fill,object(pipeline,source)),2)\n",
      "occurs(object(account,\"Empfänger:Geld\"),change(balance,0),4)\n",
      "occurs(object(account,\"Empfänger:Geld\"),event(transaction,((3,\"Geld\"),\"Empfänger:Geld\",\"Lieferant:Geld\",\"Bezahlung\")),4)\n",
      "occurs(object(account,\"Lieferant:Geld\"),change(balance,3),4)\n",
      "occurs(object(account,\"Lieferant:Geld\"),event(transaction,((3,\"Geld\"),\"Empfänger:Geld\",\"Lieferant:Geld\",\"Bezahlung\")),4)\n",
      "occurs(object(pipeline,connect),change(flows,()),1)\n",
      "occurs(object(pipeline,connect),change(flows,()),5)\n",
      "occurs(object(pipeline,connect),change(flows,object(pipeline,sink)),4)\n",
      "occurs(object(pipeline,connect),change(liquidLevel,empty),4)\n",
      "occurs(object(pipeline,connect),change(liquidLevel,full),3)\n",
      "occurs(object(pipeline,sink),change(flows,()),1)\n",
      "occurs(object(pipeline,sink),change(liquidLevel,full),4)\n",
      "occurs(object(pipeline,source),change(flows,()),1)\n",
      "occurs(object(pipeline,source),change(flows,()),4)\n",
      "occurs(object(pipeline,source),change(flows,object(pipeline,connect)),3)\n",
      "occurs(object(pipeline,source),change(liquidLevel,empty),3)\n",
      "occurs(object(pipeline,source),change(liquidLevel,full),2)\n",
      "}\n",
      "SAT 1\n"
     ]
    }
   ],
   "source": [
    "solve((*prg,\n",
    "       '#show init/2.',\n",
    "       '#show occurs/3.',\n",
    "       '#show observe/3.'\n",
    "       '#show deontic/3.'), sep='\\n');"
   ],
   "metadata": {
    "collapsed": false,
    "pycharm": {
     "name": "#%%\n"
    }
   }
  }
 ],
 "metadata": {
  "kernelspec": {
   "display_name": "Python 3",
   "language": "python",
   "name": "python3"
  },
  "language_info": {
   "codemirror_mode": {
    "name": "ipython",
    "version": 2
   },
   "file_extension": ".py",
   "mimetype": "text/x-python",
   "name": "python",
   "nbconvert_exporter": "python",
   "pygments_lexer": "ipython2",
   "version": "2.7.6"
  }
 },
 "nbformat": 4,
 "nbformat_minor": 0
}