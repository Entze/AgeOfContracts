{
 "cells": [
  {
   "cell_type": "code",
   "execution_count": 156,
   "metadata": {
    "collapsed": true
   },
   "outputs": [],
   "source": [
    "import functools\n",
    "\n",
    "import clingo\n",
    "\n",
    "from typing import Sequence"
   ]
  },
  {
   "cell_type": "code",
   "execution_count": 157,
   "outputs": [],
   "source": [
    "def solve(programs: Sequence[str], grounding_context=None, sep:str=' ', report_answersets=True):\n",
    "    ctl = clingo.Control((\"--models\", \"0\"))\n",
    "    for program in programs:\n",
    "        ctl.add(\"base\", (), program)\n",
    "\n",
    "    ctl.ground(((\"base\", ()),), grounding_context)\n",
    "\n",
    "    models = []\n",
    "\n",
    "    with ctl.solve(yield_=True) as solve_handle:\n",
    "        for i, model in enumerate(solve_handle):\n",
    "            assert isinstance(model, clingo.Model)\n",
    "            symbols = model.symbols(shown=True)\n",
    "            if report_answersets:\n",
    "                print(\"Answer {}: {}{}{}{}{}\".format(i + 1, \"{\", sep, sep.join(map(str, sorted(symbols))), sep, \"}\"))\n",
    "            models.append(symbols)\n",
    "        solve_result = solve_handle.get()\n",
    "        cardinality_suffix = \"\"\n",
    "        if not solve_result.exhausted:\n",
    "            cardinality_suffix = \"+\"\n",
    "        print(solve_result, \"{}{}\".format(len(models), cardinality_suffix))\n",
    "\n",
    "    return models\n",
    "run = functools.partial(solve, report_answersets=False)"
   ],
   "metadata": {
    "collapsed": false,
    "pycharm": {
     "name": "#%%\n"
    }
   }
  },
  {
   "cell_type": "code",
   "execution_count": 158,
   "outputs": [],
   "source": [
    "def check(programs: Sequence[str], consistency_checks:str, grounding_context=None):\n",
    "    print(\"Run without checks:\")\n",
    "    wo_checks = solve(programs, grounding_context, report_answersets=False)\n",
    "    print(\"Run with checks:\")\n",
    "    w_checks = solve((*programs, consistency_checks), grounding_context, report_answersets=False)\n",
    "    return len(wo_checks) == len(w_checks)"
   ],
   "metadata": {
    "collapsed": false,
    "pycharm": {
     "name": "#%%\n"
    }
   }
  },
  {
   "cell_type": "code",
   "execution_count": 159,
   "outputs": [
    {
     "name": "stdout",
     "output_type": "stream",
     "text": [
      "Answer 1: { coordinates((1,1)) coordinates((1,2)) coordinates((1,3)) coordinates((2,1)) coordinates((2,2)) coordinates((2,3)) coordinates((3,1)) coordinates((3,2)) coordinates((3,3)) height(3) width(3) adjacent((1,1),(1,2)) adjacent((1,1),(2,1)) adjacent((1,2),(1,1)) adjacent((1,2),(1,3)) adjacent((1,2),(2,2)) adjacent((1,3),(1,2)) adjacent((1,3),(2,3)) adjacent((2,1),(1,1)) adjacent((2,1),(2,2)) adjacent((2,1),(3,1)) adjacent((2,2),(1,2)) adjacent((2,2),(2,1)) adjacent((2,2),(2,3)) adjacent((2,2),(3,2)) adjacent((2,3),(1,3)) adjacent((2,3),(2,2)) adjacent((2,3),(3,3)) adjacent((3,1),(2,1)) adjacent((3,1),(3,2)) adjacent((3,2),(2,2)) adjacent((3,2),(3,1)) adjacent((3,2),(3,3)) adjacent((3,3),(2,3)) adjacent((3,3),(3,2)) diagonal((1,1),(2,2)) diagonal((1,2),(2,1)) diagonal((1,2),(2,3)) diagonal((1,3),(2,2)) diagonal((2,1),(1,2)) diagonal((2,1),(3,2)) diagonal((2,2),(1,1)) diagonal((2,2),(1,3)) diagonal((2,2),(3,1)) diagonal((2,2),(3,3)) diagonal((2,3),(1,2)) diagonal((2,3),(3,2)) diagonal((3,1),(2,2)) diagonal((3,2),(2,1)) diagonal((3,2),(2,3)) diagonal((3,3),(2,2)) surrounding((1,1),(1,2)) surrounding((1,1),(2,1)) surrounding((1,1),(2,2)) surrounding((1,2),(1,1)) surrounding((1,2),(1,3)) surrounding((1,2),(2,1)) surrounding((1,2),(2,2)) surrounding((1,2),(2,3)) surrounding((1,3),(1,2)) surrounding((1,3),(2,2)) surrounding((1,3),(2,3)) surrounding((2,1),(1,1)) surrounding((2,1),(1,2)) surrounding((2,1),(2,2)) surrounding((2,1),(3,1)) surrounding((2,1),(3,2)) surrounding((2,2),(1,1)) surrounding((2,2),(1,2)) surrounding((2,2),(1,3)) surrounding((2,2),(2,1)) surrounding((2,2),(2,3)) surrounding((2,2),(3,1)) surrounding((2,2),(3,2)) surrounding((2,2),(3,3)) surrounding((2,3),(1,2)) surrounding((2,3),(1,3)) surrounding((2,3),(2,2)) surrounding((2,3),(3,2)) surrounding((2,3),(3,3)) surrounding((3,1),(2,1)) surrounding((3,1),(2,2)) surrounding((3,1),(3,2)) surrounding((3,2),(2,1)) surrounding((3,2),(2,2)) surrounding((3,2),(2,3)) surrounding((3,2),(3,1)) surrounding((3,2),(3,3)) surrounding((3,3),(2,2)) surrounding((3,3),(2,3)) surrounding((3,3),(3,2)) }\n",
      "SAT 1\n"
     ]
    }
   ],
   "source": [
    "gridworld = \"\"\"\n",
    "\n",
    "width(3).\n",
    "height(3).\n",
    "\n",
    "coordinates((1..W,1..H)) :- width(W), height(H).\n",
    "\n",
    "adjacent(P1, P2) :-\n",
    "  coordinates(P1), coordinates(P2),\n",
    "  P1 = (X1, Y1),\n",
    "  P2 = (X2, Y2),\n",
    "  |X1 - X2| + |Y1 - Y2| = 1.\n",
    "\n",
    "diagonal(P1, P2) :-\n",
    "  coordinates(P1), coordinates(P2),\n",
    "  P1 = (X1, Y1),\n",
    "  P2 = (X2, Y2),\n",
    "  |X1 - X2| = 1,\n",
    "  |Y1 - Y2| = 1.\n",
    "\n",
    "surrounding(P1, P2) :-\n",
    "  diagonal(P1, P2).\n",
    "surrounding(P1, P2) :-\n",
    "  adjacent(P1, P2).\n",
    "\n",
    "\"\"\"\n",
    "solve([gridworld]);"
   ],
   "metadata": {
    "collapsed": false,
    "pycharm": {
     "name": "#%%\n"
    }
   }
  },
  {
   "cell_type": "code",
   "execution_count": 160,
   "outputs": [
    {
     "name": "stdout",
     "output_type": "stream",
     "text": [
      "SAT 1\n"
     ]
    },
    {
     "name": "stderr",
     "output_type": "stream",
     "text": [
      "<block>:6:3-60: info: atom does not occur in any rule head:\n",
      "  causes_if(Who1,E,Who2,change(Property,Value),CondId)\n",
      "\n",
      "<block>:7:7-25: info: atom does not occur in any rule head:\n",
      "  refuted(CondId,T)\n",
      "\n",
      "<block>:11:3-10: info: atom does not occur in any rule head:\n",
      "  time(T)\n",
      "\n",
      "<block>:12:3-43: info: atom does not occur in any rule head:\n",
      "  if(Who,change(Property,Value),CondId)\n",
      "\n",
      "<block>:13:7-25: info: atom does not occur in any rule head:\n",
      "  refuted(CondId,T)\n",
      "\n",
      "<block>:17:3-10: info: atom does not occur in any rule head:\n",
      "  time(T)\n",
      "\n",
      "<block>:18:3-32: info: atom does not occur in any rule head:\n",
      "  impossible_if(Who,E,CondId)\n",
      "\n",
      "<block>:19:7-25: info: atom does not occur in any rule head:\n",
      "  refuted(CondId,T)\n",
      "\n",
      "<block>:25:3-18: info: atom does not occur in any rule head:\n",
      "  init(Who,What)\n",
      "\n",
      "<block>:26:3-11: info: atom does not occur in any rule head:\n",
      "  time(ST)\n",
      "\n",
      "<block>:26:17-27: info: atom does not occur in any rule head:\n",
      "  time((ST+-1))\n",
      "\n",
      "<block>:29:3-12: info: atom does not occur in any rule head:\n",
      "  time((T+1))\n",
      "\n",
      "<block>:34:3-12: info: atom does not occur in any rule head:\n",
      "  time((T+1))\n",
      "\n"
     ]
    }
   ],
   "source": [
    "actionlanguage_axioms = \"\"\"\n",
    "\n",
    "%% E causes F if C\n",
    "occurs(Who2, change(Property, Value), T) :-\n",
    "  occurs(Who1, E, T),\n",
    "  causes_if(Who1, E, Who2, change(Property, Value), CondId),\n",
    "  not refuted(CondId, T).\n",
    "\n",
    "%% F if C\n",
    "occurs(Who, change(Property, Value), T) :-\n",
    "  time(T),\n",
    "  if(Who, change(Property, Value), CondId),\n",
    "  not refuted(CondId, T).\n",
    "\n",
    "%% E impossible if C\n",
    "occurs(Who, change(impossible, E), T-1) :-\n",
    "  time(T),\n",
    "  impossible_if(Who, E, CondId),\n",
    "  not refuted(CondId, T).\n",
    "\n",
    "refuted(false).\n",
    ":- refuted(true).\n",
    "\n",
    "observe(Who, What, ST) :-\n",
    "  init(Who, What),\n",
    "  time(ST), not time(ST-1).\n",
    "\n",
    "observe(Who, value(Property, Value), T+1) :-\n",
    "  time(T+1),\n",
    "  observe(Who, value(Property, Value), T),\n",
    "  not occurs(Who, change(Property, _), T).\n",
    "\n",
    "observe(Who, value(Property, NewValue), T+1) :-\n",
    "  time(T+1),\n",
    "  occurs(Who, change(Property, NewValue), T).\n",
    "\n",
    "\"\"\"\n",
    "run([actionlanguage_axioms]);"
   ],
   "metadata": {
    "collapsed": false,
    "pycharm": {
     "name": "#%%\n"
    }
   }
  },
  {
   "cell_type": "code",
   "execution_count": 161,
   "outputs": [
    {
     "name": "stdout",
     "output_type": "stream",
     "text": [
      "SAT 1\n"
     ]
    },
    {
     "name": "stderr",
     "output_type": "stream",
     "text": [
      "<block>:4:3-15: info: atom does not occur in any rule head:\n",
      "  agent(Agent)\n",
      "\n",
      "<block>:4:17-35: info: atom does not occur in any rule head:\n",
      "  coordinates((X,Y))\n",
      "\n",
      "<block>:4:37-44: info: atom does not occur in any rule head:\n",
      "  time(T)\n",
      "\n",
      "<block>:5:7-49: info: atom does not occur in any rule head:\n",
      "  observe(agent(Agent),value(at,(X,Y)),T)\n",
      "\n",
      "<block>:8:3-15: info: atom does not occur in any rule head:\n",
      "  agent(Agent)\n",
      "\n",
      "<block>:9:3-23: info: atom does not occur in any rule head:\n",
      "  coordinates((X,(Y+1)))\n",
      "\n",
      "<block>:10:3-21: info: atom does not occur in any rule head:\n",
      "  coordinates((X,Y))\n",
      "\n",
      "<block>:13:3-15: info: atom does not occur in any rule head:\n",
      "  agent(Agent)\n",
      "\n",
      "<block>:14:3-23: info: atom does not occur in any rule head:\n",
      "  coordinates(((X+1),Y))\n",
      "\n",
      "<block>:15:3-21: info: atom does not occur in any rule head:\n",
      "  coordinates((X,Y))\n",
      "\n",
      "<block>:18:3-15: info: atom does not occur in any rule head:\n",
      "  agent(Agent)\n",
      "\n",
      "<block>:19:3-23: info: atom does not occur in any rule head:\n",
      "  coordinates((X,(Y+-1)))\n",
      "\n",
      "<block>:20:3-21: info: atom does not occur in any rule head:\n",
      "  coordinates((X,Y))\n",
      "\n",
      "<block>:23:3-15: info: atom does not occur in any rule head:\n",
      "  agent(Agent)\n",
      "\n",
      "<block>:24:3-23: info: atom does not occur in any rule head:\n",
      "  coordinates(((X+-1),Y))\n",
      "\n",
      "<block>:25:3-21: info: atom does not occur in any rule head:\n",
      "  coordinates((X,Y))\n",
      "\n"
     ]
    }
   ],
   "source": [
    "domain = \"\"\"\n",
    "\n",
    "refuted(at(Agent,(X,Y)), T) :-\n",
    "  agent(Agent), coordinates((X,Y)), time(T),\n",
    "  not observe(agent(Agent), value(at, (X,Y)), T).\n",
    "\n",
    "causes_if(agent(Agent), action(move, up), agent(Agent), change(at, (X,Y+1)), at(Agent, (X,Y))) :-\n",
    "  agent(Agent),\n",
    "  coordinates((X,Y+1)),\n",
    "  coordinates((X,Y)).\n",
    "\n",
    "causes_if(agent(Agent), action(move, right), agent(Agent), change(at, (X+1,Y)), at(Agent,(X,Y))) :-\n",
    "  agent(Agent),\n",
    "  coordinates((X+1,Y)),\n",
    "  coordinates((X,Y)).\n",
    "\n",
    "causes_if(agent(Agent), action(move, down), agent(Agent), change(at, (X,Y-1)), at(Agent,(X,Y))) :-\n",
    "  agent(Agent),\n",
    "  coordinates((X,Y-1)),\n",
    "  coordinates((X,Y)).\n",
    "\n",
    "causes_if(agent(Agent), action(move, left), agent(Agent), change(at, (X-1,Y)), at(Agent,(X,Y))) :-\n",
    "  agent(Agent),\n",
    "  coordinates((X-1,Y)),\n",
    "  coordinates((X,Y)).\n",
    "\n",
    "\n",
    "\"\"\"\n",
    "run([domain]);"
   ],
   "metadata": {
    "collapsed": false,
    "pycharm": {
     "name": "#%%\n"
    }
   }
  },
  {
   "cell_type": "code",
   "execution_count": 162,
   "outputs": [
    {
     "name": "stdout",
     "output_type": "stream",
     "text": [
      "SAT 1\n"
     ]
    }
   ],
   "source": [
    "instance = \"\"\"\n",
    "\n",
    "time(1..5).\n",
    "agent(a).\n",
    "\n",
    "init(agent(a), value(at, (2,2))).\n",
    "\n",
    "occurs(agent(a), action(move, up), 1).\n",
    "occurs(agent(a), action(move, right), 2).\n",
    "occurs(agent(a), action(move, down), 3).\n",
    "occurs(agent(a), action(move, left), 4).\n",
    "\n",
    "\"\"\"\n",
    "run([instance]);"
   ],
   "metadata": {
    "collapsed": false,
    "pycharm": {
     "name": "#%%\n"
    }
   }
  },
  {
   "cell_type": "code",
   "execution_count": 163,
   "outputs": [],
   "source": [
    "prg = (\n",
    "    gridworld,\n",
    "    actionlanguage_axioms,\n",
    "    domain,\n",
    "    instance,\n",
    ")"
   ],
   "metadata": {
    "collapsed": false,
    "pycharm": {
     "name": "#%%\n"
    }
   }
  },
  {
   "cell_type": "code",
   "execution_count": 164,
   "outputs": [
    {
     "name": "stdout",
     "output_type": "stream",
     "text": [
      "Answer 1: {\n",
      "agent(a)\n",
      "coordinates((1,1))\n",
      "coordinates((1,2))\n",
      "coordinates((1,3))\n",
      "coordinates((2,1))\n",
      "coordinates((2,2))\n",
      "coordinates((2,3))\n",
      "coordinates((3,1))\n",
      "coordinates((3,2))\n",
      "coordinates((3,3))\n",
      "height(3)\n",
      "refuted(false)\n",
      "time(1)\n",
      "time(2)\n",
      "time(3)\n",
      "time(4)\n",
      "time(5)\n",
      "width(3)\n",
      "adjacent((1,1),(1,2))\n",
      "adjacent((1,1),(2,1))\n",
      "adjacent((1,2),(1,1))\n",
      "adjacent((1,2),(1,3))\n",
      "adjacent((1,2),(2,2))\n",
      "adjacent((1,3),(1,2))\n",
      "adjacent((1,3),(2,3))\n",
      "adjacent((2,1),(1,1))\n",
      "adjacent((2,1),(2,2))\n",
      "adjacent((2,1),(3,1))\n",
      "adjacent((2,2),(1,2))\n",
      "adjacent((2,2),(2,1))\n",
      "adjacent((2,2),(2,3))\n",
      "adjacent((2,2),(3,2))\n",
      "adjacent((2,3),(1,3))\n",
      "adjacent((2,3),(2,2))\n",
      "adjacent((2,3),(3,3))\n",
      "adjacent((3,1),(2,1))\n",
      "adjacent((3,1),(3,2))\n",
      "adjacent((3,2),(2,2))\n",
      "adjacent((3,2),(3,1))\n",
      "adjacent((3,2),(3,3))\n",
      "adjacent((3,3),(2,3))\n",
      "adjacent((3,3),(3,2))\n",
      "diagonal((1,1),(2,2))\n",
      "diagonal((1,2),(2,1))\n",
      "diagonal((1,2),(2,3))\n",
      "diagonal((1,3),(2,2))\n",
      "diagonal((2,1),(1,2))\n",
      "diagonal((2,1),(3,2))\n",
      "diagonal((2,2),(1,1))\n",
      "diagonal((2,2),(1,3))\n",
      "diagonal((2,2),(3,1))\n",
      "diagonal((2,2),(3,3))\n",
      "diagonal((2,3),(1,2))\n",
      "diagonal((2,3),(3,2))\n",
      "diagonal((3,1),(2,2))\n",
      "diagonal((3,2),(2,1))\n",
      "diagonal((3,2),(2,3))\n",
      "diagonal((3,3),(2,2))\n",
      "init(agent(a),value(at,(2,2)))\n",
      "refuted(at(a,(1,1)),1)\n",
      "refuted(at(a,(1,1)),2)\n",
      "refuted(at(a,(1,1)),3)\n",
      "refuted(at(a,(1,1)),4)\n",
      "refuted(at(a,(1,1)),5)\n",
      "refuted(at(a,(1,2)),1)\n",
      "refuted(at(a,(1,2)),2)\n",
      "refuted(at(a,(1,2)),3)\n",
      "refuted(at(a,(1,2)),4)\n",
      "refuted(at(a,(1,2)),5)\n",
      "refuted(at(a,(1,3)),1)\n",
      "refuted(at(a,(1,3)),2)\n",
      "refuted(at(a,(1,3)),3)\n",
      "refuted(at(a,(1,3)),4)\n",
      "refuted(at(a,(1,3)),5)\n",
      "refuted(at(a,(2,1)),1)\n",
      "refuted(at(a,(2,1)),2)\n",
      "refuted(at(a,(2,1)),3)\n",
      "refuted(at(a,(2,1)),4)\n",
      "refuted(at(a,(2,1)),5)\n",
      "refuted(at(a,(2,2)),2)\n",
      "refuted(at(a,(2,2)),3)\n",
      "refuted(at(a,(2,2)),4)\n",
      "refuted(at(a,(2,3)),1)\n",
      "refuted(at(a,(2,3)),3)\n",
      "refuted(at(a,(2,3)),4)\n",
      "refuted(at(a,(2,3)),5)\n",
      "refuted(at(a,(3,1)),1)\n",
      "refuted(at(a,(3,1)),2)\n",
      "refuted(at(a,(3,1)),3)\n",
      "refuted(at(a,(3,1)),4)\n",
      "refuted(at(a,(3,1)),5)\n",
      "refuted(at(a,(3,2)),1)\n",
      "refuted(at(a,(3,2)),2)\n",
      "refuted(at(a,(3,2)),3)\n",
      "refuted(at(a,(3,2)),5)\n",
      "refuted(at(a,(3,3)),1)\n",
      "refuted(at(a,(3,3)),2)\n",
      "refuted(at(a,(3,3)),4)\n",
      "refuted(at(a,(3,3)),5)\n",
      "surrounding((1,1),(1,2))\n",
      "surrounding((1,1),(2,1))\n",
      "surrounding((1,1),(2,2))\n",
      "surrounding((1,2),(1,1))\n",
      "surrounding((1,2),(1,3))\n",
      "surrounding((1,2),(2,1))\n",
      "surrounding((1,2),(2,2))\n",
      "surrounding((1,2),(2,3))\n",
      "surrounding((1,3),(1,2))\n",
      "surrounding((1,3),(2,2))\n",
      "surrounding((1,3),(2,3))\n",
      "surrounding((2,1),(1,1))\n",
      "surrounding((2,1),(1,2))\n",
      "surrounding((2,1),(2,2))\n",
      "surrounding((2,1),(3,1))\n",
      "surrounding((2,1),(3,2))\n",
      "surrounding((2,2),(1,1))\n",
      "surrounding((2,2),(1,2))\n",
      "surrounding((2,2),(1,3))\n",
      "surrounding((2,2),(2,1))\n",
      "surrounding((2,2),(2,3))\n",
      "surrounding((2,2),(3,1))\n",
      "surrounding((2,2),(3,2))\n",
      "surrounding((2,2),(3,3))\n",
      "surrounding((2,3),(1,2))\n",
      "surrounding((2,3),(1,3))\n",
      "surrounding((2,3),(2,2))\n",
      "surrounding((2,3),(3,2))\n",
      "surrounding((2,3),(3,3))\n",
      "surrounding((3,1),(2,1))\n",
      "surrounding((3,1),(2,2))\n",
      "surrounding((3,1),(3,2))\n",
      "surrounding((3,2),(2,1))\n",
      "surrounding((3,2),(2,2))\n",
      "surrounding((3,2),(2,3))\n",
      "surrounding((3,2),(3,1))\n",
      "surrounding((3,2),(3,3))\n",
      "surrounding((3,3),(2,2))\n",
      "surrounding((3,3),(2,3))\n",
      "surrounding((3,3),(3,2))\n",
      "observe(agent(a),value(at,(2,2)),1)\n",
      "observe(agent(a),value(at,(2,2)),5)\n",
      "observe(agent(a),value(at,(2,3)),2)\n",
      "observe(agent(a),value(at,(3,2)),4)\n",
      "observe(agent(a),value(at,(3,3)),3)\n",
      "occurs(agent(a),action(move,down),3)\n",
      "occurs(agent(a),action(move,left),4)\n",
      "occurs(agent(a),action(move,right),2)\n",
      "occurs(agent(a),action(move,up),1)\n",
      "occurs(agent(a),change(at,(2,2)),4)\n",
      "occurs(agent(a),change(at,(2,3)),1)\n",
      "occurs(agent(a),change(at,(3,2)),3)\n",
      "occurs(agent(a),change(at,(3,3)),2)\n",
      "causes_if(agent(a),action(move,down),agent(a),change(at,(1,1)),at(a,(1,2)))\n",
      "causes_if(agent(a),action(move,down),agent(a),change(at,(1,2)),at(a,(1,3)))\n",
      "causes_if(agent(a),action(move,down),agent(a),change(at,(2,1)),at(a,(2,2)))\n",
      "causes_if(agent(a),action(move,down),agent(a),change(at,(2,2)),at(a,(2,3)))\n",
      "causes_if(agent(a),action(move,down),agent(a),change(at,(3,1)),at(a,(3,2)))\n",
      "causes_if(agent(a),action(move,down),agent(a),change(at,(3,2)),at(a,(3,3)))\n",
      "causes_if(agent(a),action(move,left),agent(a),change(at,(1,1)),at(a,(2,1)))\n",
      "causes_if(agent(a),action(move,left),agent(a),change(at,(1,2)),at(a,(2,2)))\n",
      "causes_if(agent(a),action(move,left),agent(a),change(at,(1,3)),at(a,(2,3)))\n",
      "causes_if(agent(a),action(move,left),agent(a),change(at,(2,1)),at(a,(3,1)))\n",
      "causes_if(agent(a),action(move,left),agent(a),change(at,(2,2)),at(a,(3,2)))\n",
      "causes_if(agent(a),action(move,left),agent(a),change(at,(2,3)),at(a,(3,3)))\n",
      "causes_if(agent(a),action(move,right),agent(a),change(at,(2,1)),at(a,(1,1)))\n",
      "causes_if(agent(a),action(move,right),agent(a),change(at,(2,2)),at(a,(1,2)))\n",
      "causes_if(agent(a),action(move,right),agent(a),change(at,(2,3)),at(a,(1,3)))\n",
      "causes_if(agent(a),action(move,right),agent(a),change(at,(3,1)),at(a,(2,1)))\n",
      "causes_if(agent(a),action(move,right),agent(a),change(at,(3,2)),at(a,(2,2)))\n",
      "causes_if(agent(a),action(move,right),agent(a),change(at,(3,3)),at(a,(2,3)))\n",
      "causes_if(agent(a),action(move,up),agent(a),change(at,(1,2)),at(a,(1,1)))\n",
      "causes_if(agent(a),action(move,up),agent(a),change(at,(1,3)),at(a,(1,2)))\n",
      "causes_if(agent(a),action(move,up),agent(a),change(at,(2,2)),at(a,(2,1)))\n",
      "causes_if(agent(a),action(move,up),agent(a),change(at,(2,3)),at(a,(2,2)))\n",
      "causes_if(agent(a),action(move,up),agent(a),change(at,(3,2)),at(a,(3,1)))\n",
      "causes_if(agent(a),action(move,up),agent(a),change(at,(3,3)),at(a,(3,2)))\n",
      "}\n",
      "SAT 1\n"
     ]
    },
    {
     "name": "stderr",
     "output_type": "stream",
     "text": [
      "<block>:12:3-43: info: atom does not occur in any rule head:\n",
      "  if(Who,change(Property,Value),CondId)\n",
      "\n",
      "<block>:18:3-32: info: atom does not occur in any rule head:\n",
      "  impossible_if(Who,E,CondId)\n",
      "\n"
     ]
    }
   ],
   "source": [
    "solve(prg,sep='\\n');"
   ],
   "metadata": {
    "collapsed": false,
    "pycharm": {
     "name": "#%%\n"
    }
   }
  },
  {
   "cell_type": "code",
   "execution_count": 164,
   "outputs": [],
   "source": [],
   "metadata": {
    "collapsed": false,
    "pycharm": {
     "name": "#%%\n"
    }
   }
  }
 ],
 "metadata": {
  "kernelspec": {
   "display_name": "Python 3",
   "language": "python",
   "name": "python3"
  },
  "language_info": {
   "codemirror_mode": {
    "name": "ipython",
    "version": 2
   },
   "file_extension": ".py",
   "mimetype": "text/x-python",
   "name": "python",
   "nbconvert_exporter": "python",
   "pygments_lexer": "ipython2",
   "version": "2.7.6"
  }
 },
 "nbformat": 4,
 "nbformat_minor": 0
}