{
 "cells": [
  {
   "cell_type": "code",
   "execution_count": 498,
   "metadata": {
    "collapsed": true
   },
   "outputs": [],
   "source": [
    "import clingo\n",
    "\n",
    "from typing import Sequence"
   ]
  },
  {
   "cell_type": "code",
   "execution_count": 499,
   "outputs": [],
   "source": [
    "def solve(programs: Sequence[str], grounding_context=None, sep:str=' ', report_answersets=True):\n",
    "    ctl = clingo.Control((\"--models\", \"0\"))\n",
    "    for program in programs:\n",
    "        ctl.add(\"base\", (), program)\n",
    "\n",
    "    ctl.ground(((\"base\", ()),), grounding_context)\n",
    "\n",
    "    models = []\n",
    "\n",
    "    with ctl.solve(yield_=True) as solve_handle:\n",
    "        for i, model in enumerate(solve_handle):\n",
    "            assert isinstance(model, clingo.Model)\n",
    "            symbols = model.symbols(shown=True)\n",
    "            if report_answersets:\n",
    "                print(\"Answer {}: {}{}{}{}{}\".format(i + 1, \"{\", sep, sep.join(map(str, sorted(symbols))), sep, \"}\"))\n",
    "            models.append(symbols)\n",
    "        mode = \"UNKNOWN\"\n",
    "        solve_result = solve_handle.get()\n",
    "        if solve_result.satisfiable:\n",
    "            mode = \"SAT\"\n",
    "        elif solve_result.unsatisfiable:\n",
    "            mode = \"UNSAT\"\n",
    "        cardinality_suffix = \"\"\n",
    "        if not solve_result.exhausted:\n",
    "            cardinality_suffix = \"+\"\n",
    "        print(mode, \"{}{}\".format(len(models), cardinality_suffix))\n",
    "\n",
    "    return models"
   ],
   "metadata": {
    "collapsed": false,
    "pycharm": {
     "name": "#%%\n"
    }
   }
  },
  {
   "cell_type": "code",
   "execution_count": 500,
   "outputs": [],
   "source": [
    "def check(programs: Sequence[str], consistency_checks:str, grounding_context=None):\n",
    "    print(\"Run without checks:\")\n",
    "    wo_checks = solve(programs, grounding_context, report_answersets=False)\n",
    "    print(\"Run with checks:\")\n",
    "    w_checks = solve((*programs, consistency_checks), grounding_context, report_answersets=False)\n",
    "    return len(wo_checks) == len(w_checks)"
   ],
   "metadata": {
    "collapsed": false,
    "pycharm": {
     "name": "#%%\n"
    }
   }
  },
  {
   "cell_type": "code",
   "execution_count": 501,
   "outputs": [
    {
     "name": "stdout",
     "output_type": "stream",
     "text": [
      "SAT 1\n"
     ]
    }
   ],
   "source": [
    "resources = \"\"\"\n",
    "\n",
    "resource(\"Geld\").\n",
    "resource(\"Essen\").\n",
    "resource(\"Maschinen Bauteile\").\n",
    "resource(\"Maschine\").\n",
    "\n",
    "\"\"\"\n",
    "solve([resources], report_answersets=False);"
   ],
   "metadata": {
    "collapsed": false,
    "pycharm": {
     "name": "#%%\n"
    }
   }
  },
  {
   "cell_type": "code",
   "execution_count": 502,
   "outputs": [
    {
     "name": "stdout",
     "output_type": "stream",
     "text": [
      "SAT 1\n"
     ]
    }
   ],
   "source": [
    "accounts = \"\"\"\n",
    "account(\"Besitzer:Maschinen Bauteile\"  ).\n",
    "account(\"Besitzer:Maschine\" ).\n",
    "account(\"Besitzer:Geld\").\n",
    "account(\"Besitzer:Essen\").\n",
    "\n",
    "account(\"Arbeiter:Geld\").\n",
    "account(\"Arbeiter:Essen\").\n",
    "\n",
    "\"\"\"\n",
    "solve([accounts], report_answersets=False);"
   ],
   "metadata": {
    "collapsed": false,
    "pycharm": {
     "name": "#%%\n"
    }
   }
  },
  {
   "cell_type": "code",
   "execution_count": 503,
   "outputs": [
    {
     "name": "stdout",
     "output_type": "stream",
     "text": [
      "SAT 1\n"
     ]
    }
   ],
   "source": [
    "account_resource = \"\"\"\n",
    "\n",
    "account_resource(\"Besitzer:Maschinen Bauteile\", \"Maschinen Bauteile\").\n",
    "account_resource(\"Besitzer:Maschine\", \"Maschine\").\n",
    "account_resource(\"Besitzer:Geld\", \"Geld\").\n",
    "account_resource(\"Besitzer:Essen\", \"Essen\").\n",
    "\n",
    "account_resource(\"Arbeiter:Geld\", \"Geld\").\n",
    "account_resource(\"Arbeiter:Essen\", \"Essen\").\n",
    "\n",
    "\"\"\"\n",
    "solve([account_resource], report_answersets=False);"
   ],
   "metadata": {
    "collapsed": false,
    "pycharm": {
     "name": "#%%\n"
    }
   }
  },
  {
   "cell_type": "code",
   "execution_count": 504,
   "outputs": [
    {
     "name": "stdout",
     "output_type": "stream",
     "text": [
      "SAT 1\n"
     ]
    },
    {
     "name": "stderr",
     "output_type": "stream",
     "text": [
      "<block>:4:3-11: info: atom does not occur in any rule head:\n",
      "  time(ST)\n",
      "\n",
      "<block>:4:17-29: info: atom does not occur in any rule head:\n",
      "  time((ST+-1))\n",
      "\n",
      "<block>:5:3-15: info: atom does not occur in any rule head:\n",
      "  account(Acc)\n",
      "\n",
      "<block>:6:7-26: info: atom does not occur in any rule head:\n",
      "  acc_initBal(#X0,#P1)\n",
      "\n",
      "<block>:8:3-11: info: atom does not occur in any rule head:\n",
      "  time(ST)\n",
      "\n",
      "<block>:8:17-29: info: atom does not occur in any rule head:\n",
      "  time((ST+-1))\n",
      "\n",
      "<block>:9:3-15: info: atom does not occur in any rule head:\n",
      "  account(Acc)\n",
      "\n",
      "<block>:10:3-22: info: atom does not occur in any rule head:\n",
      "  acc_initBal(Acc,I)\n",
      "\n"
     ]
    }
   ],
   "source": [
    "balance_init = \"\"\"\n",
    "\n",
    "obs_at(acc_bal(Acc, 0), ST) :-\n",
    "  time(ST), not time(ST - 1),\n",
    "  account(Acc),\n",
    "  not acc_initBal(Acc, _).\n",
    "obs_at(acc_bal(Acc, I), ST) :-\n",
    "  time(ST), not time(ST - 1),\n",
    "  account(Acc),\n",
    "  acc_initBal(Acc, I).\n",
    "\n",
    "\"\"\"\n",
    "solve([balance_init], report_answersets=False);"
   ],
   "metadata": {
    "collapsed": false,
    "pycharm": {
     "name": "#%%\n"
    }
   }
  },
  {
   "cell_type": "code",
   "execution_count": 505,
   "outputs": [
    {
     "name": "stdout",
     "output_type": "stream",
     "text": [
      "SAT 1\n"
     ]
    }
   ],
   "source": [
    "agents = \"\"\"\n",
    "\n",
    "agent(\"Arbeiter\").\n",
    "agent(\"Besitzer\").\n",
    "\n",
    "\"\"\"\n",
    "solve([agents], report_answersets=False);"
   ],
   "metadata": {
    "collapsed": false,
    "pycharm": {
     "name": "#%%\n"
    }
   }
  },
  {
   "cell_type": "code",
   "execution_count": 506,
   "outputs": [
    {
     "name": "stdout",
     "output_type": "stream",
     "text": [
      "SAT 1\n"
     ]
    }
   ],
   "source": [
    "items = \"\"\"\n",
    "\n",
    "item(\"Arbeitszeit\").\n",
    "item(amount_resource(2, \"Essen\")).\n",
    "item(amount_resource(2, \"Geld\")).\n",
    "\n",
    "\"\"\"\n",
    "solve([items], report_answersets=False);"
   ],
   "metadata": {
    "collapsed": false,
    "pycharm": {
     "name": "#%%\n"
    }
   }
  },
  {
   "cell_type": "code",
   "execution_count": 507,
   "outputs": [
    {
     "name": "stdout",
     "output_type": "stream",
     "text": [
      "SAT 1\n"
     ]
    }
   ],
   "source": [
    "attainment = \"\"\"\n",
    "\n",
    "attainment(action(\"arbeiten\")).\n",
    "attainment(amount_resource(2, \"Essen\")).\n",
    "attainment(amount_resource(2, \"Geld\")).\n",
    "\n",
    "\"\"\"\n",
    "solve([attainment], report_answersets=False);"
   ],
   "metadata": {
    "collapsed": false,
    "pycharm": {
     "name": "#%%\n"
    }
   }
  },
  {
   "cell_type": "code",
   "execution_count": 508,
   "outputs": [
    {
     "name": "stdout",
     "output_type": "stream",
     "text": [
      "SAT 1\n"
     ]
    },
    {
     "name": "stderr",
     "output_type": "stream",
     "text": [
      "<block>:8:3-25: info: atom does not occur in any rule head:\n",
      "  attainment(Attainment)\n",
      "\n",
      "<block>:8:27-39: info: atom does not occur in any rule head:\n",
      "  agent(Agent)\n",
      "\n",
      "<block>:8:41-61: info: atom does not occur in any rule head:\n",
      "  component(Component)\n",
      "\n",
      "<block>:9:3-13: info: atom does not occur in any rule head:\n",
      "  item(Item)\n",
      "\n",
      "<block>:10:3-34: info: atom does not occur in any rule head:\n",
      "  component_item(Component,Item)\n",
      "\n",
      "<block>:11:3-39: info: atom does not occur in any rule head:\n",
      "  component_provider(Component,Agent)\n",
      "\n",
      "<block>:12:3-36: info: atom does not occur in any rule head:\n",
      "  item_attainment(Item,Attainment)\n",
      "\n",
      "<block>:15:3-25: info: atom does not occur in any rule head:\n",
      "  attainment(Attainment)\n",
      "\n",
      "<block>:15:27-39: info: atom does not occur in any rule head:\n",
      "  agent(Agent)\n",
      "\n",
      "<block>:15:41-61: info: atom does not occur in any rule head:\n",
      "  component(Component)\n",
      "\n",
      "<block>:16:3-13: info: atom does not occur in any rule head:\n",
      "  item(Item)\n",
      "\n",
      "<block>:17:3-34: info: atom does not occur in any rule head:\n",
      "  component_item(Component,Item)\n",
      "\n",
      "<block>:18:3-42: info: atom does not occur in any rule head:\n",
      "  component_beneficiary(Component,Agent)\n",
      "\n",
      "<block>:19:3-36: info: atom does not occur in any rule head:\n",
      "  item_attainment(Item,Attainment)\n",
      "\n",
      "<block>:22:3-25: info: atom does not occur in any rule head:\n",
      "  attainment(Attainment)\n",
      "\n",
      "<block>:22:27-43: info: atom does not occur in any rule head:\n",
      "  account(Account)\n",
      "\n",
      "<block>:22:45-57: info: atom does not occur in any rule head:\n",
      "  agent(Agent)\n",
      "\n",
      "<block>:22:59-79: info: atom does not occur in any rule head:\n",
      "  component(Component)\n",
      "\n",
      "<block>:23:3-13: info: atom does not occur in any rule head:\n",
      "  item(Item)\n",
      "\n",
      "<block>:24:3-34: info: atom does not occur in any rule head:\n",
      "  component_item(Component,Item)\n",
      "\n"
     ]
    }
   ],
   "source": [
    "actions = \"\"\"\n",
    "\n",
    "\n",
    "action(\"arbeiten\").\n",
    "action(\"Maschine verwenden\").\n",
    "\n",
    "action(provide_to_because(Attainment, Agent, Component)) :-\n",
    "  attainment(Attainment), agent(Agent), component(Component),\n",
    "  item(Item),\n",
    "  component_item(Component, Item),\n",
    "  component_provider(Component, Agent),\n",
    "  item_attainment(Item, Attainment).\n",
    "\n",
    "action(allow_from_because(Attainment, Agent, Component)) :-\n",
    "  attainment(Attainment), agent(Agent), component(Component),\n",
    "  item(Item),\n",
    "  component_item(Component, Item),\n",
    "  component_beneficiary(Component, Agent),\n",
    "  item_attainment(Item, Attainment).\n",
    "\n",
    "action(give_fromAcc_to_because(Attainment, Account, Agent, Component)) :-\n",
    "  attainment(Attainment), account(Account), agent(Agent), component(Component),\n",
    "  item(Item),\n",
    "  component_item(Component, Item),\n",
    "  component_provider(Component, Agent),\n",
    "  item_attainment(Item, Attainment).\n",
    "\n",
    "action(accept_intoAcc_from_because(Attainment, Account, Agent, Component)) :-\n",
    "  attainment(Attainment), account(Account), agent(Agent), component(Component),\n",
    "  item(Item),\n",
    "  component_item(Component, Item),\n",
    "  component_beneficiary(Component, Agent),\n",
    "  item_attainment(Item, Attainment).\n",
    "\n",
    "\"\"\"\n",
    "solve([actions], report_answersets=False);"
   ],
   "metadata": {
    "collapsed": false,
    "pycharm": {
     "name": "#%%\n"
    }
   }
  },
  {
   "cell_type": "code",
   "execution_count": 509,
   "outputs": [
    {
     "name": "stdout",
     "output_type": "stream",
     "text": [
      "SAT 1\n"
     ]
    },
    {
     "name": "stderr",
     "output_type": "stream",
     "text": [
      "<block>:4:3-55: info: atom does not occur in any rule head:\n",
      "  obs_at(acc_bal(\"Besitzer:Maschinen Bauteile\",2),T)\n",
      "\n",
      "<block>:5:3-99: info: atom does not occur in any rule head:\n",
      "  occ_at(agent_does(\"Arbeiter\",provide_to_because(action(\"arbeiten\"),\"Besitzer\",Component)),T)\n",
      "\n",
      "<block>:6:3-99: info: atom does not occur in any rule head:\n",
      "  occ_at(agent_does(\"Besitzer\",allow_from_because(action(\"arbeiten\"),\"Arbeiter\",Component)),T)\n",
      "\n",
      "<block>:9:3-55: info: atom does not occur in any rule head:\n",
      "  obs_at(acc_bal(\"Besitzer:Maschinen Bauteile\",2),T)\n",
      "\n",
      "<block>:10:3-99: info: atom does not occur in any rule head:\n",
      "  occ_at(agent_does(\"Arbeiter\",provide_to_because(action(\"arbeiten\"),\"Besitzer\",Component)),T)\n",
      "\n",
      "<block>:11:3-99: info: atom does not occur in any rule head:\n",
      "  occ_at(agent_does(\"Besitzer\",allow_from_because(action(\"arbeiten\"),\"Arbeiter\",Component)),T)\n",
      "\n",
      "<block>:14:3-45: info: atom does not occur in any rule head:\n",
      "  obs_at(acc_bal(\"Besitzer:Maschine\",1),T)\n",
      "\n",
      "<block>:15:3-99: info: atom does not occur in any rule head:\n",
      "  occ_at(agent_does(\"Arbeiter\",provide_to_because(action(\"arbeiten\"),\"Besitzer\",Component)),T)\n",
      "\n",
      "<block>:16:3-99: info: atom does not occur in any rule head:\n",
      "  occ_at(agent_does(\"Besitzer\",allow_from_because(action(\"arbeiten\"),\"Arbeiter\",Component)),T)\n",
      "\n",
      "<block>:19:3-45: info: atom does not occur in any rule head:\n",
      "  obs_at(acc_bal(\"Besitzer:Maschine\",1),T)\n",
      "\n",
      "<block>:20:3-99: info: atom does not occur in any rule head:\n",
      "  occ_at(agent_does(\"Arbeiter\",provide_to_because(action(\"arbeiten\"),\"Besitzer\",Component)),T)\n",
      "\n",
      "<block>:21:3-99: info: atom does not occur in any rule head:\n",
      "  occ_at(agent_does(\"Besitzer\",allow_from_because(action(\"arbeiten\"),\"Arbeiter\",Component)),T)\n",
      "\n"
     ]
    }
   ],
   "source": [
    "action_consequences = \"\"\"\n",
    "\n",
    "occ_at(income(1, \"Maschine\", \"Besitzer:Maschine\"), T) :-\n",
    "  obs_at(acc_bal(\"Besitzer:Maschinen Bauteile\", 2), T),\n",
    "  occ_at(agent_does(\"Arbeiter\", provide_to_because(action(\"arbeiten\"), \"Besitzer\", Component)), T),\n",
    "  occ_at(agent_does(\"Besitzer\", allow_from_because(action(\"arbeiten\"), \"Arbeiter\", Component)), T).\n",
    "\n",
    "occ_at(expense(2, \"Maschinen Bauteile\", \"Besitzer:Maschinen Bauteile\"), T) :-\n",
    "  obs_at(acc_bal(\"Besitzer:Maschinen Bauteile\", 2), T),\n",
    "  occ_at(agent_does(\"Arbeiter\", provide_to_because(action(\"arbeiten\"), \"Besitzer\", Component)), T),\n",
    "  occ_at(agent_does(\"Besitzer\", allow_from_because(action(\"arbeiten\"), \"Arbeiter\", Component)), T).\n",
    "\n",
    "occ_at(expense(1, \"Maschine\", \"Besitzer:Maschine\"), T) :-\n",
    "  obs_at(acc_bal(\"Besitzer:Maschine\", 1), T),\n",
    "  occ_at(agent_does(\"Arbeiter\", provide_to_because(action(\"arbeiten\"), \"Besitzer\", Component)), T),\n",
    "  occ_at(agent_does(\"Besitzer\", allow_from_because(action(\"arbeiten\"), \"Arbeiter\", Component)), T).\n",
    "\n",
    "occ_at(income(2, \"Maschinen Bauteile\", \"Besitzer:Maschinen Bauteile\"), T) :-\n",
    "  obs_at(acc_bal(\"Besitzer:Maschine\", 1), T),\n",
    "  occ_at(agent_does(\"Arbeiter\", provide_to_because(action(\"arbeiten\"), \"Besitzer\", Component)), T),\n",
    "  occ_at(agent_does(\"Besitzer\", allow_from_because(action(\"arbeiten\"), \"Arbeiter\", Component)), T).\n",
    "\n",
    "\n",
    "\n",
    "\"\"\"\n",
    "solve([action_consequences], report_answersets=False);"
   ],
   "metadata": {
    "collapsed": false,
    "pycharm": {
     "name": "#%%\n"
    }
   }
  },
  {
   "cell_type": "code",
   "execution_count": 510,
   "outputs": [],
   "source": [
    "balance_rules = \"\"\"\n",
    "\n",
    "occ_at(transaction(N, Res, From, To, Because), T) :-\n",
    "  resource(Res), account(From), account(To), time(T),\n",
    "  occ_at(agent_does(Provider, give_fromAcc_to_because(amount_resource(N, Res), From, Beneficiary, Because)), T),\n",
    "  occ_at(agent_does(Beneficiary, accept_intoAcc_from_because(amount_resource(N, Res), To, Provider, Because)), T).\n",
    "\n",
    "\n",
    "occ_at(account_valueChange(Acc, Deposit + Withdrawn + Income + Expense), T) :-\n",
    "  account(Acc), time(T),\n",
    "  Income = #sum { N,Res : occ_at(income(N, Res, Acc), T) },\n",
    "  Expense = #sum { -N,Res : occ_at(expense(N, Res, Acc), T) },\n",
    "  Withdrawn = #sum { -N,Res,Because : occ_at(transaction(N, Res, Acc, _, Because), T) },\n",
    "  Deposit = #sum { N,Res,Because : occ_at(transaction(N, Res, _, Acc, Because), T) }.\n",
    "\n",
    "obs_at(acc_bal(Acc, OldBal + Change), T+1) :-\n",
    "  account(Acc), time(T+1),\n",
    "  time(T),\n",
    "  obs_at(acc_bal(Acc, OldBal), T),\n",
    "  occ_at(account_valueChange(Acc, Change), T).\n",
    "\n",
    "\"\"\""
   ],
   "metadata": {
    "collapsed": false,
    "pycharm": {
     "name": "#%%\n"
    }
   }
  },
  {
   "cell_type": "code",
   "execution_count": 511,
   "outputs": [
    {
     "name": "stdout",
     "output_type": "stream",
     "text": [
      "SAT 1\n"
     ]
    }
   ],
   "source": [
    "contract_domain = \"\"\"\n",
    "\n",
    "item_attainment(\"Arbeitszeit\", action(\"arbeiten\")).\n",
    "item_attainment(amount_resource(2, \"Essen\"), amount_resource(2, \"Essen\")).\n",
    "item_attainment(amount_resource(2, \"Geld\"), amount_resource(2, \"Geld\")).\n",
    "\n",
    "contract(\"Dienstleistung Tag 1\").\n",
    "\n",
    "component(\"Dienstleistung Tag 1: Arbeit\").\n",
    "component(\"Dienstleistung Tag 1: Lohn\").\n",
    "\n",
    "contract_component(\"Dienstleistung Tag 1\", \"Dienstleistung Tag 1: Arbeit\").\n",
    "contract_component(\"Dienstleistung Tag 1\", \"Dienstleistung Tag 1: Lohn\").\n",
    "\n",
    "component_item(\"Dienstleistung Tag 1: Arbeit\", \"Arbeitszeit\").\n",
    "component_item(\"Dienstleistung Tag 1: Lohn\", amount_resource(2, \"Geld\")).\n",
    "\n",
    "component_provider(\"Dienstleistung Tag 1: Arbeit\", \"Arbeiter\").\n",
    "component_beneficiary(\"Dienstleistung Tag 1: Arbeit\", \"Besitzer\").\n",
    "\n",
    "component_provider(\"Dienstleistung Tag 1: Lohn\", \"Besitzer\").\n",
    "component_beneficiary(\"Dienstleistung Tag 1: Lohn\", \"Arbeiter\").\n",
    "\n",
    "contract(\"Dienstleistung Tag 2\").\n",
    "\n",
    "component(\"Dienstleistung Tag 2: Arbeit\").\n",
    "component(\"Dienstleistung Tag 2: Lohn\").\n",
    "\n",
    "contract_component(\"Dienstleistung Tag 2\", \"Dienstleistung Tag 2: Arbeit\").\n",
    "contract_component(\"Dienstleistung Tag 2\", \"Dienstleistung Tag 2: Lohn\").\n",
    "\n",
    "component_item(\"Dienstleistung Tag 2: Arbeit\", \"Arbeitszeit\").\n",
    "component_item(\"Dienstleistung Tag 2: Lohn\", amount_resource(2, \"Geld\")).\n",
    "\n",
    "component_provider(\"Dienstleistung Tag 2: Arbeit\", \"Arbeiter\").\n",
    "component_beneficiary(\"Dienstleistung Tag 2: Arbeit\", \"Besitzer\").\n",
    "component_provider(\"Dienstleistung Tag 2: Lohn\", \"Besitzer\").\n",
    "component_beneficiary(\"Dienstleistung Tag 2: Lohn\", \"Arbeiter\").\n",
    "\n",
    "contract(\"Handel Tag 1\").\n",
    "\n",
    "component(\"Handel Tag 1: Lieferung\").\n",
    "component(\"Handel Tag 1: Bezahlung\").\n",
    "\n",
    "contract_component(\"Handel Tag 1\", \"Handel Tag 1: Lieferung\").\n",
    "contract_component(\"Handel Tag 1\", \"Handel Tag 1: Bezahlung\").\n",
    "\n",
    "component_item(\"Handel Tag 1: Lieferung\", amount_resource(2, \"Essen\")).\n",
    "component_item(\"Handel Tag 1: Bezahlung\", amount_resource(2, \"Geld\")).\n",
    "\n",
    "component_provider(\"Handel Tag 1: Lieferung\", \"Besitzer\").\n",
    "component_beneficiary(\"Handel Tag 1: Lieferung\", \"Arbeiter\").\n",
    "component_provider(\"Handel Tag 1: Bezahlung\", \"Arbeiter\").\n",
    "component_beneficiary(\"Handel Tag 1: Bezahlung\", \"Besitzer\").\n",
    "\n",
    "contract(\"Handel Tag 2\").\n",
    "\n",
    "component(\"Handel Tag 2: Lieferung\").\n",
    "component(\"Handel Tag 2: Bezahlung\").\n",
    "\n",
    "contract_component(\"Handel Tag 2\", \"Handel Tag 2: Lieferung\").\n",
    "contract_component(\"Handel Tag 2\", \"Handel Tag 2: Bezahlung\").\n",
    "\n",
    "component_item(\"Handel Tag 2: Lieferung\", amount_resource(2, \"Essen\")).\n",
    "component_item(\"Handel Tag 2: Bezahlung\", amount_resource(2, \"Geld\")).\n",
    "\n",
    "component_provider(\"Handel Tag 2: Lieferung\", \"Besitzer\").\n",
    "component_beneficiary(\"Handel Tag 2: Lieferung\", \"Arbeiter\").\n",
    "component_provider(\"Handel Tag 2: Bezahlung\", \"Arbeiter\").\n",
    "component_beneficiary(\"Handel Tag 2: Bezahlung\", \"Besitzer\").\n",
    "\n",
    "\n",
    "\"\"\"\n",
    "solve([contract_domain], report_answersets=False);"
   ],
   "metadata": {
    "collapsed": false,
    "pycharm": {
     "name": "#%%\n"
    }
   }
  },
  {
   "cell_type": "code",
   "execution_count": 512,
   "outputs": [
    {
     "name": "stdout",
     "output_type": "stream",
     "text": [
      "SAT 1\n"
     ]
    }
   ],
   "source": [
    "contract_static = \"\"\"\n",
    "\n",
    "componentState(\"Initialisiert\").\n",
    "componentState(\"Gewährleistung\").\n",
    "componentState(\"Initialisiert [GLE]\").\n",
    "componentState(\"Gewährleistung [GLE]\").\n",
    "\n",
    "transitionAction(\"GLE\").\n",
    "transitionAction(\"LE\").\n",
    "\n",
    "state_transAction_state(\"Initialisiert\",\"GLE\",\"Initialisiert [GLE]\").\n",
    "state_transAction_state(\"Initialisiert\",\"LE\",\"Gewährleistung\").\n",
    "\n",
    "state_transAction_state(\"Initialisiert [GLE]\",\"LE\",\"Gewährleistung [GLE]\").\n",
    "\n",
    "state_transAction_state(\"Gewährleistung\",\"GLE\",\"Gewährleistung [GLE]\").\n",
    "\n",
    "\"\"\"\n",
    "solve([contract_static], report_answersets=False);"
   ],
   "metadata": {
    "collapsed": false,
    "pycharm": {
     "name": "#%%\n"
    }
   }
  },
  {
   "cell_type": "code",
   "execution_count": 513,
   "outputs": [
    {
     "name": "stdout",
     "output_type": "stream",
     "text": [
      "SAT 1\n"
     ]
    },
    {
     "name": "stderr",
     "output_type": "stream",
     "text": [
      "<block>:4:2-22: info: atom does not occur in any rule head:\n",
      "  component(Component)\n",
      "\n",
      "<block>:4:24-39: info: atom does not occur in any rule head:\n",
      "  component(Dual)\n",
      "\n",
      "<block>:5:2-20: info: atom does not occur in any rule head:\n",
      "  contract(Contract)\n",
      "\n",
      "<block>:7:2-41: info: atom does not occur in any rule head:\n",
      "  contract_component(Contract,Component)\n",
      "\n",
      "<block>:7:43-77: info: atom does not occur in any rule head:\n",
      "  contract_component(Contract,Dual)\n",
      "\n",
      "<block>:11:3-23: info: atom does not occur in any rule head:\n",
      "  component(Component)\n",
      "\n",
      "<block>:11:25-50: info: atom does not occur in any rule head:\n",
      "  componentState(SuccState)\n",
      "\n",
      "<block>:11:52-59: info: atom does not occur in any rule head:\n",
      "  time(T)\n",
      "\n",
      "<block>:12:3-24: info: atom does not occur in any rule head:\n",
      "  componentState(State)\n",
      "\n",
      "<block>:12:26-55: info: atom does not occur in any rule head:\n",
      "  transitionAction(TransAction)\n",
      "\n",
      "<block>:14:3-57: info: atom does not occur in any rule head:\n",
      "  state_transAction_state(State,TransAction,SuccState)\n",
      "\n",
      "<block>:19:3-23: info: atom does not occur in any rule head:\n",
      "  component(Component)\n",
      "\n",
      "<block>:19:25-47: info: atom does not occur in any rule head:\n",
      "  componentState(State1)\n",
      "\n",
      "<block>:19:49-56: info: atom does not occur in any rule head:\n",
      "  time(T)\n",
      "\n",
      "<block>:20:3-24: info: atom does not occur in any rule head:\n",
      "  componentState(State)\n",
      "\n",
      "<block>:20:26-48: info: atom does not occur in any rule head:\n",
      "  componentState(State2)\n",
      "\n",
      "<block>:20:50-80: info: atom does not occur in any rule head:\n",
      "  transitionAction(TransAction1)\n",
      "\n",
      "<block>:20:82-112: info: atom does not occur in any rule head:\n",
      "  transitionAction(TransAction2)\n",
      "\n",
      "<block>:22:3-55: info: atom does not occur in any rule head:\n",
      "  state_transAction_state(State,TransAction1,State1)\n",
      "\n",
      "<block>:23:3-55: info: atom does not occur in any rule head:\n",
      "  state_transAction_state(State,TransAction2,State2)\n",
      "\n"
     ]
    }
   ],
   "source": [
    "contract_dynamic = \"\"\"\n",
    "\n",
    "component_dual(Component, Dual) :-\n",
    " component(Component), component(Dual),\n",
    " contract(Contract),\n",
    " Component != Dual,\n",
    " contract_component(Contract, Component), contract_component(Contract, Dual).\n",
    "\n",
    "% If the transition event does not occur then there is no transition\n",
    "-transComp_state_at(Component, SuccState, T) :-\n",
    "  component(Component), componentState(SuccState), time(T),\n",
    "  componentState(State), transitionAction(TransAction),\n",
    "  deo_at(component_state(Component, State), T),\n",
    "  state_transAction_state(State, TransAction, SuccState),\n",
    "  not trans_comp_at(TransAction, Component, T).\n",
    "\n",
    "% If two states have the same successor state and both states can be reached they will not transition\n",
    "-transComp_state_at(Component, State1, T) :-\n",
    "  component(Component), componentState(State1), time(T),\n",
    "  componentState(State), componentState(State2), transitionAction(TransAction1), transitionAction(TransAction2),\n",
    "  deo_at(component_state(Component, State), T),\n",
    "  state_transAction_state(State, TransAction1, State1),\n",
    "  state_transAction_state(State, TransAction2, State2),\n",
    "  state_transAction_state(State1, TransAction2, SuccState),\n",
    "  state_transAction_state(State2, TransAction1, SuccState),\n",
    "  trans_comp_at(TransAction1, Component, T),\n",
    "  trans_comp_at(TransAction2, Component, T).\n",
    "\n",
    "% If a transition is not impossible then it will be executed\n",
    "transComp_state_at(Component, SuccState, T) :-\n",
    "  component(Component), componentState(SuccState), time(T),\n",
    "  componentState(State),\n",
    "  deo_at(component_state(Component, State), T),\n",
    "  state_transAction_state(State, _, SuccState),\n",
    "  not -transComp_state_at(Component, SuccState, T).\n",
    "\n",
    "% INERTIA\n",
    "deo_at(component_state(Component, State), T+1) :-\n",
    "  component(Component), componentState(State), time(T+1),\n",
    "  time(T),\n",
    "  deo_at(component_state(Component, State), T),\n",
    "  not transComp_state_at(Component, _, T).\n",
    "\n",
    "% TRANSITION\n",
    "deo_at(component_state(Component, SuccState), T+1) :-\n",
    "  component(Component), componentState(SuccState), time(T+1),\n",
    "  time(T), componentState(State),\n",
    "  deo_at(component_state(Component, State), T),\n",
    "  transComp_state_at(Component, SuccState, T).\n",
    "\n",
    "%%%\n",
    "trans_comp_at(\"LE\", Component, T) :-\n",
    "  component(Component), time(T),\n",
    "  item(Item), attainment(Attainment), agent(Provider), agent(Beneficiary),\n",
    "  component_provider(Component, Provider),\n",
    "  component_beneficiary(Component, Beneficiary),\n",
    "  component_item(Component, Item),\n",
    "  item_attainment(Item, Attainment),\n",
    "  occ_at(agent_does(Provider, give_fromAcc_to_because(Attainment, _, Beneficiary, Component)), T),\n",
    "  occ_at(agent_does(Beneficiary, accept_intoAcc_from_because(Attainment, _, Provider, Component)), T).\n",
    "\n",
    "trans_comp_at(\"LE\", Component, T) :-\n",
    "  component(Component), time(T),\n",
    "  item(Item), attainment(Attainment), agent(Provider), agent(Beneficiary),\n",
    "  component_provider(Component, Provider),\n",
    "  component_beneficiary(Component, Beneficiary),\n",
    "  component_item(Component, Item),\n",
    "  item_attainment(Item, Attainment),\n",
    "  occ_at(agent_does(Provider, provide_to_because(Attainment, Beneficiary, Component)), T),\n",
    "  occ_at(agent_does(Beneficiary, allow_from_because(Attainment, Provider, Component)), T).\n",
    "\n",
    "trans_comp_at(\"GLE\", Component, T) :-\n",
    "  component(Component), time(T),\n",
    "  component(Dual),\n",
    "  component_dual(Component, Dual),\n",
    "  trans_comp_at(\"LE\", Dual, T).\n",
    "\n",
    "\"\"\"\n",
    "solve([contract_dynamic], report_answersets=False);"
   ],
   "metadata": {
    "collapsed": false,
    "pycharm": {
     "name": "#%%\n"
    }
   }
  },
  {
   "cell_type": "code",
   "execution_count": 514,
   "outputs": [
    {
     "name": "stdout",
     "output_type": "stream",
     "text": [
      "SAT 1\n"
     ]
    },
    {
     "name": "stderr",
     "output_type": "stream",
     "text": [
      "<block>:4:3-23: info: atom does not occur in any rule head:\n",
      "  component(Component)\n",
      "\n",
      "<block>:4:25-32: info: atom does not occur in any rule head:\n",
      "  time(T)\n",
      "\n",
      "<block>:5:3-21: info: atom does not occur in any rule head:\n",
      "  contract(Contract)\n",
      "\n",
      "<block>:6:3-42: info: atom does not occur in any rule head:\n",
      "  contract_component(Contract,Component)\n",
      "\n",
      "<block>:7:3-31: info: atom does not occur in any rule head:\n",
      "  initContract_at(Contract,T)\n",
      "\n"
     ]
    }
   ],
   "source": [
    "contract_init = \"\"\"\n",
    "\n",
    "deo_at(component_state(Component, \"Initialisiert\"), T) :-\n",
    "  component(Component), time(T),\n",
    "  contract(Contract),\n",
    "  contract_component(Contract, Component),\n",
    "  initContract_at(Contract, T).\n",
    "\n",
    "\"\"\"\n",
    "solve([contract_init], report_answersets=False);"
   ],
   "metadata": {
    "collapsed": false,
    "pycharm": {
     "name": "#%%\n"
    }
   }
  },
  {
   "cell_type": "code",
   "execution_count": 515,
   "outputs": [
    {
     "name": "stdout",
     "output_type": "stream",
     "text": [
      "SAT 1\n"
     ]
    },
    {
     "name": "stderr",
     "output_type": "stream",
     "text": [
      "<block>:6:33-51: info: atom does not occur in any rule head:\n",
      "  contract(Contract)\n",
      "\n"
     ]
    }
   ],
   "source": [
    "instance = \"\"\"\n",
    "\n",
    "time(1..4).\n",
    "\n",
    "acc_initBal(\"Besitzer:Maschinen Bauteile\", 2).\n",
    "initContract_at(Contract, 1) :- contract(Contract).\n",
    "\n",
    "%% Dienstleistung\n",
    "\n",
    "occ_at(agent_does(\"Arbeiter\", provide_to_because(action(\"arbeiten\"), \"Besitzer\", \"Dienstleistung Tag 1: Arbeit\")), 1).\n",
    "occ_at(agent_does(\"Besitzer\", allow_from_because(action(\"arbeiten\"), \"Arbeiter\", \"Dienstleistung Tag 1: Arbeit\")), 1).\n",
    "\n",
    "occ_at(agent_does(\"Arbeiter\", provide_to_because(action(\"arbeiten\"), \"Besitzer\", \"Dienstleistung Tag 2: Arbeit\")), 2).\n",
    "occ_at(agent_does(\"Besitzer\", allow_from_because(action(\"arbeiten\"), \"Arbeiter\", \"Dienstleistung Tag 2: Arbeit\")), 2).\n",
    "\n",
    "occ_at(agent_does(\"Besitzer\", give_fromAcc_to_because(amount_resource(2, \"Geld\"), \"Besitzer:Geld\", \"Arbeiter\", \"Dienstleistung Tag 1: Lohn\")), 3).\n",
    "occ_at(agent_does(\"Arbeiter\", accept_intoAcc_from_because(amount_resource(2, \"Geld\"), \"Arbeiter:Geld\", \"Besitzer\", \"Dienstleistung Tag 1: Lohn\")), 3).\n",
    "\n",
    "occ_at(agent_does(\"Besitzer\", give_fromAcc_to_because(amount_resource(2, \"Geld\"), \"Besitzer:Geld\", \"Arbeiter\", \"Dienstleistung Tag 2: Lohn\")), 3).\n",
    "occ_at(agent_does(\"Arbeiter\", accept_intoAcc_from_because(amount_resource(2, \"Geld\"), \"Arbeiter:Geld\", \"Besitzer\", \"Dienstleistung Tag 2: Lohn\")), 3).\n",
    "\n",
    "%% Handel\n",
    "\n",
    "occ_at(agent_does(\"Besitzer\", give_fromAcc_to_because(amount_resource(2, \"Essen\"), \"Besitzer:Essen\", \"Arbeiter\", \"Handel Tag 1: Lieferung\")), 1).\n",
    "occ_at(agent_does(\"Arbeiter\", accept_intoAcc_from_because(amount_resource(2, \"Essen\"), \"Arbeiter:Essen\", \"Besitzer\", \"Handel Tag 1: Lieferung\")), 1).\n",
    "\n",
    "occ_at(agent_does(\"Arbeiter\", give_fromAcc_to_because(amount_resource(2, \"Geld\"), \"Arbeiter:Geld\", \"Besitzer\", \"Handel Tag 1: Bezahlung\")), 3).\n",
    "occ_at(agent_does(\"Besitzer\", accept_intoAcc_from_because(amount_resource(2, \"Geld\"), \"Besitzer:Geld\", \"Arbeiter\", \"Handel Tag 1: Bezahlung\")), 3).\n",
    "\n",
    "\n",
    "occ_at(agent_does(\"Besitzer\", give_fromAcc_to_because(amount_resource(2, \"Essen\"), \"Besitzer:Essen\", \"Arbeiter\", \"Handel Tag 2: Lieferung\")), 2).\n",
    "occ_at(agent_does(\"Arbeiter\", accept_intoAcc_from_because(amount_resource(2, \"Essen\"), \"Arbeiter:Essen\", \"Besitzer\", \"Handel Tag 2: Lieferung\")), 2).\n",
    "\n",
    "occ_at(agent_does(\"Arbeiter\", give_fromAcc_to_because(amount_resource(2, \"Geld\"), \"Arbeiter:Geld\", \"Besitzer\", \"Handel Tag 2: Bezahlung\")), 3).\n",
    "occ_at(agent_does(\"Besitzer\", accept_intoAcc_from_because(amount_resource(2, \"Geld\"), \"Besitzer:Geld\", \"Arbeiter\", \"Handel Tag 2: Bezahlung\")), 3).\n",
    "\n",
    "\n",
    "\n",
    "\n",
    "\"\"\"\n",
    "solve([instance], report_answersets=False);"
   ],
   "metadata": {
    "collapsed": false,
    "pycharm": {
     "name": "#%%\n"
    }
   }
  },
  {
   "cell_type": "code",
   "execution_count": 516,
   "outputs": [],
   "source": [
    "prg = (\n",
    "    resources,\n",
    "    accounts,\n",
    "    agents,\n",
    "    items,\n",
    "    attainment,\n",
    "    actions,\n",
    "    account_resource,\n",
    "    action_consequences,\n",
    "    balance_rules,\n",
    "    balance_init,\n",
    "    contract_domain,\n",
    "    contract_static,\n",
    "    contract_dynamic,\n",
    "    contract_init,\n",
    "    instance,\n",
    ")"
   ],
   "metadata": {
    "collapsed": false,
    "pycharm": {
     "name": "#%%\n"
    }
   }
  },
  {
   "cell_type": "code",
   "execution_count": 517,
   "outputs": [
    {
     "name": "stdout",
     "output_type": "stream",
     "text": [
      "Answer 1: {\n",
      "deo_at(component_state(\"Dienstleistung Tag 1: Arbeit\",\"Gewährleistung\"),2)\n",
      "deo_at(component_state(\"Dienstleistung Tag 1: Arbeit\",\"Gewährleistung\"),3)\n",
      "deo_at(component_state(\"Dienstleistung Tag 1: Arbeit\",\"Gewährleistung [GLE]\"),4)\n",
      "deo_at(component_state(\"Dienstleistung Tag 1: Arbeit\",\"Initialisiert\"),1)\n",
      "deo_at(component_state(\"Dienstleistung Tag 1: Lohn\",\"Gewährleistung [GLE]\"),4)\n",
      "deo_at(component_state(\"Dienstleistung Tag 1: Lohn\",\"Initialisiert\"),1)\n",
      "deo_at(component_state(\"Dienstleistung Tag 1: Lohn\",\"Initialisiert [GLE]\"),2)\n",
      "deo_at(component_state(\"Dienstleistung Tag 1: Lohn\",\"Initialisiert [GLE]\"),3)\n",
      "deo_at(component_state(\"Dienstleistung Tag 2: Arbeit\",\"Gewährleistung\"),3)\n",
      "deo_at(component_state(\"Dienstleistung Tag 2: Arbeit\",\"Gewährleistung [GLE]\"),4)\n",
      "deo_at(component_state(\"Dienstleistung Tag 2: Arbeit\",\"Initialisiert\"),1)\n",
      "deo_at(component_state(\"Dienstleistung Tag 2: Arbeit\",\"Initialisiert\"),2)\n",
      "deo_at(component_state(\"Dienstleistung Tag 2: Lohn\",\"Gewährleistung [GLE]\"),4)\n",
      "deo_at(component_state(\"Dienstleistung Tag 2: Lohn\",\"Initialisiert\"),1)\n",
      "deo_at(component_state(\"Dienstleistung Tag 2: Lohn\",\"Initialisiert\"),2)\n",
      "deo_at(component_state(\"Dienstleistung Tag 2: Lohn\",\"Initialisiert [GLE]\"),3)\n",
      "deo_at(component_state(\"Handel Tag 1: Bezahlung\",\"Gewährleistung [GLE]\"),4)\n",
      "deo_at(component_state(\"Handel Tag 1: Bezahlung\",\"Initialisiert\"),1)\n",
      "deo_at(component_state(\"Handel Tag 1: Bezahlung\",\"Initialisiert [GLE]\"),2)\n",
      "deo_at(component_state(\"Handel Tag 1: Bezahlung\",\"Initialisiert [GLE]\"),3)\n",
      "deo_at(component_state(\"Handel Tag 1: Lieferung\",\"Gewährleistung\"),2)\n",
      "deo_at(component_state(\"Handel Tag 1: Lieferung\",\"Gewährleistung\"),3)\n",
      "deo_at(component_state(\"Handel Tag 1: Lieferung\",\"Gewährleistung [GLE]\"),4)\n",
      "deo_at(component_state(\"Handel Tag 1: Lieferung\",\"Initialisiert\"),1)\n",
      "deo_at(component_state(\"Handel Tag 2: Bezahlung\",\"Gewährleistung [GLE]\"),4)\n",
      "deo_at(component_state(\"Handel Tag 2: Bezahlung\",\"Initialisiert\"),1)\n",
      "deo_at(component_state(\"Handel Tag 2: Bezahlung\",\"Initialisiert\"),2)\n",
      "deo_at(component_state(\"Handel Tag 2: Bezahlung\",\"Initialisiert [GLE]\"),3)\n",
      "deo_at(component_state(\"Handel Tag 2: Lieferung\",\"Gewährleistung\"),3)\n",
      "deo_at(component_state(\"Handel Tag 2: Lieferung\",\"Gewährleistung [GLE]\"),4)\n",
      "deo_at(component_state(\"Handel Tag 2: Lieferung\",\"Initialisiert\"),1)\n",
      "deo_at(component_state(\"Handel Tag 2: Lieferung\",\"Initialisiert\"),2)\n",
      "obs_at(acc_bal(\"Arbeiter:Essen\",0),1)\n",
      "obs_at(acc_bal(\"Arbeiter:Essen\",2),2)\n",
      "obs_at(acc_bal(\"Arbeiter:Essen\",4),3)\n",
      "obs_at(acc_bal(\"Arbeiter:Essen\",4),4)\n",
      "obs_at(acc_bal(\"Arbeiter:Geld\",0),1)\n",
      "obs_at(acc_bal(\"Arbeiter:Geld\",0),2)\n",
      "obs_at(acc_bal(\"Arbeiter:Geld\",0),3)\n",
      "obs_at(acc_bal(\"Arbeiter:Geld\",0),4)\n",
      "obs_at(acc_bal(\"Besitzer:Essen\",-4),3)\n",
      "obs_at(acc_bal(\"Besitzer:Essen\",-4),4)\n",
      "obs_at(acc_bal(\"Besitzer:Essen\",-2),2)\n",
      "obs_at(acc_bal(\"Besitzer:Essen\",0),1)\n",
      "obs_at(acc_bal(\"Besitzer:Geld\",0),1)\n",
      "obs_at(acc_bal(\"Besitzer:Geld\",0),2)\n",
      "obs_at(acc_bal(\"Besitzer:Geld\",0),3)\n",
      "obs_at(acc_bal(\"Besitzer:Geld\",0),4)\n",
      "obs_at(acc_bal(\"Besitzer:Maschine\",0),1)\n",
      "obs_at(acc_bal(\"Besitzer:Maschine\",0),3)\n",
      "obs_at(acc_bal(\"Besitzer:Maschine\",0),4)\n",
      "obs_at(acc_bal(\"Besitzer:Maschine\",1),2)\n",
      "obs_at(acc_bal(\"Besitzer:Maschinen Bauteile\",0),2)\n",
      "obs_at(acc_bal(\"Besitzer:Maschinen Bauteile\",2),1)\n",
      "obs_at(acc_bal(\"Besitzer:Maschinen Bauteile\",2),3)\n",
      "obs_at(acc_bal(\"Besitzer:Maschinen Bauteile\",2),4)\n",
      "occ_at(account_valueChange(\"Arbeiter:Essen\",0),3)\n",
      "occ_at(account_valueChange(\"Arbeiter:Essen\",0),4)\n",
      "occ_at(account_valueChange(\"Arbeiter:Essen\",2),1)\n",
      "occ_at(account_valueChange(\"Arbeiter:Essen\",2),2)\n",
      "occ_at(account_valueChange(\"Arbeiter:Geld\",0),1)\n",
      "occ_at(account_valueChange(\"Arbeiter:Geld\",0),2)\n",
      "occ_at(account_valueChange(\"Arbeiter:Geld\",0),3)\n",
      "occ_at(account_valueChange(\"Arbeiter:Geld\",0),4)\n",
      "occ_at(account_valueChange(\"Besitzer:Essen\",-2),1)\n",
      "occ_at(account_valueChange(\"Besitzer:Essen\",-2),2)\n",
      "occ_at(account_valueChange(\"Besitzer:Essen\",0),3)\n",
      "occ_at(account_valueChange(\"Besitzer:Essen\",0),4)\n",
      "occ_at(account_valueChange(\"Besitzer:Geld\",0),1)\n",
      "occ_at(account_valueChange(\"Besitzer:Geld\",0),2)\n",
      "occ_at(account_valueChange(\"Besitzer:Geld\",0),3)\n",
      "occ_at(account_valueChange(\"Besitzer:Geld\",0),4)\n",
      "occ_at(account_valueChange(\"Besitzer:Maschine\",-1),2)\n",
      "occ_at(account_valueChange(\"Besitzer:Maschine\",0),3)\n",
      "occ_at(account_valueChange(\"Besitzer:Maschine\",0),4)\n",
      "occ_at(account_valueChange(\"Besitzer:Maschine\",1),1)\n",
      "occ_at(account_valueChange(\"Besitzer:Maschinen Bauteile\",-2),1)\n",
      "occ_at(account_valueChange(\"Besitzer:Maschinen Bauteile\",0),3)\n",
      "occ_at(account_valueChange(\"Besitzer:Maschinen Bauteile\",0),4)\n",
      "occ_at(account_valueChange(\"Besitzer:Maschinen Bauteile\",2),2)\n",
      "occ_at(agent_does(\"Arbeiter\",provide_to_because(action(\"arbeiten\"),\"Besitzer\",\"Dienstleistung Tag 1: Arbeit\")),1)\n",
      "occ_at(agent_does(\"Arbeiter\",provide_to_because(action(\"arbeiten\"),\"Besitzer\",\"Dienstleistung Tag 2: Arbeit\")),2)\n",
      "occ_at(agent_does(\"Arbeiter\",accept_intoAcc_from_because(amount_resource(2,\"Essen\"),\"Arbeiter:Essen\",\"Besitzer\",\"Handel Tag 1: Lieferung\")),1)\n",
      "occ_at(agent_does(\"Arbeiter\",accept_intoAcc_from_because(amount_resource(2,\"Essen\"),\"Arbeiter:Essen\",\"Besitzer\",\"Handel Tag 2: Lieferung\")),2)\n",
      "occ_at(agent_does(\"Arbeiter\",accept_intoAcc_from_because(amount_resource(2,\"Geld\"),\"Arbeiter:Geld\",\"Besitzer\",\"Dienstleistung Tag 1: Lohn\")),3)\n",
      "occ_at(agent_does(\"Arbeiter\",accept_intoAcc_from_because(amount_resource(2,\"Geld\"),\"Arbeiter:Geld\",\"Besitzer\",\"Dienstleistung Tag 2: Lohn\")),3)\n",
      "occ_at(agent_does(\"Arbeiter\",give_fromAcc_to_because(amount_resource(2,\"Geld\"),\"Arbeiter:Geld\",\"Besitzer\",\"Handel Tag 1: Bezahlung\")),3)\n",
      "occ_at(agent_does(\"Arbeiter\",give_fromAcc_to_because(amount_resource(2,\"Geld\"),\"Arbeiter:Geld\",\"Besitzer\",\"Handel Tag 2: Bezahlung\")),3)\n",
      "occ_at(agent_does(\"Besitzer\",allow_from_because(action(\"arbeiten\"),\"Arbeiter\",\"Dienstleistung Tag 1: Arbeit\")),1)\n",
      "occ_at(agent_does(\"Besitzer\",allow_from_because(action(\"arbeiten\"),\"Arbeiter\",\"Dienstleistung Tag 2: Arbeit\")),2)\n",
      "occ_at(agent_does(\"Besitzer\",accept_intoAcc_from_because(amount_resource(2,\"Geld\"),\"Besitzer:Geld\",\"Arbeiter\",\"Handel Tag 1: Bezahlung\")),3)\n",
      "occ_at(agent_does(\"Besitzer\",accept_intoAcc_from_because(amount_resource(2,\"Geld\"),\"Besitzer:Geld\",\"Arbeiter\",\"Handel Tag 2: Bezahlung\")),3)\n",
      "occ_at(agent_does(\"Besitzer\",give_fromAcc_to_because(amount_resource(2,\"Essen\"),\"Besitzer:Essen\",\"Arbeiter\",\"Handel Tag 1: Lieferung\")),1)\n",
      "occ_at(agent_does(\"Besitzer\",give_fromAcc_to_because(amount_resource(2,\"Essen\"),\"Besitzer:Essen\",\"Arbeiter\",\"Handel Tag 2: Lieferung\")),2)\n",
      "occ_at(agent_does(\"Besitzer\",give_fromAcc_to_because(amount_resource(2,\"Geld\"),\"Besitzer:Geld\",\"Arbeiter\",\"Dienstleistung Tag 1: Lohn\")),3)\n",
      "occ_at(agent_does(\"Besitzer\",give_fromAcc_to_because(amount_resource(2,\"Geld\"),\"Besitzer:Geld\",\"Arbeiter\",\"Dienstleistung Tag 2: Lohn\")),3)\n",
      "occ_at(expense(1,\"Maschine\",\"Besitzer:Maschine\"),2)\n",
      "occ_at(expense(2,\"Maschinen Bauteile\",\"Besitzer:Maschinen Bauteile\"),1)\n",
      "occ_at(income(1,\"Maschine\",\"Besitzer:Maschine\"),1)\n",
      "occ_at(income(2,\"Maschinen Bauteile\",\"Besitzer:Maschinen Bauteile\"),2)\n",
      "occ_at(transaction(2,\"Essen\",\"Besitzer:Essen\",\"Arbeiter:Essen\",\"Handel Tag 1: Lieferung\"),1)\n",
      "occ_at(transaction(2,\"Essen\",\"Besitzer:Essen\",\"Arbeiter:Essen\",\"Handel Tag 2: Lieferung\"),2)\n",
      "occ_at(transaction(2,\"Geld\",\"Arbeiter:Geld\",\"Besitzer:Geld\",\"Handel Tag 1: Bezahlung\"),3)\n",
      "occ_at(transaction(2,\"Geld\",\"Arbeiter:Geld\",\"Besitzer:Geld\",\"Handel Tag 2: Bezahlung\"),3)\n",
      "occ_at(transaction(2,\"Geld\",\"Besitzer:Geld\",\"Arbeiter:Geld\",\"Dienstleistung Tag 1: Lohn\"),3)\n",
      "occ_at(transaction(2,\"Geld\",\"Besitzer:Geld\",\"Arbeiter:Geld\",\"Dienstleistung Tag 2: Lohn\"),3)\n",
      "}\n",
      "SAT 1\n"
     ]
    }
   ],
   "source": [
    "solve((*prg,\n",
    "       '#show obs_at/2.',\n",
    "       '#show occ_at/2.',\n",
    "       '#show deo_at/2.',\n",
    "       ), sep='\\n');"
   ],
   "metadata": {
    "collapsed": false,
    "pycharm": {
     "name": "#%%\n"
    }
   }
  },
  {
   "cell_type": "code",
   "execution_count": 518,
   "outputs": [],
   "source": [
    "consistency_checks = \"\"\"\n",
    ":- account_resource(Acc, Res), not resource(Res).\n",
    ":- account_resource(Acc, Res), not account(Acc).\n",
    ":- obs_at(acc_bal(Acc, B1), T), obs_at(acc_bal(Acc, B2), T), B1 != B2.\n",
    ":- acc_initBal(Acc, B), not account(Acc).\n",
    ":- acc_initBal(Acc, B), B < 0.\n",
    "\"\"\""
   ],
   "metadata": {
    "collapsed": false,
    "pycharm": {
     "name": "#%%\n"
    }
   }
  },
  {
   "cell_type": "code",
   "execution_count": 519,
   "outputs": [
    {
     "name": "stdout",
     "output_type": "stream",
     "text": [
      "Run without checks:\n",
      "SAT 1\n",
      "Run with checks:\n",
      "SAT 1\n"
     ]
    },
    {
     "data": {
      "text/plain": "True"
     },
     "execution_count": 519,
     "metadata": {},
     "output_type": "execute_result"
    }
   ],
   "source": [
    "check(prg, consistency_checks)"
   ],
   "metadata": {
    "collapsed": false,
    "pycharm": {
     "name": "#%%\n"
    }
   }
  }
 ],
 "metadata": {
  "kernelspec": {
   "display_name": "Python 3",
   "language": "python",
   "name": "python3"
  },
  "language_info": {
   "codemirror_mode": {
    "name": "ipython",
    "version": 2
   },
   "file_extension": ".py",
   "mimetype": "text/x-python",
   "name": "python",
   "nbconvert_exporter": "python",
   "pygments_lexer": "ipython2",
   "version": "2.7.6"
  }
 },
 "nbformat": 4,
 "nbformat_minor": 0
}