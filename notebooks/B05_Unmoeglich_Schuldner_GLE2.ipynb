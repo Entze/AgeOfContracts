{
 "cells": [
  {
   "cell_type": "code",
   "execution_count": 1,
   "metadata": {
    "collapsed": true
   },
   "outputs": [],
   "source": [
    "import clingo\n",
    "\n",
    "from typing import Sequence"
   ]
  },
  {
   "cell_type": "code",
   "execution_count": 2,
   "outputs": [],
   "source": [
    "def solve(programs: Sequence[str], grounding_context=None, sep:str=' ', report_answersets=True):\n",
    "    ctl = clingo.Control((\"--models\", \"0\"))\n",
    "    for program in programs:\n",
    "        ctl.add(\"base\", (), program)\n",
    "\n",
    "    ctl.ground(((\"base\", ()),), grounding_context)\n",
    "\n",
    "    models = []\n",
    "\n",
    "    with ctl.solve(yield_=True) as solve_handle:\n",
    "        for i, model in enumerate(solve_handle):\n",
    "            assert isinstance(model, clingo.Model)\n",
    "            symbols = model.symbols(shown=True)\n",
    "            if report_answersets:\n",
    "                print(\"Answer {}: {}{}{}{}{}\".format(i + 1, \"{\", sep, sep.join(map(str, sorted(symbols))), sep, \"}\"))\n",
    "            models.append(symbols)\n",
    "        mode = \"UNKNOWN\"\n",
    "        solve_result = solve_handle.get()\n",
    "        if solve_result.satisfiable:\n",
    "            mode = \"SAT\"\n",
    "        elif solve_result.unsatisfiable:\n",
    "            mode = \"UNSAT\"\n",
    "        cardinality_suffix = \"\"\n",
    "        if not solve_result.exhausted:\n",
    "            cardinality_suffix = \"+\"\n",
    "        print(mode, \"{}{}\".format(len(models), cardinality_suffix))\n",
    "\n",
    "    return models"
   ],
   "metadata": {
    "collapsed": false,
    "pycharm": {
     "name": "#%%\n"
    }
   }
  },
  {
   "cell_type": "code",
   "execution_count": 3,
   "outputs": [],
   "source": [
    "def check(programs: Sequence[str], consistency_checks:str, grounding_context=None):\n",
    "    print(\"Run without checks:\")\n",
    "    wo_checks = solve(programs, grounding_context, report_answersets=False)\n",
    "    print(\"Run with checks:\")\n",
    "    w_checks = solve((*programs, consistency_checks), grounding_context, report_answersets=False)\n",
    "    return len(wo_checks) == len(w_checks)"
   ],
   "metadata": {
    "collapsed": false,
    "pycharm": {
     "name": "#%%\n"
    }
   }
  },
  {
   "cell_type": "code",
   "execution_count": 4,
   "outputs": [
    {
     "name": "stdout",
     "output_type": "stream",
     "text": [
      "Answer 1: { action(gather(\"Holz\")) action(gather(\"Nahrung\")) action(process_to(\"Holz\",\"Brett\")) action(process_to(\"Nahrung\",\"Ration\")) action(accept_from_because(\"Brett\",bob,\"Lieferung Brett\")) action(accept_from_because(\"Brett\",bob,\"Lieferung Brett Austauschanspruch\")) action(accept_from_because(\"Brett\",bob,\"Lieferung Brett Differenzanspruch\")) action(accept_from_because(\"Brett\",bob,\"Lieferung Brett cont.\")) action(accept_from_because(\"Brett\",bob,\"Lieferung Ration\")) action(accept_from_because(\"Brett\",bob,\"Nachfrist Lieferung Brett\")) action(accept_from_because(\"Brett\",bob,\"Rückabwicklung Ration\")) action(accept_from_because(\"Brett\",woody,\"Lieferung Brett\")) action(accept_from_because(\"Brett\",woody,\"Lieferung Brett Austauschanspruch\")) action(accept_from_because(\"Brett\",woody,\"Lieferung Brett Differenzanspruch\")) action(accept_from_because(\"Brett\",woody,\"Lieferung Brett cont.\")) action(accept_from_because(\"Brett\",woody,\"Lieferung Ration\")) action(accept_from_because(\"Brett\",woody,\"Nachfrist Lieferung Brett\")) action(accept_from_because(\"Brett\",woody,\"Rückabwicklung Ration\")) action(accept_from_because(\"Geld\",bob,\"Lieferung Brett\")) action(accept_from_because(\"Geld\",bob,\"Lieferung Brett Austauschanspruch\")) action(accept_from_because(\"Geld\",bob,\"Lieferung Brett Differenzanspruch\")) action(accept_from_because(\"Geld\",bob,\"Lieferung Brett cont.\")) action(accept_from_because(\"Geld\",bob,\"Lieferung Ration\")) action(accept_from_because(\"Geld\",bob,\"Nachfrist Lieferung Brett\")) action(accept_from_because(\"Geld\",bob,\"Rückabwicklung Ration\")) action(accept_from_because(\"Geld\",woody,\"Lieferung Brett\")) action(accept_from_because(\"Geld\",woody,\"Lieferung Brett Austauschanspruch\")) action(accept_from_because(\"Geld\",woody,\"Lieferung Brett Differenzanspruch\")) action(accept_from_because(\"Geld\",woody,\"Lieferung Brett cont.\")) action(accept_from_because(\"Geld\",woody,\"Lieferung Ration\")) action(accept_from_because(\"Geld\",woody,\"Nachfrist Lieferung Brett\")) action(accept_from_because(\"Geld\",woody,\"Rückabwicklung Ration\")) action(accept_from_because(\"Gemälde\",bob,\"Lieferung Brett\")) action(accept_from_because(\"Gemälde\",bob,\"Lieferung Brett Austauschanspruch\")) action(accept_from_because(\"Gemälde\",bob,\"Lieferung Brett Differenzanspruch\")) action(accept_from_because(\"Gemälde\",bob,\"Lieferung Brett cont.\")) action(accept_from_because(\"Gemälde\",bob,\"Lieferung Ration\")) action(accept_from_because(\"Gemälde\",bob,\"Nachfrist Lieferung Brett\")) action(accept_from_because(\"Gemälde\",bob,\"Rückabwicklung Ration\")) action(accept_from_because(\"Gemälde\",woody,\"Lieferung Brett\")) action(accept_from_because(\"Gemälde\",woody,\"Lieferung Brett Austauschanspruch\")) action(accept_from_because(\"Gemälde\",woody,\"Lieferung Brett Differenzanspruch\")) action(accept_from_because(\"Gemälde\",woody,\"Lieferung Brett cont.\")) action(accept_from_because(\"Gemälde\",woody,\"Lieferung Ration\")) action(accept_from_because(\"Gemälde\",woody,\"Nachfrist Lieferung Brett\")) action(accept_from_because(\"Gemälde\",woody,\"Rückabwicklung Ration\")) action(accept_from_because(\"Holz\",bob,\"Lieferung Brett\")) action(accept_from_because(\"Holz\",bob,\"Lieferung Brett Austauschanspruch\")) action(accept_from_because(\"Holz\",bob,\"Lieferung Brett Differenzanspruch\")) action(accept_from_because(\"Holz\",bob,\"Lieferung Brett cont.\")) action(accept_from_because(\"Holz\",bob,\"Lieferung Ration\")) action(accept_from_because(\"Holz\",bob,\"Nachfrist Lieferung Brett\")) action(accept_from_because(\"Holz\",bob,\"Rückabwicklung Ration\")) action(accept_from_because(\"Holz\",woody,\"Lieferung Brett\")) action(accept_from_because(\"Holz\",woody,\"Lieferung Brett Austauschanspruch\")) action(accept_from_because(\"Holz\",woody,\"Lieferung Brett Differenzanspruch\")) action(accept_from_because(\"Holz\",woody,\"Lieferung Brett cont.\")) action(accept_from_because(\"Holz\",woody,\"Lieferung Ration\")) action(accept_from_because(\"Holz\",woody,\"Nachfrist Lieferung Brett\")) action(accept_from_because(\"Holz\",woody,\"Rückabwicklung Ration\")) action(accept_from_because(\"Nahrung\",bob,\"Lieferung Brett\")) action(accept_from_because(\"Nahrung\",bob,\"Lieferung Brett Austauschanspruch\")) action(accept_from_because(\"Nahrung\",bob,\"Lieferung Brett Differenzanspruch\")) action(accept_from_because(\"Nahrung\",bob,\"Lieferung Brett cont.\")) action(accept_from_because(\"Nahrung\",bob,\"Lieferung Ration\")) action(accept_from_because(\"Nahrung\",bob,\"Nachfrist Lieferung Brett\")) action(accept_from_because(\"Nahrung\",bob,\"Rückabwicklung Ration\")) action(accept_from_because(\"Nahrung\",woody,\"Lieferung Brett\")) action(accept_from_because(\"Nahrung\",woody,\"Lieferung Brett Austauschanspruch\")) action(accept_from_because(\"Nahrung\",woody,\"Lieferung Brett Differenzanspruch\")) action(accept_from_because(\"Nahrung\",woody,\"Lieferung Brett cont.\")) action(accept_from_because(\"Nahrung\",woody,\"Lieferung Ration\")) action(accept_from_because(\"Nahrung\",woody,\"Nachfrist Lieferung Brett\")) action(accept_from_because(\"Nahrung\",woody,\"Rückabwicklung Ration\")) action(accept_from_because(\"Ration\",bob,\"Lieferung Brett\")) action(accept_from_because(\"Ration\",bob,\"Lieferung Brett Austauschanspruch\")) action(accept_from_because(\"Ration\",bob,\"Lieferung Brett Differenzanspruch\")) action(accept_from_because(\"Ration\",bob,\"Lieferung Brett cont.\")) action(accept_from_because(\"Ration\",bob,\"Lieferung Ration\")) action(accept_from_because(\"Ration\",bob,\"Nachfrist Lieferung Brett\")) action(accept_from_because(\"Ration\",bob,\"Rückabwicklung Ration\")) action(accept_from_because(\"Ration\",woody,\"Lieferung Brett\")) action(accept_from_because(\"Ration\",woody,\"Lieferung Brett Austauschanspruch\")) action(accept_from_because(\"Ration\",woody,\"Lieferung Brett Differenzanspruch\")) action(accept_from_because(\"Ration\",woody,\"Lieferung Brett cont.\")) action(accept_from_because(\"Ration\",woody,\"Lieferung Ration\")) action(accept_from_because(\"Ration\",woody,\"Nachfrist Lieferung Brett\")) action(accept_from_because(\"Ration\",woody,\"Rückabwicklung Ration\")) action(communicate_to_because(\"Am Vertrag festhalten\",bob,\"Lieferung Brett\")) action(communicate_to_because(\"Am Vertrag festhalten\",bob,\"Lieferung Brett Austauschanspruch\")) action(communicate_to_because(\"Am Vertrag festhalten\",bob,\"Lieferung Brett Differenzanspruch\")) action(communicate_to_because(\"Am Vertrag festhalten\",bob,\"Lieferung Brett cont.\")) action(communicate_to_because(\"Am Vertrag festhalten\",bob,\"Lieferung Ration\")) action(communicate_to_because(\"Am Vertrag festhalten\",bob,\"Nachfrist Lieferung Brett\")) action(communicate_to_because(\"Am Vertrag festhalten\",bob,\"Rückabwicklung Ration\")) action(communicate_to_because(\"Am Vertrag festhalten\",woody,\"Lieferung Brett\")) action(communicate_to_because(\"Am Vertrag festhalten\",woody,\"Lieferung Brett Austauschanspruch\")) action(communicate_to_because(\"Am Vertrag festhalten\",woody,\"Lieferung Brett Differenzanspruch\")) action(communicate_to_because(\"Am Vertrag festhalten\",woody,\"Lieferung Brett cont.\")) action(communicate_to_because(\"Am Vertrag festhalten\",woody,\"Lieferung Ration\")) action(communicate_to_because(\"Am Vertrag festhalten\",woody,\"Nachfrist Lieferung Brett\")) action(communicate_to_because(\"Am Vertrag festhalten\",woody,\"Rückabwicklung Ration\")) action(communicate_to_because(\"Vom Vertrag zurücktreten\",bob,\"Lieferung Brett\")) action(communicate_to_because(\"Vom Vertrag zurücktreten\",bob,\"Lieferung Brett Austauschanspruch\")) action(communicate_to_because(\"Vom Vertrag zurücktreten\",bob,\"Lieferung Brett Differenzanspruch\")) action(communicate_to_because(\"Vom Vertrag zurücktreten\",bob,\"Lieferung Brett cont.\")) action(communicate_to_because(\"Vom Vertrag zurücktreten\",bob,\"Lieferung Ration\")) action(communicate_to_because(\"Vom Vertrag zurücktreten\",bob,\"Nachfrist Lieferung Brett\")) action(communicate_to_because(\"Vom Vertrag zurücktreten\",bob,\"Rückabwicklung Ration\")) action(communicate_to_because(\"Vom Vertrag zurücktreten\",woody,\"Lieferung Brett\")) action(communicate_to_because(\"Vom Vertrag zurücktreten\",woody,\"Lieferung Brett Austauschanspruch\")) action(communicate_to_because(\"Vom Vertrag zurücktreten\",woody,\"Lieferung Brett Differenzanspruch\")) action(communicate_to_because(\"Vom Vertrag zurücktreten\",woody,\"Lieferung Brett cont.\")) action(communicate_to_because(\"Vom Vertrag zurücktreten\",woody,\"Lieferung Ration\")) action(communicate_to_because(\"Vom Vertrag zurücktreten\",woody,\"Nachfrist Lieferung Brett\")) action(communicate_to_because(\"Vom Vertrag zurücktreten\",woody,\"Rückabwicklung Ration\")) action(give_to_because(\"Brett\",bob,\"Lieferung Brett\")) action(give_to_because(\"Brett\",bob,\"Lieferung Brett Austauschanspruch\")) action(give_to_because(\"Brett\",bob,\"Lieferung Brett Differenzanspruch\")) action(give_to_because(\"Brett\",bob,\"Lieferung Brett cont.\")) action(give_to_because(\"Brett\",bob,\"Lieferung Ration\")) action(give_to_because(\"Brett\",bob,\"Nachfrist Lieferung Brett\")) action(give_to_because(\"Brett\",bob,\"Rückabwicklung Ration\")) action(give_to_because(\"Brett\",woody,\"Lieferung Brett\")) action(give_to_because(\"Brett\",woody,\"Lieferung Brett Austauschanspruch\")) action(give_to_because(\"Brett\",woody,\"Lieferung Brett Differenzanspruch\")) action(give_to_because(\"Brett\",woody,\"Lieferung Brett cont.\")) action(give_to_because(\"Brett\",woody,\"Lieferung Ration\")) action(give_to_because(\"Brett\",woody,\"Nachfrist Lieferung Brett\")) action(give_to_because(\"Brett\",woody,\"Rückabwicklung Ration\")) action(give_to_because(\"Geld\",bob,\"Lieferung Brett\")) action(give_to_because(\"Geld\",bob,\"Lieferung Brett Austauschanspruch\")) action(give_to_because(\"Geld\",bob,\"Lieferung Brett Differenzanspruch\")) action(give_to_because(\"Geld\",bob,\"Lieferung Brett cont.\")) action(give_to_because(\"Geld\",bob,\"Lieferung Ration\")) action(give_to_because(\"Geld\",bob,\"Nachfrist Lieferung Brett\")) action(give_to_because(\"Geld\",bob,\"Rückabwicklung Ration\")) action(give_to_because(\"Geld\",woody,\"Lieferung Brett\")) action(give_to_because(\"Geld\",woody,\"Lieferung Brett Austauschanspruch\")) action(give_to_because(\"Geld\",woody,\"Lieferung Brett Differenzanspruch\")) action(give_to_because(\"Geld\",woody,\"Lieferung Brett cont.\")) action(give_to_because(\"Geld\",woody,\"Lieferung Ration\")) action(give_to_because(\"Geld\",woody,\"Nachfrist Lieferung Brett\")) action(give_to_because(\"Geld\",woody,\"Rückabwicklung Ration\")) action(give_to_because(\"Gemälde\",bob,\"Lieferung Brett\")) action(give_to_because(\"Gemälde\",bob,\"Lieferung Brett Austauschanspruch\")) action(give_to_because(\"Gemälde\",bob,\"Lieferung Brett Differenzanspruch\")) action(give_to_because(\"Gemälde\",bob,\"Lieferung Brett cont.\")) action(give_to_because(\"Gemälde\",bob,\"Lieferung Ration\")) action(give_to_because(\"Gemälde\",bob,\"Nachfrist Lieferung Brett\")) action(give_to_because(\"Gemälde\",bob,\"Rückabwicklung Ration\")) action(give_to_because(\"Gemälde\",woody,\"Lieferung Brett\")) action(give_to_because(\"Gemälde\",woody,\"Lieferung Brett Austauschanspruch\")) action(give_to_because(\"Gemälde\",woody,\"Lieferung Brett Differenzanspruch\")) action(give_to_because(\"Gemälde\",woody,\"Lieferung Brett cont.\")) action(give_to_because(\"Gemälde\",woody,\"Lieferung Ration\")) action(give_to_because(\"Gemälde\",woody,\"Nachfrist Lieferung Brett\")) action(give_to_because(\"Gemälde\",woody,\"Rückabwicklung Ration\")) action(give_to_because(\"Holz\",bob,\"Lieferung Brett\")) action(give_to_because(\"Holz\",bob,\"Lieferung Brett Austauschanspruch\")) action(give_to_because(\"Holz\",bob,\"Lieferung Brett Differenzanspruch\")) action(give_to_because(\"Holz\",bob,\"Lieferung Brett cont.\")) action(give_to_because(\"Holz\",bob,\"Lieferung Ration\")) action(give_to_because(\"Holz\",bob,\"Nachfrist Lieferung Brett\")) action(give_to_because(\"Holz\",bob,\"Rückabwicklung Ration\")) action(give_to_because(\"Holz\",woody,\"Lieferung Brett\")) action(give_to_because(\"Holz\",woody,\"Lieferung Brett Austauschanspruch\")) action(give_to_because(\"Holz\",woody,\"Lieferung Brett Differenzanspruch\")) action(give_to_because(\"Holz\",woody,\"Lieferung Brett cont.\")) action(give_to_because(\"Holz\",woody,\"Lieferung Ration\")) action(give_to_because(\"Holz\",woody,\"Nachfrist Lieferung Brett\")) action(give_to_because(\"Holz\",woody,\"Rückabwicklung Ration\")) action(give_to_because(\"Nahrung\",bob,\"Lieferung Brett\")) action(give_to_because(\"Nahrung\",bob,\"Lieferung Brett Austauschanspruch\")) action(give_to_because(\"Nahrung\",bob,\"Lieferung Brett Differenzanspruch\")) action(give_to_because(\"Nahrung\",bob,\"Lieferung Brett cont.\")) action(give_to_because(\"Nahrung\",bob,\"Lieferung Ration\")) action(give_to_because(\"Nahrung\",bob,\"Nachfrist Lieferung Brett\")) action(give_to_because(\"Nahrung\",bob,\"Rückabwicklung Ration\")) action(give_to_because(\"Nahrung\",woody,\"Lieferung Brett\")) action(give_to_because(\"Nahrung\",woody,\"Lieferung Brett Austauschanspruch\")) action(give_to_because(\"Nahrung\",woody,\"Lieferung Brett Differenzanspruch\")) action(give_to_because(\"Nahrung\",woody,\"Lieferung Brett cont.\")) action(give_to_because(\"Nahrung\",woody,\"Lieferung Ration\")) action(give_to_because(\"Nahrung\",woody,\"Nachfrist Lieferung Brett\")) action(give_to_because(\"Nahrung\",woody,\"Rückabwicklung Ration\")) action(give_to_because(\"Ration\",bob,\"Lieferung Brett\")) action(give_to_because(\"Ration\",bob,\"Lieferung Brett Austauschanspruch\")) action(give_to_because(\"Ration\",bob,\"Lieferung Brett Differenzanspruch\")) action(give_to_because(\"Ration\",bob,\"Lieferung Brett cont.\")) action(give_to_because(\"Ration\",bob,\"Lieferung Ration\")) action(give_to_because(\"Ration\",bob,\"Nachfrist Lieferung Brett\")) action(give_to_because(\"Ration\",bob,\"Rückabwicklung Ration\")) action(give_to_because(\"Ration\",woody,\"Lieferung Brett\")) action(give_to_because(\"Ration\",woody,\"Lieferung Brett Austauschanspruch\")) action(give_to_because(\"Ration\",woody,\"Lieferung Brett Differenzanspruch\")) action(give_to_because(\"Ration\",woody,\"Lieferung Brett cont.\")) action(give_to_because(\"Ration\",woody,\"Lieferung Ration\")) action(give_to_because(\"Ration\",woody,\"Nachfrist Lieferung Brett\")) action(give_to_because(\"Ration\",woody,\"Rückabwicklung Ration\")) agent(bob) agent(woody) component(\"Lieferung Brett\") component(\"Lieferung Brett Austauschanspruch\") component(\"Lieferung Brett Differenzanspruch\") component(\"Lieferung Brett cont.\") component(\"Lieferung Ration\") component(\"Nachfrist Lieferung Brett\") component(\"Rückabwicklung Ration\") componentState(\"Abgeschlossen\") componentState(\"Abgeschlossen [GLE]\") componentState(\"Gewährleistung\") componentState(\"Gewährleistung [GLE]\") componentState(\"Initialisiert\") componentState(\"Initialisiert [GLE]\") componentState(\"Unmöglichkeit (Schuldner)\") componentState(\"Unmöglichkeit (Schuldner) [GLE]\") componentType(\"Austauschanspruch\") componentType(\"Differenzanspruch\") componentType(\"Geldleistung\") componentType(\"Nachfrist\") componentType(\"Sachleistung\") contract(\"Instanz Tauschvertrag\") event(destroy(\"Brett\")) event(destroy(\"Geld\")) event(destroy(\"Gemälde\")) event(destroy(\"Holz\")) event(destroy(\"Nahrung\")) event(destroy(\"Ration\")) resource(\"Brett\") resource(\"Geld\") resource(\"Gemälde\") resource(\"Holz\") resource(\"Nahrung\") resource(\"Ration\") resourceType(\"Gattung\") resourceType(\"Geld\") resourceType(\"Spezies\") time(0) time(1) time(2) time(3) time(4) time(5) time(6) time(7) time(8) time(9) time(10) transitionAction(\"GLE\") transitionAction(\"GWA\") transitionAction(\"LE\") transitionAction(\"UNM(S)\") state_transAction_state(\"Abgeschlossen\",\"GLE\",\"Abgeschlossen [GLE]\") state_transAction_state(\"Gewährleistung\",\"GLE\",\"Abgeschlossen [GLE]\") state_transAction_state(\"Gewährleistung\",\"GLE\",\"Gewährleistung [GLE]\") state_transAction_state(\"Gewährleistung\",\"GWA\",\"Abgeschlossen\") state_transAction_state(\"Gewährleistung\",\"GWA\",\"Abgeschlossen [GLE]\") state_transAction_state(\"Gewährleistung [GLE]\",\"GWA\",\"Abgeschlossen [GLE]\") state_transAction_state(\"Initialisiert\",\"GLE\",\"Initialisiert [GLE]\") state_transAction_state(\"Initialisiert\",\"GLE\",\"Unmöglichkeit (Schuldner) [GLE]\") state_transAction_state(\"Initialisiert\",\"LE\",\"Gewährleistung\") state_transAction_state(\"Initialisiert\",\"UNM(S)\",\"Unmöglichkeit (Schuldner)\") state_transAction_state(\"Initialisiert\",\"UNM(S)\",\"Unmöglichkeit (Schuldner) [GLE]\") state_transAction_state(\"Initialisiert [GLE]\",\"LE\",\"Gewährleistung [GLE]\") state_transAction_state(\"Initialisiert [GLE]\",\"UNM(S)\",\"Unmöglichkeit (Schuldner) [GLE]\") state_transAction_state(\"Unmöglichkeit (Schuldner)\",\"GLE\",\"Unmöglichkeit (Schuldner) [GLE]\") }\n",
      "SAT 1\n"
     ]
    }
   ],
   "source": [
    "domain = \"\"\"\n",
    "contract(\"Instanz Tauschvertrag\").\n",
    "\n",
    "component(\"Lieferung Ration\").\n",
    "component(\"Rückabwicklung Ration\").\n",
    "\n",
    "component(\"Lieferung Brett\").\n",
    "component(\"Nachfrist Lieferung Brett\").\n",
    "component(\"Lieferung Brett cont.\").\n",
    "\n",
    "component(\"Lieferung Brett Austauschanspruch\").\n",
    "component(\"Lieferung Brett Differenzanspruch\").\n",
    "\n",
    "componentType(\"Sachleistung\").\n",
    "componentType(\"Nachfrist\").\n",
    "componentType(\"Geldleistung\").\n",
    "componentType(\"Austauschanspruch\").\n",
    "componentType(\"Differenzanspruch\").\n",
    "\n",
    "componentState(\"Initialisiert\").\n",
    "componentState(\"Gewährleistung\").\n",
    "componentState(\"Abgeschlossen\").\n",
    "componentState(\"Initialisiert [GLE]\").\n",
    "componentState(\"Gewährleistung [GLE]\").\n",
    "componentState(\"Abgeschlossen [GLE]\").\n",
    "componentState(\"Unmöglichkeit (Schuldner)\").\n",
    "componentState(\"Unmöglichkeit (Schuldner) [GLE]\").\n",
    "% componentState(\"Unmöglichkeit (Gläubiger)\").\n",
    "% componentState(\"Unmöglichkeit (Gläubiger) [GLE]\").\n",
    "% componentState(\"Unmöglichkeit (Zufall)\").\n",
    "% componentState(\"Unmöglichkeit (Zufall) [GLE]\").\n",
    "% componentState(\"Verzug (Schuldner)\").\n",
    "% componentState(\"Verzug (Schuldner) [GLE]\").\n",
    "% componentState(\"Verzug (Schuldner, Vertrag besteht)\").\n",
    "% componentState(\"Verzug (Schuldner, Vertrag besteht) [GLE]\").\n",
    "% componentState(\"Verzug (Schuldner, Vom Vertrag zurückgetreten)\").\n",
    "% componentState(\"Verzug (Schuldner, Vom Vertrag zurückgetreten) [GLE]\").\n",
    "% componentState(\"Verzug (Gläubiger)\").\n",
    "% componentState(\"Verzug (Gläubiger) [GLE]\").\n",
    "\n",
    "transitionAction(\"GLE\").\n",
    "transitionAction(\"LE\").\n",
    "transitionAction(\"GWA\").\n",
    "transitionAction(\"UNM(S)\").\n",
    "\n",
    "state_transAction_state(\"Initialisiert\",\"GLE\",\"Initialisiert [GLE]\").\n",
    "\n",
    "state_transAction_state(\"Initialisiert\",\"UNM(S)\",\"Unmöglichkeit (Schuldner)\").\n",
    "\n",
    "state_transAction_state(\"Initialisiert\",\"GLE\",\"Unmöglichkeit (Schuldner) [GLE]\").\n",
    "state_transAction_state(\"Initialisiert\",\"UNM(S)\",\"Unmöglichkeit (Schuldner) [GLE]\").\n",
    "\n",
    "state_transAction_state(\"Initialisiert\",\"LE\",\"Gewährleistung\").\n",
    "\n",
    "state_transAction_state(\"Initialisiert [GLE]\",\"LE\",\"Gewährleistung [GLE]\").\n",
    "\n",
    "state_transAction_state(\"Initialisiert [GLE]\",\"UNM(S)\",\"Unmöglichkeit (Schuldner) [GLE]\").\n",
    "\n",
    "state_transAction_state(\"Gewährleistung\",\"GLE\",\"Gewährleistung [GLE]\").\n",
    "\n",
    "state_transAction_state(\"Gewährleistung\",\"GWA\",\"Abgeschlossen\").\n",
    "\n",
    "state_transAction_state(\"Gewährleistung\",\"GLE\",\"Abgeschlossen [GLE]\").\n",
    "state_transAction_state(\"Gewährleistung\",\"GWA\",\"Abgeschlossen [GLE]\").\n",
    "\n",
    "state_transAction_state(\"Gewährleistung [GLE]\",\"GWA\",\"Abgeschlossen [GLE]\").\n",
    "\n",
    "state_transAction_state(\"Abgeschlossen\",\"GLE\",\"Abgeschlossen [GLE]\").\n",
    "\n",
    "state_transAction_state(\"Unmöglichkeit (Schuldner)\", \"GLE\", \"Unmöglichkeit (Schuldner) [GLE]\").\n",
    "\n",
    "resource(\"Holz\").\n",
    "resource(\"Nahrung\").\n",
    "resource(\"Brett\").\n",
    "resource(\"Ration\").\n",
    "resource(\"Gemälde\").\n",
    "resource(\"Geld\").\n",
    "\n",
    "resourceType(\"Gattung\").\n",
    "resourceType(\"Spezies\").\n",
    "resourceType(\"Geld\").\n",
    "\n",
    "agent(bob).\n",
    "agent(woody).\n",
    "\n",
    "event(destroy(Resource)) :- resource(Resource).\n",
    "\n",
    "action(gather(\"Holz\")).\n",
    "action(gather(\"Nahrung\")).\n",
    "action(process_to(\"Holz\", \"Brett\")).\n",
    "action(process_to(\"Nahrung\", \"Ration\")).\n",
    "action(give_to_because(Resource, Agent, Component)) :- agent(Agent), resource(Resource), component(Component).\n",
    "action(accept_from_because(Resource, Agent, Component)) :- agent(Agent), resource(Resource), component(Component).\n",
    "\n",
    "action(communicate_to_because(\"Am Vertrag festhalten\", Agent, Component)) :- agent(Agent), component(Component).\n",
    "action(communicate_to_because(\"Vom Vertrag zurücktreten\", Agent, Component)) :- agent(Agent), component(Component).\n",
    "\n",
    "time(0..10).\n",
    "\n",
    "\"\"\"\n",
    "solve([domain]);"
   ],
   "metadata": {
    "collapsed": false,
    "pycharm": {
     "name": "#%%\n"
    }
   }
  },
  {
   "cell_type": "code",
   "execution_count": 5,
   "outputs": [],
   "source": [
    "consistency_checks = \"\"\"\n",
    ":- deo_at(component_state(Component, State1), T), deo_at(component_state(Component, State2), T), State1 != State2.\n",
    ":- deo_at(component_state(Component, State), T), deo_at(component_state(Component, SuccState), T+1), State != SuccState, not state_transAction_state(State,_, SuccState).\n",
    ":- state_transAction_state(State, TransAction, SuccState), not componentState(State).\n",
    ":- state_transAction_state(State, TransAction, SuccState), not transitionAction(TransAction).\n",
    ":- state_transAction_state(State, TransAction, SuccState), not componentState(SuccState).\n",
    "\"\"\""
   ],
   "metadata": {
    "collapsed": false,
    "pycharm": {
     "name": "#%%\n"
    }
   }
  },
  {
   "cell_type": "code",
   "execution_count": 6,
   "outputs": [
    {
     "name": "stdout",
     "output_type": "stream",
     "text": [
      "Answer 1: { component_beneficiary(\"Lieferung Brett\",bob) component_beneficiary(\"Lieferung Ration\",woody) component_item(\"Lieferung Brett\",\"Brett\") component_item(\"Lieferung Ration\",\"Ration\") component_provider(\"Lieferung Brett\",woody) component_provider(\"Lieferung Ration\",bob) component_type(\"Lieferung Brett\",\"Sachleistung\") component_type(\"Lieferung Ration\",\"Sachleistung\") contract_component(\"Instanz Tauschvertrag\",\"Lieferung Brett\") contract_component(\"Instanz Tauschvertrag\",\"Lieferung Ration\") deo_at(component_state(\"Lieferung Brett\",\"Initialisiert\"),0) deo_at(component_state(\"Lieferung Ration\",\"Initialisiert\"),0) }\n",
      "SAT 1\n"
     ]
    }
   ],
   "source": [
    "contract = \"\"\"\n",
    "\n",
    "contract_component(\"Instanz Tauschvertrag\", \"Lieferung Ration\").\n",
    "contract_component(\"Instanz Tauschvertrag\", \"Lieferung Brett\").\n",
    "\n",
    "component_type(\"Lieferung Ration\", \"Sachleistung\").\n",
    "component_provider(\"Lieferung Ration\", bob).\n",
    "component_beneficiary(\"Lieferung Ration\", woody).\n",
    "component_item(\"Lieferung Ration\", \"Ration\").\n",
    "\n",
    "component_type(\"Lieferung Brett\", \"Sachleistung\").\n",
    "component_provider(\"Lieferung Brett\", woody).\n",
    "component_beneficiary(\"Lieferung Brett\", bob).\n",
    "component_item(\"Lieferung Brett\", \"Brett\").\n",
    "\n",
    "deo_at(component_state(\"Lieferung Ration\", \"Initialisiert\"), 0).\n",
    "deo_at(component_state(\"Lieferung Brett\", \"Initialisiert\"), 0).\n",
    "\n",
    "\"\"\"\n",
    "solve([contract]);"
   ],
   "metadata": {
    "collapsed": false,
    "pycharm": {
     "name": "#%%\n"
    }
   }
  },
  {
   "cell_type": "code",
   "execution_count": 7,
   "outputs": [
    {
     "name": "stdout",
     "output_type": "stream",
     "text": [
      "Answer 1: { occ_at(agent_does(bob,gather(\"Nahrung\")),0) occ_at(agent_does(bob,process_to(\"Nahrung\",\"Ration\")),1) occ_at(agent_does(bob,give_to_because(\"Ration\",woody,\"Lieferung Ration\")),4) occ_at(agent_does(woody,destroy(\"Brett\")),3) occ_at(agent_does(woody,gather(\"Holz\")),0) occ_at(agent_does(woody,process_to(\"Holz\",\"Brett\")),1) occ_at(agent_does(woody,accept_from_because(\"Ration\",bob,\"Lieferung Ration\")),4) }\n",
      "SAT 1\n"
     ]
    }
   ],
   "source": [
    "instance = \"\"\"\n",
    "\n",
    "occ_at(agent_does(bob, gather(\"Nahrung\")), 0).\n",
    "occ_at(agent_does(woody, gather(\"Holz\")), 0).\n",
    "\n",
    "occ_at(agent_does(bob, process_to(\"Nahrung\", \"Ration\")), 1).\n",
    "occ_at(agent_does(woody, process_to(\"Holz\", \"Brett\")), 1).\n",
    "\n",
    "occ_at(agent_does(woody, destroy(\"Brett\")), 3).\n",
    "\n",
    "occ_at(agent_does(bob, give_to_because(\"Ration\", woody, \"Lieferung Ration\")), 4).\n",
    "occ_at(agent_does(woody, accept_from_because(\"Ration\", bob, \"Lieferung Ration\")), 4).\n",
    "\n",
    "\"\"\"\n",
    "solve([instance]);"
   ],
   "metadata": {
    "collapsed": false,
    "pycharm": {
     "name": "#%%\n"
    }
   }
  },
  {
   "cell_type": "code",
   "execution_count": 8,
   "outputs": [
    {
     "name": "stdout",
     "output_type": "stream",
     "text": [
      "Answer 1: {  }\n",
      "SAT 1\n"
     ]
    },
    {
     "name": "stderr",
     "output_type": "stream",
     "text": [
      "<block>:4:2-22: info: atom does not occur in any rule head:\n",
      "  component(Component)\n",
      "\n",
      "<block>:4:24-39: info: atom does not occur in any rule head:\n",
      "  component(Dual)\n",
      "\n",
      "<block>:5:2-20: info: atom does not occur in any rule head:\n",
      "  contract(Contract)\n",
      "\n",
      "<block>:7:2-41: info: atom does not occur in any rule head:\n",
      "  contract_component(Contract,Component)\n",
      "\n",
      "<block>:7:43-77: info: atom does not occur in any rule head:\n",
      "  contract_component(Contract,Dual)\n",
      "\n",
      "<block>:11:3-23: info: atom does not occur in any rule head:\n",
      "  component(Component)\n",
      "\n",
      "<block>:11:25-50: info: atom does not occur in any rule head:\n",
      "  componentState(SuccState)\n",
      "\n",
      "<block>:11:52-59: info: atom does not occur in any rule head:\n",
      "  time(T)\n",
      "\n",
      "<block>:12:3-24: info: atom does not occur in any rule head:\n",
      "  componentState(State)\n",
      "\n",
      "<block>:12:26-55: info: atom does not occur in any rule head:\n",
      "  transitionAction(TransAction)\n",
      "\n",
      "<block>:14:3-57: info: atom does not occur in any rule head:\n",
      "  state_transAction_state(State,TransAction,SuccState)\n",
      "\n",
      "<block>:19:3-23: info: atom does not occur in any rule head:\n",
      "  component(Component)\n",
      "\n",
      "<block>:19:25-47: info: atom does not occur in any rule head:\n",
      "  componentState(State1)\n",
      "\n",
      "<block>:19:49-56: info: atom does not occur in any rule head:\n",
      "  time(T)\n",
      "\n",
      "<block>:20:3-24: info: atom does not occur in any rule head:\n",
      "  componentState(State)\n",
      "\n",
      "<block>:20:26-48: info: atom does not occur in any rule head:\n",
      "  componentState(State2)\n",
      "\n",
      "<block>:20:50-80: info: atom does not occur in any rule head:\n",
      "  transitionAction(TransAction1)\n",
      "\n",
      "<block>:20:82-112: info: atom does not occur in any rule head:\n",
      "  transitionAction(TransAction2)\n",
      "\n",
      "<block>:22:3-55: info: atom does not occur in any rule head:\n",
      "  state_transAction_state(State,TransAction1,State1)\n",
      "\n",
      "<block>:23:3-55: info: atom does not occur in any rule head:\n",
      "  state_transAction_state(State,TransAction2,State2)\n",
      "\n"
     ]
    }
   ],
   "source": [
    "rules = \"\"\"\n",
    "\n",
    "component_dual(Component, Dual) :-\n",
    " component(Component), component(Dual),\n",
    " contract(Contract),\n",
    " Component != Dual,\n",
    " contract_component(Contract, Component), contract_component(Contract, Dual).\n",
    "\n",
    "% If the transition event does not occur then there is no transition\n",
    "-transComp_state_at(Component, SuccState, T) :-\n",
    "  component(Component), componentState(SuccState), time(T),\n",
    "  componentState(State), transitionAction(TransAction),\n",
    "  deo_at(component_state(Component, State), T),\n",
    "  state_transAction_state(State, TransAction, SuccState),\n",
    "  not trans_comp_at(TransAction, Component, T).\n",
    "\n",
    "% If two states have the same successor state and both states can be reached they will not transition\n",
    "-transComp_state_at(Component, State1, T) :-\n",
    "  component(Component), componentState(State1), time(T),\n",
    "  componentState(State), componentState(State2), transitionAction(TransAction1), transitionAction(TransAction2),\n",
    "  deo_at(component_state(Component, State), T),\n",
    "  state_transAction_state(State, TransAction1, State1),\n",
    "  state_transAction_state(State, TransAction2, State2),\n",
    "  state_transAction_state(State1, TransAction2, SuccState),\n",
    "  state_transAction_state(State2, TransAction1, SuccState),\n",
    "  trans_comp_at(TransAction1, Component, T),\n",
    "  trans_comp_at(TransAction2, Component, T).\n",
    "\n",
    "% If a transition is not impossible then it will be executed\n",
    "transComp_state_at(Component, SuccState, T) :-\n",
    "  component(Component), componentState(SuccState), time(T),\n",
    "  componentState(State),\n",
    "  deo_at(component_state(Component, State), T),\n",
    "  state_transAction_state(State, _, SuccState),\n",
    "  not -transComp_state_at(Component, SuccState, T).\n",
    "\n",
    "% INERTIA\n",
    "deo_at(component_state(Component, State), T+1) :-\n",
    "  component(Component), componentState(State), time(T+1),\n",
    "  time(T),\n",
    "  deo_at(component_state(Component, State), T),\n",
    "  not transComp_state_at(Component, _, T).\n",
    "\n",
    "% TRANSITION\n",
    "deo_at(component_state(Component, SuccState), T+1) :-\n",
    "  component(Component), componentState(SuccState), time(T+1),\n",
    "  time(T), componentState(State),\n",
    "  deo_at(component_state(Component, State), T),\n",
    "  transComp_state_at(Component, SuccState, T).\n",
    "\n",
    "% Physical Exchange leads to Deontic Transaction\n",
    "rul_comp_at(transaction_from_to(Item, Provider, Beneficiary), Component, T) :-\n",
    "  resource(Item), agent(Provider), agent(Beneficiary), component(Component), time(T),\n",
    "  component_provider(Component, Provider),\n",
    "  component_beneficiary(Component, Beneficiary),\n",
    "  component_item(Component, Item),\n",
    "  occ_at(agent_does(Provider, give_to_because(Item, Beneficiary, Component)),     T),\n",
    "  occ_at(agent_does(Beneficiary, accept_from_because(Item, Provider, Component)), T).\n",
    "\n",
    "% Deontic Transaction is a LE Transition Event\n",
    "trans_comp_at(\"LE\", Component, T) :-\n",
    "  component(Component), time(T),\n",
    "  rul_comp_at(transaction_from_to(_, _, _), Component, T).\n",
    "\n",
    "trans_comp_at(\"GLE\", Component, T) :-\n",
    "  component(Component), time(T),\n",
    "  component(Dual),\n",
    "  component_dual(Component, Dual),\n",
    "  trans_comp_at(\"LE\", Dual, T).\n",
    "\n",
    "%%% Unmöglichkeit %%%%%%%%%%%%%%%%%%%%%%%%%%%%%%%%%%%%%%%%%%%%%%%%%%%%%%%%%%%%%%%%%%%%%\n",
    "\n",
    "% If an agent destroys an component item, the component became impossible\n",
    "rul_comp_at(impossibility(Agent), Component, T) :-\n",
    "  agent(Agent), component(Component), time(T),\n",
    "  resource(Item),\n",
    "  component_item(Component, Item),\n",
    "  occ_at(agent_does(Agent, destroy(Item)), T).\n",
    "\n",
    "%%% Unmöglichkeit Schuldner %%%%%%%%%%%%%%%%%%%%%%%%%%%%%%%%%%%%%%%%%%%%%%%%%%%%%%%%%%%\n",
    "\n",
    "% If the provider caused the impossiblity the component transitions to the Unmöglichkeit (Schuldner) state\n",
    "trans_comp_at(\"UNM(S)\", Component, T) :-\n",
    "  component(Component), time(T),\n",
    "  agent(Provider),\n",
    "  component_provider(Component, Provider),\n",
    "  rul_comp_at(impossibility(Provider), Component, T).\n",
    "\n",
    "%%% Unmöglichkeit Schuldner [GLE] %%%%%%%%%%%%%%%%%%%%%%%%%%%%%%%%%%%%%%%%%%%%%%%%%%%%%\n",
    "% No additional rules\n",
    "\n",
    "\"\"\"\n",
    "solve([rules]);"
   ],
   "metadata": {
    "collapsed": false,
    "pycharm": {
     "name": "#%%\n"
    }
   }
  },
  {
   "cell_type": "code",
   "execution_count": 9,
   "outputs": [
    {
     "name": "stdout",
     "output_type": "stream",
     "text": [
      "Answer 1: {\n",
      "deo_at(component_state(\"Lieferung Brett\",\"Initialisiert\"),0)\n",
      "deo_at(component_state(\"Lieferung Brett\",\"Initialisiert\"),1)\n",
      "deo_at(component_state(\"Lieferung Brett\",\"Initialisiert\"),2)\n",
      "deo_at(component_state(\"Lieferung Brett\",\"Initialisiert\"),3)\n",
      "deo_at(component_state(\"Lieferung Brett\",\"Unmöglichkeit (Schuldner)\"),4)\n",
      "deo_at(component_state(\"Lieferung Brett\",\"Unmöglichkeit (Schuldner) [GLE]\"),5)\n",
      "deo_at(component_state(\"Lieferung Brett\",\"Unmöglichkeit (Schuldner) [GLE]\"),6)\n",
      "deo_at(component_state(\"Lieferung Brett\",\"Unmöglichkeit (Schuldner) [GLE]\"),7)\n",
      "deo_at(component_state(\"Lieferung Brett\",\"Unmöglichkeit (Schuldner) [GLE]\"),8)\n",
      "deo_at(component_state(\"Lieferung Brett\",\"Unmöglichkeit (Schuldner) [GLE]\"),9)\n",
      "deo_at(component_state(\"Lieferung Brett\",\"Unmöglichkeit (Schuldner) [GLE]\"),10)\n",
      "deo_at(component_state(\"Lieferung Ration\",\"Gewährleistung\"),5)\n",
      "deo_at(component_state(\"Lieferung Ration\",\"Gewährleistung\"),6)\n",
      "deo_at(component_state(\"Lieferung Ration\",\"Gewährleistung\"),7)\n",
      "deo_at(component_state(\"Lieferung Ration\",\"Gewährleistung\"),8)\n",
      "deo_at(component_state(\"Lieferung Ration\",\"Gewährleistung\"),9)\n",
      "deo_at(component_state(\"Lieferung Ration\",\"Gewährleistung\"),10)\n",
      "deo_at(component_state(\"Lieferung Ration\",\"Initialisiert\"),0)\n",
      "deo_at(component_state(\"Lieferung Ration\",\"Initialisiert\"),1)\n",
      "deo_at(component_state(\"Lieferung Ration\",\"Initialisiert\"),2)\n",
      "deo_at(component_state(\"Lieferung Ration\",\"Initialisiert\"),3)\n",
      "deo_at(component_state(\"Lieferung Ration\",\"Initialisiert\"),4)\n",
      "occ_at(agent_does(bob,gather(\"Nahrung\")),0)\n",
      "occ_at(agent_does(bob,process_to(\"Nahrung\",\"Ration\")),1)\n",
      "occ_at(agent_does(bob,give_to_because(\"Ration\",woody,\"Lieferung Ration\")),4)\n",
      "occ_at(agent_does(woody,destroy(\"Brett\")),3)\n",
      "occ_at(agent_does(woody,gather(\"Holz\")),0)\n",
      "occ_at(agent_does(woody,process_to(\"Holz\",\"Brett\")),1)\n",
      "occ_at(agent_does(woody,accept_from_because(\"Ration\",bob,\"Lieferung Ration\")),4)\n",
      "rul_comp_at(impossibility(woody),\"Lieferung Brett\",3)\n",
      "rul_comp_at(transaction_from_to(\"Ration\",bob,woody),\"Lieferung Ration\",4)\n",
      "}\n",
      "SAT 1\n"
     ]
    },
    {
     "name": "stderr",
     "output_type": "stream",
     "text": [
      "<block>:1:1-16: info: no atoms over signature occur in program:\n",
      "  obs_at/2\n",
      "\n"
     ]
    }
   ],
   "source": [
    "solve([\n",
    "    domain,\n",
    "    rules,\n",
    "    contract,\n",
    "    instance,\n",
    "    '#show occ_at/2.',\n",
    "    '#show obs_at/2.',\n",
    "    '#show deo_at/2.',\n",
    "    '#show rul_comp_at/3.'\n",
    "    #'#show trans_comp_at/3.',\n",
    "    #'#show transComp_state_at/3.',\n",
    "    #'#show -transComp_state_at/3.',\n",
    "    #'#show state_transAction_state/3.',\n",
    "], sep='\\n');"
   ],
   "metadata": {
    "collapsed": false,
    "pycharm": {
     "name": "#%%\n"
    }
   }
  },
  {
   "cell_type": "code",
   "execution_count": 10,
   "outputs": [
    {
     "name": "stdout",
     "output_type": "stream",
     "text": [
      "Run without checks:\n",
      "SAT 1\n",
      "Run with checks:\n",
      "SAT 1\n"
     ]
    },
    {
     "data": {
      "text/plain": "True"
     },
     "execution_count": 10,
     "metadata": {},
     "output_type": "execute_result"
    }
   ],
   "source": [
    "check([\n",
    "    domain,\n",
    "    rules,\n",
    "    contract,\n",
    "    instance,], consistency_checks)"
   ],
   "metadata": {
    "collapsed": false,
    "pycharm": {
     "name": "#%%\n"
    }
   }
  },
  {
   "cell_type": "code",
   "execution_count": 10,
   "outputs": [],
   "source": [],
   "metadata": {
    "collapsed": false,
    "pycharm": {
     "name": "#%%\n"
    }
   }
  }
 ],
 "metadata": {
  "kernelspec": {
   "display_name": "Python 3",
   "language": "python",
   "name": "python3"
  },
  "language_info": {
   "codemirror_mode": {
    "name": "ipython",
    "version": 2
   },
   "file_extension": ".py",
   "mimetype": "text/x-python",
   "name": "python",
   "nbconvert_exporter": "python",
   "pygments_lexer": "ipython2",
   "version": "2.7.6"
  }
 },
 "nbformat": 4,
 "nbformat_minor": 0
}