{
 "cells": [
  {
   "cell_type": "code",
   "execution_count": 1,
   "metadata": {
    "collapsed": true
   },
   "outputs": [],
   "source": [
    "import functools\n",
    "\n",
    "import clingo\n",
    "\n",
    "from typing import Sequence"
   ]
  },
  {
   "cell_type": "code",
   "execution_count": 2,
   "outputs": [],
   "source": [
    "def solve(programs: Sequence[str], grounding_context=None, sep:str=' ', report_answersets=True):\n",
    "    ctl = clingo.Control((\"--models\", \"0\"))\n",
    "    for program in programs:\n",
    "        ctl.add(\"base\", (), program)\n",
    "\n",
    "    ctl.ground(((\"base\", ()),), grounding_context)\n",
    "\n",
    "    models = []\n",
    "\n",
    "    with ctl.solve(yield_=True) as solve_handle:\n",
    "        for i, model in enumerate(solve_handle):\n",
    "            assert isinstance(model, clingo.Model)\n",
    "            symbols = model.symbols(shown=True)\n",
    "            if report_answersets:\n",
    "                print(\"Answer {}: {}{}{}{}{}\".format(i + 1, \"{\", sep, sep.join(map(str, sorted(symbols))), sep, \"}\"))\n",
    "            models.append(symbols)\n",
    "        solve_result = solve_handle.get()\n",
    "        cardinality_suffix = \"\"\n",
    "        if not solve_result.exhausted:\n",
    "            cardinality_suffix = \"+\"\n",
    "        print(solve_result, \"{}{}\".format(len(models), cardinality_suffix))\n",
    "\n",
    "    return models\n",
    "run = functools.partial(solve, report_answersets=False)"
   ],
   "metadata": {
    "collapsed": false,
    "pycharm": {
     "name": "#%%\n"
    }
   }
  },
  {
   "cell_type": "code",
   "execution_count": 3,
   "outputs": [],
   "source": [
    "def check(programs: Sequence[str], consistency_checks:str, grounding_context=None):\n",
    "    print(\"Run without checks:\")\n",
    "    wo_checks = solve(programs, grounding_context, report_answersets=False)\n",
    "    print(\"Run with checks:\")\n",
    "    w_checks = solve((*programs, consistency_checks), grounding_context, report_answersets=False)\n",
    "    return len(wo_checks) == len(w_checks)"
   ],
   "metadata": {
    "collapsed": false,
    "pycharm": {
     "name": "#%%\n"
    }
   }
  },
  {
   "cell_type": "code",
   "execution_count": 4,
   "outputs": [
    {
     "name": "stdout",
     "output_type": "stream",
     "text": [
      "SAT 1\n"
     ]
    },
    {
     "name": "stderr",
     "output_type": "stream",
     "text": [
      "<block>:4:3-60: info: atom does not occur in any rule head:\n",
      "  observe(object(pipeline,A),value(liquidLevel,full),T)\n",
      "\n",
      "<block>:5:3-73: info: atom does not occur in any rule head:\n",
      "  observe(object(pipeline,A),value(connected,object(pipeline,B)),T)\n",
      "\n",
      "<block>:6:3-69: info: atom does not occur in any rule head:\n",
      "  observe(object(valve,V),value(controls,object(pipeline,A)),T)\n",
      "\n",
      "<block>:7:3-55: info: atom does not occur in any rule head:\n",
      "  occurs(object(valve,V),change(position,close),T)\n",
      "\n",
      "<block>:10:3-60: info: atom does not occur in any rule head:\n",
      "  observe(object(pipeline,A),value(liquidLevel,full),T)\n",
      "\n",
      "<block>:11:3-73: info: atom does not occur in any rule head:\n",
      "  observe(object(pipeline,A),value(connected,object(pipeline,B)),T)\n",
      "\n",
      "<block>:12:3-69: info: atom does not occur in any rule head:\n",
      "  observe(object(valve,V),value(controls,object(pipeline,A)),T)\n",
      "\n",
      "<block>:13:3-54: info: atom does not occur in any rule head:\n",
      "  occurs(object(valve,V),change(position,open),T)\n",
      "\n",
      "<block>:16:3-60: info: atom does not occur in any rule head:\n",
      "  observe(object(pipeline,A),value(liquidLevel,full),T)\n",
      "\n",
      "<block>:17:3-61: info: atom does not occur in any rule head:\n",
      "  observe(object(pipeline,B),value(liquidLevel,empty),T)\n",
      "\n",
      "<block>:18:3-73: info: atom does not occur in any rule head:\n",
      "  observe(object(pipeline,A),value(connected,object(pipeline,B)),T)\n",
      "\n",
      "<block>:19:3-69: info: atom does not occur in any rule head:\n",
      "  observe(object(valve,V),value(controls,object(pipeline,A)),T)\n",
      "\n",
      "<block>:20:3-54: info: atom does not occur in any rule head:\n",
      "  observe(object(valve,V),value(position,open),T)\n",
      "\n",
      "<block>:23:3-61: info: atom does not occur in any rule head:\n",
      "  observe(object(pipeline,B),value(liquidLevel,empty),T)\n",
      "\n",
      "<block>:27:3-60: info: atom does not occur in any rule head:\n",
      "  observe(object(pipeline,B),value(liquidLevel,full),T)\n",
      "\n",
      "<block>:28:3-73: info: atom does not occur in any rule head:\n",
      "  observe(object(pipeline,A),value(connected,object(pipeline,B)),T)\n",
      "\n"
     ]
    }
   ],
   "source": [
    "static_physics = \"\"\"\n",
    "\n",
    "occurs(object(pipeline, A), change(flows, ()), T) :-\n",
    "  observe(object(pipeline, A), value(liquidLevel, full), T),\n",
    "  observe(object(pipeline, A), value(connected, object(pipeline, B)), T),\n",
    "  observe(object(valve, V), value(controls, object(pipeline, A)), T),\n",
    "  occurs(object(valve, V), change(position, close), T).\n",
    "\n",
    "occurs(object(pipeline, A), change(flows, object(pipeline, B)), T) :-\n",
    "  observe(object(pipeline, A), value(liquidLevel, full), T),\n",
    "  observe(object(pipeline, A), value(connected, object(pipeline, B)), T),\n",
    "  observe(object(valve, V), value(controls, object(pipeline, A)), T),\n",
    "  occurs(object(valve, V), change(position, open), T).\n",
    "\n",
    "occurs(object(pipeline, A), change(flows, object(pipeline, B)), T) :-\n",
    "  observe(object(pipeline, A), value(liquidLevel, full), T),\n",
    "  observe(object(pipeline, B), value(liquidLevel, empty), T),\n",
    "  observe(object(pipeline, A), value(connected, object(pipeline, B)), T),\n",
    "  observe(object(valve, V), value(controls, object(pipeline, A)), T),\n",
    "  observe(object(valve, V), value(position, open), T).\n",
    "\n",
    "occurs(object(pipeline, B), change(liquidLevel, full), T) :-\n",
    "  observe(object(pipeline, B), value(liquidLevel, empty), T),\n",
    "  occurs(object(pipeline, A), change(flows, object(pipeline, B)), T).\n",
    "\n",
    "occurs(object(pipeline, B), change(liquidLevel, empty), T) :-\n",
    "  observe(object(pipeline, B), value(liquidLevel, full), T),\n",
    "  observe(object(pipeline, A), value(connected, object(pipeline, B)), T),\n",
    "  occurs(object(pipeline, A), change(flows, ()), T).\n",
    "\n",
    "\"\"\"\n",
    "run([static_physics]);"
   ],
   "metadata": {
    "collapsed": false,
    "pycharm": {
     "name": "#%%\n"
    }
   }
  },
  {
   "cell_type": "code",
   "execution_count": 5,
   "outputs": [
    {
     "name": "stdout",
     "output_type": "stream",
     "text": [
      "SAT 1\n"
     ]
    },
    {
     "name": "stderr",
     "output_type": "stream",
     "text": [
      "<block>:4:3-55: info: atom does not occur in any rule head:\n",
      "  observe(object(valve,A),value(at,Coordinates),T)\n",
      "\n",
      "<block>:5:3-42: info: atom does not occur in any rule head:\n",
      "  observe(Who,value(at,Coordinates),T)\n",
      "\n",
      "<block>:6:3-53: info: atom does not occur in any rule head:\n",
      "  occurs(Who,action(Position,object(valve,A)),T)\n",
      "\n"
     ]
    }
   ],
   "source": [
    "action_consequences = \"\"\"\n",
    "\n",
    "occurs(object(valve, A), change(position, Position), T) :-\n",
    "  observe(object(valve, A), value(at, Coordinates), T),\n",
    "  observe(Who, value(at, Coordinates), T),\n",
    "  occurs(Who, action(Position, object(valve, A)), T).\n",
    "\n",
    "\"\"\"\n",
    "run([action_consequences]);"
   ],
   "metadata": {
    "collapsed": false,
    "pycharm": {
     "name": "#%%\n"
    }
   }
  },
  {
   "cell_type": "code",
   "execution_count": 6,
   "outputs": [
    {
     "name": "stdout",
     "output_type": "stream",
     "text": [
      "SAT 1\n"
     ]
    },
    {
     "name": "stderr",
     "output_type": "stream",
     "text": [
      "<block>:4:3-18: info: atom does not occur in any rule head:\n",
      "  init(Who,What)\n",
      "\n",
      "<block>:5:3-11: info: atom does not occur in any rule head:\n",
      "  time(ST)\n",
      "\n",
      "<block>:5:17-27: info: atom does not occur in any rule head:\n",
      "  time((ST+-1))\n",
      "\n",
      "<block>:8:3-12: info: atom does not occur in any rule head:\n",
      "  time((T+1))\n",
      "\n",
      "<block>:10:7-42: info: atom does not occur in any rule head:\n",
      "  occurs(#X0,change(#X1,#P2),#X3)\n",
      "\n",
      "<block>:13:3-12: info: atom does not occur in any rule head:\n",
      "  time((T+1))\n",
      "\n",
      "<block>:14:3-45: info: atom does not occur in any rule head:\n",
      "  occurs(Who,change(Property,NewValue),T)\n",
      "\n"
     ]
    }
   ],
   "source": [
    "static = \"\"\"\n",
    "\n",
    "observe(Who, What, ST) :-\n",
    "  init(Who, What),\n",
    "  time(ST), not time(ST-1).\n",
    "\n",
    "observe(Who, value(Property, Value), T+1) :-\n",
    "  time(T+1),\n",
    "  observe(Who, value(Property, Value), T),\n",
    "  not occurs(Who, change(Property, _), T).\n",
    "\n",
    "observe(Who, value(Property, NewValue), T+1) :-\n",
    "  time(T+1),\n",
    "  occurs(Who, change(Property, NewValue), T).\n",
    "\n",
    "\"\"\"\n",
    "run([static]);"
   ],
   "metadata": {
    "collapsed": false,
    "pycharm": {
     "name": "#%%\n"
    }
   }
  },
  {
   "cell_type": "code",
   "execution_count": 7,
   "outputs": [
    {
     "name": "stdout",
     "output_type": "stream",
     "text": [
      "SAT 1\n"
     ]
    }
   ],
   "source": [
    "instance = \"\"\"\n",
    "\n",
    "time(1..5).\n",
    "init(object(pipeline, source), value(at, (2,3))).\n",
    "init(object(pipeline, source), value(liquidLevel, full)).\n",
    "init(object(pipeline, source), value(connected, object(pipeline, connect))).\n",
    "\n",
    "init(object(valve, source), value(at, (2,3))).\n",
    "init(object(valve, source), value(position, closed)).\n",
    "init(object(valve, source), value(controls, object(pipeline, source))).\n",
    "\n",
    "init(object(pipeline, sink), value(at, (2,1))).\n",
    "init(object(pipeline, sink), value(liquidLevel, empty)).\n",
    "\n",
    "init(object(valve, sink), value(at, (2,1))).\n",
    "init(object(valve, sink), value(position, closed)).\n",
    "init(object(valve, sink), value(controls, object(pipeline, connect))). % sic! (controls connect)\n",
    "\n",
    "init(object(pipeline, connect), value(at, (2,2))).\n",
    "init(object(pipeline, connect), value(liquidLevel, empty)).\n",
    "init(object(pipeline, connect), value(connected, object(pipeline, sink))).\n",
    "\n",
    "init(agent(\"Lieferant\"), value(at, (2,3))).\n",
    "init(agent(\"Empfänger\"), value(at, (2,1))).\n",
    "\n",
    "occurs(agent(\"Lieferant\"), action(open, object(valve, source)), 1).\n",
    "occurs(agent(\"Empfänger\"), action(open, object(valve, sink)), 1).\n",
    "\n",
    "\"\"\"\n",
    "run([instance]);"
   ],
   "metadata": {
    "collapsed": false,
    "pycharm": {
     "name": "#%%\n"
    }
   }
  },
  {
   "cell_type": "code",
   "execution_count": 8,
   "outputs": [],
   "source": [
    "prg = (\n",
    "    static_physics,\n",
    "    static,\n",
    "    action_consequences,\n",
    "    instance\n",
    ")"
   ],
   "metadata": {
    "collapsed": false,
    "pycharm": {
     "name": "#%%\n"
    }
   }
  },
  {
   "cell_type": "code",
   "execution_count": 9,
   "outputs": [
    {
     "name": "stdout",
     "output_type": "stream",
     "text": [
      "Answer 1: {\n",
      "init(agent(\"Empfänger\"),value(at,(2,1)))\n",
      "init(agent(\"Lieferant\"),value(at,(2,3)))\n",
      "init(object(pipeline,connect),value(at,(2,2)))\n",
      "init(object(pipeline,connect),value(connected,object(pipeline,sink)))\n",
      "init(object(pipeline,connect),value(liquidLevel,empty))\n",
      "init(object(pipeline,sink),value(at,(2,1)))\n",
      "init(object(pipeline,sink),value(liquidLevel,empty))\n",
      "init(object(pipeline,source),value(at,(2,3)))\n",
      "init(object(pipeline,source),value(connected,object(pipeline,connect)))\n",
      "init(object(pipeline,source),value(liquidLevel,full))\n",
      "init(object(valve,sink),value(at,(2,1)))\n",
      "init(object(valve,sink),value(controls,object(pipeline,connect)))\n",
      "init(object(valve,sink),value(position,closed))\n",
      "init(object(valve,source),value(at,(2,3)))\n",
      "init(object(valve,source),value(controls,object(pipeline,source)))\n",
      "init(object(valve,source),value(position,closed))\n",
      "observe(agent(\"Empfänger\"),value(at,(2,1)),1)\n",
      "observe(agent(\"Empfänger\"),value(at,(2,1)),2)\n",
      "observe(agent(\"Empfänger\"),value(at,(2,1)),3)\n",
      "observe(agent(\"Empfänger\"),value(at,(2,1)),4)\n",
      "observe(agent(\"Empfänger\"),value(at,(2,1)),5)\n",
      "observe(agent(\"Lieferant\"),value(at,(2,3)),1)\n",
      "observe(agent(\"Lieferant\"),value(at,(2,3)),2)\n",
      "observe(agent(\"Lieferant\"),value(at,(2,3)),3)\n",
      "observe(agent(\"Lieferant\"),value(at,(2,3)),4)\n",
      "observe(agent(\"Lieferant\"),value(at,(2,3)),5)\n",
      "observe(object(pipeline,connect),value(at,(2,2)),1)\n",
      "observe(object(pipeline,connect),value(at,(2,2)),2)\n",
      "observe(object(pipeline,connect),value(at,(2,2)),3)\n",
      "observe(object(pipeline,connect),value(at,(2,2)),4)\n",
      "observe(object(pipeline,connect),value(at,(2,2)),5)\n",
      "observe(object(pipeline,connect),value(connected,object(pipeline,sink)),1)\n",
      "observe(object(pipeline,connect),value(connected,object(pipeline,sink)),2)\n",
      "observe(object(pipeline,connect),value(connected,object(pipeline,sink)),3)\n",
      "observe(object(pipeline,connect),value(connected,object(pipeline,sink)),4)\n",
      "observe(object(pipeline,connect),value(connected,object(pipeline,sink)),5)\n",
      "observe(object(pipeline,connect),value(flows,object(pipeline,sink)),3)\n",
      "observe(object(pipeline,connect),value(flows,object(pipeline,sink)),4)\n",
      "observe(object(pipeline,connect),value(flows,object(pipeline,sink)),5)\n",
      "observe(object(pipeline,connect),value(liquidLevel,empty),1)\n",
      "observe(object(pipeline,connect),value(liquidLevel,full),2)\n",
      "observe(object(pipeline,connect),value(liquidLevel,full),3)\n",
      "observe(object(pipeline,connect),value(liquidLevel,full),4)\n",
      "observe(object(pipeline,connect),value(liquidLevel,full),5)\n",
      "observe(object(pipeline,sink),value(at,(2,1)),1)\n",
      "observe(object(pipeline,sink),value(at,(2,1)),2)\n",
      "observe(object(pipeline,sink),value(at,(2,1)),3)\n",
      "observe(object(pipeline,sink),value(at,(2,1)),4)\n",
      "observe(object(pipeline,sink),value(at,(2,1)),5)\n",
      "observe(object(pipeline,sink),value(liquidLevel,empty),1)\n",
      "observe(object(pipeline,sink),value(liquidLevel,empty),2)\n",
      "observe(object(pipeline,sink),value(liquidLevel,full),3)\n",
      "observe(object(pipeline,sink),value(liquidLevel,full),4)\n",
      "observe(object(pipeline,sink),value(liquidLevel,full),5)\n",
      "observe(object(pipeline,source),value(at,(2,3)),1)\n",
      "observe(object(pipeline,source),value(at,(2,3)),2)\n",
      "observe(object(pipeline,source),value(at,(2,3)),3)\n",
      "observe(object(pipeline,source),value(at,(2,3)),4)\n",
      "observe(object(pipeline,source),value(at,(2,3)),5)\n",
      "observe(object(pipeline,source),value(connected,object(pipeline,connect)),1)\n",
      "observe(object(pipeline,source),value(connected,object(pipeline,connect)),2)\n",
      "observe(object(pipeline,source),value(connected,object(pipeline,connect)),3)\n",
      "observe(object(pipeline,source),value(connected,object(pipeline,connect)),4)\n",
      "observe(object(pipeline,source),value(connected,object(pipeline,connect)),5)\n",
      "observe(object(pipeline,source),value(flows,object(pipeline,connect)),2)\n",
      "observe(object(pipeline,source),value(flows,object(pipeline,connect)),3)\n",
      "observe(object(pipeline,source),value(flows,object(pipeline,connect)),4)\n",
      "observe(object(pipeline,source),value(flows,object(pipeline,connect)),5)\n",
      "observe(object(pipeline,source),value(liquidLevel,full),1)\n",
      "observe(object(pipeline,source),value(liquidLevel,full),2)\n",
      "observe(object(pipeline,source),value(liquidLevel,full),3)\n",
      "observe(object(pipeline,source),value(liquidLevel,full),4)\n",
      "observe(object(pipeline,source),value(liquidLevel,full),5)\n",
      "observe(object(valve,sink),value(at,(2,1)),1)\n",
      "observe(object(valve,sink),value(at,(2,1)),2)\n",
      "observe(object(valve,sink),value(at,(2,1)),3)\n",
      "observe(object(valve,sink),value(at,(2,1)),4)\n",
      "observe(object(valve,sink),value(at,(2,1)),5)\n",
      "observe(object(valve,sink),value(controls,object(pipeline,connect)),1)\n",
      "observe(object(valve,sink),value(controls,object(pipeline,connect)),2)\n",
      "observe(object(valve,sink),value(controls,object(pipeline,connect)),3)\n",
      "observe(object(valve,sink),value(controls,object(pipeline,connect)),4)\n",
      "observe(object(valve,sink),value(controls,object(pipeline,connect)),5)\n",
      "observe(object(valve,sink),value(position,closed),1)\n",
      "observe(object(valve,sink),value(position,open),2)\n",
      "observe(object(valve,sink),value(position,open),3)\n",
      "observe(object(valve,sink),value(position,open),4)\n",
      "observe(object(valve,sink),value(position,open),5)\n",
      "observe(object(valve,source),value(at,(2,3)),1)\n",
      "observe(object(valve,source),value(at,(2,3)),2)\n",
      "observe(object(valve,source),value(at,(2,3)),3)\n",
      "observe(object(valve,source),value(at,(2,3)),4)\n",
      "observe(object(valve,source),value(at,(2,3)),5)\n",
      "observe(object(valve,source),value(controls,object(pipeline,source)),1)\n",
      "observe(object(valve,source),value(controls,object(pipeline,source)),2)\n",
      "observe(object(valve,source),value(controls,object(pipeline,source)),3)\n",
      "observe(object(valve,source),value(controls,object(pipeline,source)),4)\n",
      "observe(object(valve,source),value(controls,object(pipeline,source)),5)\n",
      "observe(object(valve,source),value(position,closed),1)\n",
      "observe(object(valve,source),value(position,open),2)\n",
      "observe(object(valve,source),value(position,open),3)\n",
      "observe(object(valve,source),value(position,open),4)\n",
      "observe(object(valve,source),value(position,open),5)\n",
      "occurs(agent(\"Empfänger\"),action(open,object(valve,sink)),1)\n",
      "occurs(agent(\"Lieferant\"),action(open,object(valve,source)),1)\n",
      "occurs(object(pipeline,connect),change(flows,object(pipeline,sink)),2)\n",
      "occurs(object(pipeline,connect),change(liquidLevel,full),1)\n",
      "occurs(object(pipeline,sink),change(liquidLevel,full),2)\n",
      "occurs(object(pipeline,source),change(flows,object(pipeline,connect)),1)\n",
      "occurs(object(valve,sink),change(position,open),1)\n",
      "occurs(object(valve,source),change(position,open),1)\n",
      "}\n",
      "SAT 1\n"
     ]
    },
    {
     "name": "stderr",
     "output_type": "stream",
     "text": [
      "<block>:1:17-33: info: no atoms over signature occur in program:\n",
      "  deontic/3\n",
      "\n"
     ]
    }
   ],
   "source": [
    "solve((*prg,\n",
    "       '#show init/2.',\n",
    "       '#show occurs/3.',\n",
    "       '#show observe/3.'\n",
    "       '#show deontic/3.'), sep='\\n');"
   ],
   "metadata": {
    "collapsed": false,
    "pycharm": {
     "name": "#%%\n"
    }
   }
  }
 ],
 "metadata": {
  "kernelspec": {
   "display_name": "Python 3",
   "language": "python",
   "name": "python3"
  },
  "language_info": {
   "codemirror_mode": {
    "name": "ipython",
    "version": 2
   },
   "file_extension": ".py",
   "mimetype": "text/x-python",
   "name": "python",
   "nbconvert_exporter": "python",
   "pygments_lexer": "ipython2",
   "version": "2.7.6"
  }
 },
 "nbformat": 4,
 "nbformat_minor": 0
}