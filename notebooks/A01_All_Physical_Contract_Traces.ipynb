{
 "cells": [
  {
   "cell_type": "code",
   "execution_count": 1,
   "metadata": {
    "collapsed": true
   },
   "outputs": [],
   "source": [
    "import clingo\n",
    "\n",
    "from typing import Sequence"
   ]
  },
  {
   "cell_type": "code",
   "execution_count": 2,
   "outputs": [],
   "source": [
    "def solve(programs: Sequence[str], grounding_context=None, sep:str=' '):\n",
    "    ctl = clingo.Control((\"--models\", \"0\"))\n",
    "    for program in programs:\n",
    "        ctl.add(\"base\", (), program)\n",
    "\n",
    "    ctl.ground(((\"base\", ()),), grounding_context)\n",
    "\n",
    "    models = []\n",
    "\n",
    "    with ctl.solve(yield_=True) as solve_handle:\n",
    "        for i, model in enumerate(solve_handle):\n",
    "            assert isinstance(model, clingo.Model)\n",
    "            symbols = model.symbols(shown=True)\n",
    "            print(\"Answer {}: {}{}{}{}{}\".format(i + 1, \"{\", sep, sep.join(map(str, sorted(symbols))), sep, \"}\"))\n",
    "            models.append(symbols)\n",
    "        mode = \"UNKNOWN\"\n",
    "        solve_result = solve_handle.get()\n",
    "        if solve_result.satisfiable:\n",
    "            mode = \"SAT\"\n",
    "        elif solve_result.unsatisfiable:\n",
    "            mode = \"UNSAT\"\n",
    "        cardinality_suffix = \"\"\n",
    "        if not solve_result.exhausted:\n",
    "            cardinality_suffix = \"+\"\n",
    "        print(mode, \"{}{}\".format(len(models), cardinality_suffix))\n",
    "\n",
    "    return models"
   ],
   "metadata": {
    "collapsed": false,
    "pycharm": {
     "name": "#%%\n"
    }
   }
  },
  {
   "cell_type": "code",
   "execution_count": 3,
   "outputs": [
    {
     "name": "stdout",
     "output_type": "stream",
     "text": [
      "Answer 1: { action(gather(\"Holz\")) action(gather(\"Nahrung\")) action(process_to(\"Holz\",\"Bretter\")) action(process_to(\"Nahrung\",\"Ration\")) action(accept_from_because(\"Bretter\",bob,\"Lieferung Bretter\")) action(accept_from_because(\"Bretter\",bob,\"Lieferung Bretter Austauschanspruch\")) action(accept_from_because(\"Bretter\",bob,\"Lieferung Bretter Differenzanspruch\")) action(accept_from_because(\"Bretter\",bob,\"Lieferung Bretter cont.\")) action(accept_from_because(\"Bretter\",bob,\"Lieferung Gemälde\")) action(accept_from_because(\"Bretter\",bob,\"Lieferung Ration\")) action(accept_from_because(\"Bretter\",bob,\"Nachfrist Lieferung Bretter\")) action(accept_from_because(\"Bretter\",bob,\"Rückabwicklung Ration\")) action(accept_from_because(\"Bretter\",woody,\"Lieferung Bretter\")) action(accept_from_because(\"Bretter\",woody,\"Lieferung Bretter Austauschanspruch\")) action(accept_from_because(\"Bretter\",woody,\"Lieferung Bretter Differenzanspruch\")) action(accept_from_because(\"Bretter\",woody,\"Lieferung Bretter cont.\")) action(accept_from_because(\"Bretter\",woody,\"Lieferung Gemälde\")) action(accept_from_because(\"Bretter\",woody,\"Lieferung Ration\")) action(accept_from_because(\"Bretter\",woody,\"Nachfrist Lieferung Bretter\")) action(accept_from_because(\"Bretter\",woody,\"Rückabwicklung Ration\")) action(accept_from_because(\"Geld\",bob,\"Lieferung Bretter\")) action(accept_from_because(\"Geld\",bob,\"Lieferung Bretter Austauschanspruch\")) action(accept_from_because(\"Geld\",bob,\"Lieferung Bretter Differenzanspruch\")) action(accept_from_because(\"Geld\",bob,\"Lieferung Bretter cont.\")) action(accept_from_because(\"Geld\",bob,\"Lieferung Gemälde\")) action(accept_from_because(\"Geld\",bob,\"Lieferung Ration\")) action(accept_from_because(\"Geld\",bob,\"Nachfrist Lieferung Bretter\")) action(accept_from_because(\"Geld\",bob,\"Rückabwicklung Ration\")) action(accept_from_because(\"Geld\",woody,\"Lieferung Bretter\")) action(accept_from_because(\"Geld\",woody,\"Lieferung Bretter Austauschanspruch\")) action(accept_from_because(\"Geld\",woody,\"Lieferung Bretter Differenzanspruch\")) action(accept_from_because(\"Geld\",woody,\"Lieferung Bretter cont.\")) action(accept_from_because(\"Geld\",woody,\"Lieferung Gemälde\")) action(accept_from_because(\"Geld\",woody,\"Lieferung Ration\")) action(accept_from_because(\"Geld\",woody,\"Nachfrist Lieferung Bretter\")) action(accept_from_because(\"Geld\",woody,\"Rückabwicklung Ration\")) action(accept_from_because(\"Gemälde\",bob,\"Lieferung Bretter\")) action(accept_from_because(\"Gemälde\",bob,\"Lieferung Bretter Austauschanspruch\")) action(accept_from_because(\"Gemälde\",bob,\"Lieferung Bretter Differenzanspruch\")) action(accept_from_because(\"Gemälde\",bob,\"Lieferung Bretter cont.\")) action(accept_from_because(\"Gemälde\",bob,\"Lieferung Gemälde\")) action(accept_from_because(\"Gemälde\",bob,\"Lieferung Ration\")) action(accept_from_because(\"Gemälde\",bob,\"Nachfrist Lieferung Bretter\")) action(accept_from_because(\"Gemälde\",bob,\"Rückabwicklung Ration\")) action(accept_from_because(\"Gemälde\",woody,\"Lieferung Bretter\")) action(accept_from_because(\"Gemälde\",woody,\"Lieferung Bretter Austauschanspruch\")) action(accept_from_because(\"Gemälde\",woody,\"Lieferung Bretter Differenzanspruch\")) action(accept_from_because(\"Gemälde\",woody,\"Lieferung Bretter cont.\")) action(accept_from_because(\"Gemälde\",woody,\"Lieferung Gemälde\")) action(accept_from_because(\"Gemälde\",woody,\"Lieferung Ration\")) action(accept_from_because(\"Gemälde\",woody,\"Nachfrist Lieferung Bretter\")) action(accept_from_because(\"Gemälde\",woody,\"Rückabwicklung Ration\")) action(accept_from_because(\"Holz\",bob,\"Lieferung Bretter\")) action(accept_from_because(\"Holz\",bob,\"Lieferung Bretter Austauschanspruch\")) action(accept_from_because(\"Holz\",bob,\"Lieferung Bretter Differenzanspruch\")) action(accept_from_because(\"Holz\",bob,\"Lieferung Bretter cont.\")) action(accept_from_because(\"Holz\",bob,\"Lieferung Gemälde\")) action(accept_from_because(\"Holz\",bob,\"Lieferung Ration\")) action(accept_from_because(\"Holz\",bob,\"Nachfrist Lieferung Bretter\")) action(accept_from_because(\"Holz\",bob,\"Rückabwicklung Ration\")) action(accept_from_because(\"Holz\",woody,\"Lieferung Bretter\")) action(accept_from_because(\"Holz\",woody,\"Lieferung Bretter Austauschanspruch\")) action(accept_from_because(\"Holz\",woody,\"Lieferung Bretter Differenzanspruch\")) action(accept_from_because(\"Holz\",woody,\"Lieferung Bretter cont.\")) action(accept_from_because(\"Holz\",woody,\"Lieferung Gemälde\")) action(accept_from_because(\"Holz\",woody,\"Lieferung Ration\")) action(accept_from_because(\"Holz\",woody,\"Nachfrist Lieferung Bretter\")) action(accept_from_because(\"Holz\",woody,\"Rückabwicklung Ration\")) action(accept_from_because(\"Nahrung\",bob,\"Lieferung Bretter\")) action(accept_from_because(\"Nahrung\",bob,\"Lieferung Bretter Austauschanspruch\")) action(accept_from_because(\"Nahrung\",bob,\"Lieferung Bretter Differenzanspruch\")) action(accept_from_because(\"Nahrung\",bob,\"Lieferung Bretter cont.\")) action(accept_from_because(\"Nahrung\",bob,\"Lieferung Gemälde\")) action(accept_from_because(\"Nahrung\",bob,\"Lieferung Ration\")) action(accept_from_because(\"Nahrung\",bob,\"Nachfrist Lieferung Bretter\")) action(accept_from_because(\"Nahrung\",bob,\"Rückabwicklung Ration\")) action(accept_from_because(\"Nahrung\",woody,\"Lieferung Bretter\")) action(accept_from_because(\"Nahrung\",woody,\"Lieferung Bretter Austauschanspruch\")) action(accept_from_because(\"Nahrung\",woody,\"Lieferung Bretter Differenzanspruch\")) action(accept_from_because(\"Nahrung\",woody,\"Lieferung Bretter cont.\")) action(accept_from_because(\"Nahrung\",woody,\"Lieferung Gemälde\")) action(accept_from_because(\"Nahrung\",woody,\"Lieferung Ration\")) action(accept_from_because(\"Nahrung\",woody,\"Nachfrist Lieferung Bretter\")) action(accept_from_because(\"Nahrung\",woody,\"Rückabwicklung Ration\")) action(accept_from_because(\"Ration\",bob,\"Lieferung Bretter\")) action(accept_from_because(\"Ration\",bob,\"Lieferung Bretter Austauschanspruch\")) action(accept_from_because(\"Ration\",bob,\"Lieferung Bretter Differenzanspruch\")) action(accept_from_because(\"Ration\",bob,\"Lieferung Bretter cont.\")) action(accept_from_because(\"Ration\",bob,\"Lieferung Gemälde\")) action(accept_from_because(\"Ration\",bob,\"Lieferung Ration\")) action(accept_from_because(\"Ration\",bob,\"Nachfrist Lieferung Bretter\")) action(accept_from_because(\"Ration\",bob,\"Rückabwicklung Ration\")) action(accept_from_because(\"Ration\",woody,\"Lieferung Bretter\")) action(accept_from_because(\"Ration\",woody,\"Lieferung Bretter Austauschanspruch\")) action(accept_from_because(\"Ration\",woody,\"Lieferung Bretter Differenzanspruch\")) action(accept_from_because(\"Ration\",woody,\"Lieferung Bretter cont.\")) action(accept_from_because(\"Ration\",woody,\"Lieferung Gemälde\")) action(accept_from_because(\"Ration\",woody,\"Lieferung Ration\")) action(accept_from_because(\"Ration\",woody,\"Nachfrist Lieferung Bretter\")) action(accept_from_because(\"Ration\",woody,\"Rückabwicklung Ration\")) action(communicate_to_because(\"Am Vertrag festhalten\",bob,\"Lieferung Bretter\")) action(communicate_to_because(\"Am Vertrag festhalten\",bob,\"Lieferung Bretter Austauschanspruch\")) action(communicate_to_because(\"Am Vertrag festhalten\",bob,\"Lieferung Bretter Differenzanspruch\")) action(communicate_to_because(\"Am Vertrag festhalten\",bob,\"Lieferung Bretter cont.\")) action(communicate_to_because(\"Am Vertrag festhalten\",bob,\"Lieferung Gemälde\")) action(communicate_to_because(\"Am Vertrag festhalten\",bob,\"Lieferung Ration\")) action(communicate_to_because(\"Am Vertrag festhalten\",bob,\"Nachfrist Lieferung Bretter\")) action(communicate_to_because(\"Am Vertrag festhalten\",bob,\"Rückabwicklung Ration\")) action(communicate_to_because(\"Am Vertrag festhalten\",woody,\"Lieferung Bretter\")) action(communicate_to_because(\"Am Vertrag festhalten\",woody,\"Lieferung Bretter Austauschanspruch\")) action(communicate_to_because(\"Am Vertrag festhalten\",woody,\"Lieferung Bretter Differenzanspruch\")) action(communicate_to_because(\"Am Vertrag festhalten\",woody,\"Lieferung Bretter cont.\")) action(communicate_to_because(\"Am Vertrag festhalten\",woody,\"Lieferung Gemälde\")) action(communicate_to_because(\"Am Vertrag festhalten\",woody,\"Lieferung Ration\")) action(communicate_to_because(\"Am Vertrag festhalten\",woody,\"Nachfrist Lieferung Bretter\")) action(communicate_to_because(\"Am Vertrag festhalten\",woody,\"Rückabwicklung Ration\")) action(communicate_to_because(\"Vom Vertrag zurücktreten\",bob,\"Lieferung Bretter\")) action(communicate_to_because(\"Vom Vertrag zurücktreten\",bob,\"Lieferung Bretter Austauschanspruch\")) action(communicate_to_because(\"Vom Vertrag zurücktreten\",bob,\"Lieferung Bretter Differenzanspruch\")) action(communicate_to_because(\"Vom Vertrag zurücktreten\",bob,\"Lieferung Bretter cont.\")) action(communicate_to_because(\"Vom Vertrag zurücktreten\",bob,\"Lieferung Gemälde\")) action(communicate_to_because(\"Vom Vertrag zurücktreten\",bob,\"Lieferung Ration\")) action(communicate_to_because(\"Vom Vertrag zurücktreten\",bob,\"Nachfrist Lieferung Bretter\")) action(communicate_to_because(\"Vom Vertrag zurücktreten\",bob,\"Rückabwicklung Ration\")) action(communicate_to_because(\"Vom Vertrag zurücktreten\",woody,\"Lieferung Bretter\")) action(communicate_to_because(\"Vom Vertrag zurücktreten\",woody,\"Lieferung Bretter Austauschanspruch\")) action(communicate_to_because(\"Vom Vertrag zurücktreten\",woody,\"Lieferung Bretter Differenzanspruch\")) action(communicate_to_because(\"Vom Vertrag zurücktreten\",woody,\"Lieferung Bretter cont.\")) action(communicate_to_because(\"Vom Vertrag zurücktreten\",woody,\"Lieferung Gemälde\")) action(communicate_to_because(\"Vom Vertrag zurücktreten\",woody,\"Lieferung Ration\")) action(communicate_to_because(\"Vom Vertrag zurücktreten\",woody,\"Nachfrist Lieferung Bretter\")) action(communicate_to_because(\"Vom Vertrag zurücktreten\",woody,\"Rückabwicklung Ration\")) action(give_to_because(\"Bretter\",bob,\"Lieferung Bretter\")) action(give_to_because(\"Bretter\",bob,\"Lieferung Bretter Austauschanspruch\")) action(give_to_because(\"Bretter\",bob,\"Lieferung Bretter Differenzanspruch\")) action(give_to_because(\"Bretter\",bob,\"Lieferung Bretter cont.\")) action(give_to_because(\"Bretter\",bob,\"Lieferung Gemälde\")) action(give_to_because(\"Bretter\",bob,\"Lieferung Ration\")) action(give_to_because(\"Bretter\",bob,\"Nachfrist Lieferung Bretter\")) action(give_to_because(\"Bretter\",bob,\"Rückabwicklung Ration\")) action(give_to_because(\"Bretter\",woody,\"Lieferung Bretter\")) action(give_to_because(\"Bretter\",woody,\"Lieferung Bretter Austauschanspruch\")) action(give_to_because(\"Bretter\",woody,\"Lieferung Bretter Differenzanspruch\")) action(give_to_because(\"Bretter\",woody,\"Lieferung Bretter cont.\")) action(give_to_because(\"Bretter\",woody,\"Lieferung Gemälde\")) action(give_to_because(\"Bretter\",woody,\"Lieferung Ration\")) action(give_to_because(\"Bretter\",woody,\"Nachfrist Lieferung Bretter\")) action(give_to_because(\"Bretter\",woody,\"Rückabwicklung Ration\")) action(give_to_because(\"Geld\",bob,\"Lieferung Bretter\")) action(give_to_because(\"Geld\",bob,\"Lieferung Bretter Austauschanspruch\")) action(give_to_because(\"Geld\",bob,\"Lieferung Bretter Differenzanspruch\")) action(give_to_because(\"Geld\",bob,\"Lieferung Bretter cont.\")) action(give_to_because(\"Geld\",bob,\"Lieferung Gemälde\")) action(give_to_because(\"Geld\",bob,\"Lieferung Ration\")) action(give_to_because(\"Geld\",bob,\"Nachfrist Lieferung Bretter\")) action(give_to_because(\"Geld\",bob,\"Rückabwicklung Ration\")) action(give_to_because(\"Geld\",woody,\"Lieferung Bretter\")) action(give_to_because(\"Geld\",woody,\"Lieferung Bretter Austauschanspruch\")) action(give_to_because(\"Geld\",woody,\"Lieferung Bretter Differenzanspruch\")) action(give_to_because(\"Geld\",woody,\"Lieferung Bretter cont.\")) action(give_to_because(\"Geld\",woody,\"Lieferung Gemälde\")) action(give_to_because(\"Geld\",woody,\"Lieferung Ration\")) action(give_to_because(\"Geld\",woody,\"Nachfrist Lieferung Bretter\")) action(give_to_because(\"Geld\",woody,\"Rückabwicklung Ration\")) action(give_to_because(\"Gemälde\",bob,\"Lieferung Bretter\")) action(give_to_because(\"Gemälde\",bob,\"Lieferung Bretter Austauschanspruch\")) action(give_to_because(\"Gemälde\",bob,\"Lieferung Bretter Differenzanspruch\")) action(give_to_because(\"Gemälde\",bob,\"Lieferung Bretter cont.\")) action(give_to_because(\"Gemälde\",bob,\"Lieferung Gemälde\")) action(give_to_because(\"Gemälde\",bob,\"Lieferung Ration\")) action(give_to_because(\"Gemälde\",bob,\"Nachfrist Lieferung Bretter\")) action(give_to_because(\"Gemälde\",bob,\"Rückabwicklung Ration\")) action(give_to_because(\"Gemälde\",woody,\"Lieferung Bretter\")) action(give_to_because(\"Gemälde\",woody,\"Lieferung Bretter Austauschanspruch\")) action(give_to_because(\"Gemälde\",woody,\"Lieferung Bretter Differenzanspruch\")) action(give_to_because(\"Gemälde\",woody,\"Lieferung Bretter cont.\")) action(give_to_because(\"Gemälde\",woody,\"Lieferung Gemälde\")) action(give_to_because(\"Gemälde\",woody,\"Lieferung Ration\")) action(give_to_because(\"Gemälde\",woody,\"Nachfrist Lieferung Bretter\")) action(give_to_because(\"Gemälde\",woody,\"Rückabwicklung Ration\")) action(give_to_because(\"Holz\",bob,\"Lieferung Bretter\")) action(give_to_because(\"Holz\",bob,\"Lieferung Bretter Austauschanspruch\")) action(give_to_because(\"Holz\",bob,\"Lieferung Bretter Differenzanspruch\")) action(give_to_because(\"Holz\",bob,\"Lieferung Bretter cont.\")) action(give_to_because(\"Holz\",bob,\"Lieferung Gemälde\")) action(give_to_because(\"Holz\",bob,\"Lieferung Ration\")) action(give_to_because(\"Holz\",bob,\"Nachfrist Lieferung Bretter\")) action(give_to_because(\"Holz\",bob,\"Rückabwicklung Ration\")) action(give_to_because(\"Holz\",woody,\"Lieferung Bretter\")) action(give_to_because(\"Holz\",woody,\"Lieferung Bretter Austauschanspruch\")) action(give_to_because(\"Holz\",woody,\"Lieferung Bretter Differenzanspruch\")) action(give_to_because(\"Holz\",woody,\"Lieferung Bretter cont.\")) action(give_to_because(\"Holz\",woody,\"Lieferung Gemälde\")) action(give_to_because(\"Holz\",woody,\"Lieferung Ration\")) action(give_to_because(\"Holz\",woody,\"Nachfrist Lieferung Bretter\")) action(give_to_because(\"Holz\",woody,\"Rückabwicklung Ration\")) action(give_to_because(\"Nahrung\",bob,\"Lieferung Bretter\")) action(give_to_because(\"Nahrung\",bob,\"Lieferung Bretter Austauschanspruch\")) action(give_to_because(\"Nahrung\",bob,\"Lieferung Bretter Differenzanspruch\")) action(give_to_because(\"Nahrung\",bob,\"Lieferung Bretter cont.\")) action(give_to_because(\"Nahrung\",bob,\"Lieferung Gemälde\")) action(give_to_because(\"Nahrung\",bob,\"Lieferung Ration\")) action(give_to_because(\"Nahrung\",bob,\"Nachfrist Lieferung Bretter\")) action(give_to_because(\"Nahrung\",bob,\"Rückabwicklung Ration\")) action(give_to_because(\"Nahrung\",woody,\"Lieferung Bretter\")) action(give_to_because(\"Nahrung\",woody,\"Lieferung Bretter Austauschanspruch\")) action(give_to_because(\"Nahrung\",woody,\"Lieferung Bretter Differenzanspruch\")) action(give_to_because(\"Nahrung\",woody,\"Lieferung Bretter cont.\")) action(give_to_because(\"Nahrung\",woody,\"Lieferung Gemälde\")) action(give_to_because(\"Nahrung\",woody,\"Lieferung Ration\")) action(give_to_because(\"Nahrung\",woody,\"Nachfrist Lieferung Bretter\")) action(give_to_because(\"Nahrung\",woody,\"Rückabwicklung Ration\")) action(give_to_because(\"Ration\",bob,\"Lieferung Bretter\")) action(give_to_because(\"Ration\",bob,\"Lieferung Bretter Austauschanspruch\")) action(give_to_because(\"Ration\",bob,\"Lieferung Bretter Differenzanspruch\")) action(give_to_because(\"Ration\",bob,\"Lieferung Bretter cont.\")) action(give_to_because(\"Ration\",bob,\"Lieferung Gemälde\")) action(give_to_because(\"Ration\",bob,\"Lieferung Ration\")) action(give_to_because(\"Ration\",bob,\"Nachfrist Lieferung Bretter\")) action(give_to_because(\"Ration\",bob,\"Rückabwicklung Ration\")) action(give_to_because(\"Ration\",woody,\"Lieferung Bretter\")) action(give_to_because(\"Ration\",woody,\"Lieferung Bretter Austauschanspruch\")) action(give_to_because(\"Ration\",woody,\"Lieferung Bretter Differenzanspruch\")) action(give_to_because(\"Ration\",woody,\"Lieferung Bretter cont.\")) action(give_to_because(\"Ration\",woody,\"Lieferung Gemälde\")) action(give_to_because(\"Ration\",woody,\"Lieferung Ration\")) action(give_to_because(\"Ration\",woody,\"Nachfrist Lieferung Bretter\")) action(give_to_because(\"Ration\",woody,\"Rückabwicklung Ration\")) agent(bob) agent(woody) component(\"Lieferung Bretter\") component(\"Lieferung Bretter Austauschanspruch\") component(\"Lieferung Bretter Differenzanspruch\") component(\"Lieferung Bretter cont.\") component(\"Lieferung Gemälde\") component(\"Lieferung Ration\") component(\"Nachfrist Lieferung Bretter\") component(\"Rückabwicklung Ration\") componentType(\"Austauschanspruch\") componentType(\"Differenzanspruch\") componentType(\"Geldleistung\") componentType(\"Nachfrist\") componentType(\"Sachleistung\") contract(\"Instanz Tauschvertrag\") event(destroy(\"Bretter\")) event(destroy(\"Geld\")) event(destroy(\"Gemälde\")) event(destroy(\"Holz\")) event(destroy(\"Nahrung\")) event(destroy(\"Ration\")) resource(\"Bretter\") resource(\"Geld\") resource(\"Gemälde\") resource(\"Holz\") resource(\"Nahrung\") resource(\"Ration\") resourceType(\"Gattung\") resourceType(\"Geld\") resourceType(\"Spezies\") }\n",
      "SAT 1\n"
     ]
    }
   ],
   "source": [
    "domain = \"\"\"\n",
    "\n",
    "contract(\"Instanz Tauschvertrag\").\n",
    "\n",
    "component(\"Lieferung Ration\").\n",
    "component(\"Rückabwicklung Ration\").\n",
    "\n",
    "component(\"Lieferung Brett\").\n",
    "component(\"Nachfrist Lieferung Brett\").\n",
    "component(\"Lieferung Brett cont.\").\n",
    "\n",
    "component(\"Lieferung Gemälde\").\n",
    "\n",
    "component(\"Lieferung Brett Austauschanspruch\").\n",
    "component(\"Lieferung Brett Differenzanspruch\").\n",
    "\n",
    "componentType(\"Sachleistung\").\n",
    "componentType(\"Nachfrist\").\n",
    "componentType(\"Geldleistung\").\n",
    "componentType(\"Austauschanspruch\").\n",
    "componentType(\"Differenzanspruch\").\n",
    "\n",
    "resource(\"Holz\").\n",
    "resource(\"Nahrung\").\n",
    "resource(\"Brett\").\n",
    "resource(\"Ration\").\n",
    "resource(\"Gemälde\").\n",
    "resource(\"Geld\").\n",
    "\n",
    "resourceType(\"Gattung\").\n",
    "resourceType(\"Spezies\").\n",
    "resourceType(\"Geld\").\n",
    "\n",
    "agent(bob).\n",
    "agent(woody).\n",
    "\n",
    "event(destroy(Resource)) :- resource(Resource).\n",
    "\n",
    "action(gather(\"Holz\")).\n",
    "action(gather(\"Nahrung\")).\n",
    "action(process_to(\"Holz\", \"Brett\")).\n",
    "action(process_to(\"Nahrung\", \"Ration\")).\n",
    "action(give_to_because(Resource, Agent, Component)) :- agent(Agent), resource(Resource), component(Component).\n",
    "action(accept_from_because(Resource, Agent, Component)) :- agent(Agent), resource(Resource), component(Component).\n",
    "\n",
    "action(communicate_to_because(\"Am Vertrag festhalten\", Agent, Component)) :- agent(Agent), component(Component).\n",
    "action(communicate_to_because(\"Vom Vertrag zurücktreten\", Agent, Component)) :- agent(Agent), component(Component).\n",
    "\n",
    "\"\"\"\n",
    "solve([domain]);"
   ],
   "metadata": {
    "collapsed": false,
    "pycharm": {
     "name": "#%%\n"
    }
   }
  },
  {
   "cell_type": "code",
   "execution_count": 5,
   "outputs": [
    {
     "name": "stdout",
     "output_type": "stream",
     "text": [
      "Answer 1: { occ_at(agent_does(bob,gather(\"Nahrung\")),0) occ_at(agent_does(bob,process_to(\"Nahrung\",\"Ration\")),1) occ_at(agent_does(bob,accept_from_because(\"Bretter\",woody,\"Lieferung Bretter\")),3) occ_at(agent_does(bob,give_to_because(\"Ration\",woody,\"Lieferung Rationen\")),2) occ_at(agent_does(woody,gather(\"Holz\")),0) occ_at(agent_does(woody,process_to(\"Holz\",\"Bretter\")),1) occ_at(agent_does(woody,accept_from_because(\"Ration\",bob,\"Lieferung Rationen\")),2) occ_at(agent_does(woody,give_to_because(\"Bretter\",bob,\"Lieferung Bretter\")),3) }\n",
      "SAT 1\n"
     ]
    }
   ],
   "source": [
    "trace_success = \"\"\"\n",
    "\n",
    "occ_at(agent_does(bob, gather(\"Nahrung\")), 0).\n",
    "occ_at(agent_does(woody, gather(\"Holz\")), 0).\n",
    "\n",
    "occ_at(agent_does(bob, process_to(\"Nahrung\", \"Ration\")), 1).\n",
    "occ_at(agent_does(woody, process_to(\"Holz\", \"Brett\")), 1).\n",
    "\n",
    "occ_at(agent_does(bob, give_to_because(\"Ration\", woody, \"Lieferung Ration\")), 2).\n",
    "occ_at(agent_does(woody, accept_from_because(\"Ration\", bob, \"Lieferung Ration\")), 2).\n",
    "\n",
    "occ_at(agent_does(woody, give_to_because(\"Brett\", bob, \"Lieferung Brett\")), 3).\n",
    "occ_at(agent_does(bob, accept_from_because(\"Brett\", woody, \"Lieferung Brett\")), 3).\n",
    "\"\"\"\n",
    "solve([trace_success]);"
   ],
   "metadata": {
    "collapsed": false,
    "pycharm": {
     "name": "#%%\n"
    }
   }
  },
  {
   "cell_type": "code",
   "execution_count": 6,
   "outputs": [
    {
     "name": "stdout",
     "output_type": "stream",
     "text": [
      "Answer 1: { occ_at(agent_does(bob,destroy(\"Bretter\")),3) occ_at(agent_does(bob,gather(\"Nahrung\")),0) occ_at(agent_does(bob,process_to(\"Nahrung\",\"Ration\")),1) occ_at(agent_does(woody,gather(\"Holz\")),0) occ_at(agent_does(woody,process_to(\"Holz\",\"Bretter\")),1) }\n",
      "SAT 1\n"
     ]
    }
   ],
   "source": [
    "trace_unmoeglich_glauebiger = \"\"\"\n",
    "\n",
    "occ_at(agent_does(bob, gather(\"Nahrung\")), 0).\n",
    "occ_at(agent_does(woody, gather(\"Holz\")), 0).\n",
    "\n",
    "occ_at(agent_does(bob, process_to(\"Nahrung\", \"Ration\")), 1).\n",
    "occ_at(agent_does(woody, process_to(\"Holz\", \"Brett\")), 1).\n",
    "\n",
    "occ_at(agent_does(bob, destroy(\"Brett\")), 3).\n",
    "\n",
    "\"\"\"\n",
    "solve([trace_unmoeglich_glauebiger]);"
   ],
   "metadata": {
    "collapsed": false,
    "pycharm": {
     "name": "#%%\n"
    }
   }
  },
  {
   "cell_type": "code",
   "execution_count": 7,
   "outputs": [
    {
     "name": "stdout",
     "output_type": "stream",
     "text": [
      "Answer 1: { occ_at(agent_does(bob,destroy(\"Bretter\")),3) occ_at(agent_does(bob,gather(\"Nahrung\")),0) occ_at(agent_does(bob,process_to(\"Nahrung\",\"Ration\")),1) occ_at(agent_does(bob,give_to_because(\"Ration\",woody,\"Lieferung Rationen\")),2) occ_at(agent_does(woody,gather(\"Holz\")),0) occ_at(agent_does(woody,process_to(\"Holz\",\"Bretter\")),1) occ_at(agent_does(woody,accept_from_because(\"Ration\",bob,\"Lieferung Rationen\")),2) }\n",
      "SAT 1\n"
     ]
    }
   ],
   "source": [
    "trace_GLE1_unmoeglich_glauebiger = \"\"\"\n",
    "\n",
    "occ_at(agent_does(bob, gather(\"Nahrung\")), 0).\n",
    "occ_at(agent_does(woody, gather(\"Holz\")), 0).\n",
    "\n",
    "occ_at(agent_does(bob, process_to(\"Nahrung\", \"Ration\")), 1).\n",
    "occ_at(agent_does(woody, process_to(\"Holz\", \"Brett\")), 1).\n",
    "\n",
    "occ_at(agent_does(bob, give_to_because(\"Ration\", woody, \"Lieferung Ration\")), 2).\n",
    "occ_at(agent_does(woody, accept_from_because(\"Ration\", bob, \"Lieferung Ration\")), 2).\n",
    "\n",
    "occ_at(agent_does(bob, destroy(\"Brett\")), 3).\n",
    "\n",
    "\"\"\"\n",
    "solve([trace_GLE1_unmoeglich_glauebiger]);"
   ],
   "metadata": {
    "collapsed": false,
    "pycharm": {
     "name": "#%%\n"
    }
   }
  },
  {
   "cell_type": "code",
   "execution_count": 8,
   "outputs": [
    {
     "name": "stdout",
     "output_type": "stream",
     "text": [
      "Answer 1: { occ_at(agent_does(bob,destroy(\"Bretter\")),3) occ_at(agent_does(bob,gather(\"Nahrung\")),0) occ_at(agent_does(bob,process_to(\"Nahrung\",\"Ration\")),1) occ_at(agent_does(bob,give_to_because(\"Ration\",woody,\"Lieferung Rationen\")),4) occ_at(agent_does(woody,gather(\"Holz\")),0) occ_at(agent_does(woody,process_to(\"Holz\",\"Bretter\")),1) occ_at(agent_does(woody,accept_from_because(\"Ration\",bob,\"Lieferung Rationen\")),4) }\n",
      "SAT 1\n"
     ]
    }
   ],
   "source": [
    "trace_GLE2_unmoeglich_glauebiger = \"\"\"\n",
    "\n",
    "occ_at(agent_does(bob, gather(\"Nahrung\")), 0).\n",
    "occ_at(agent_does(woody, gather(\"Holz\")), 0).\n",
    "\n",
    "occ_at(agent_does(bob, process_to(\"Nahrung\", \"Ration\")), 1).\n",
    "occ_at(agent_does(woody, process_to(\"Holz\", \"Brett\")), 1).\n",
    "\n",
    "occ_at(agent_does(bob, destroy(\"Brett\")), 3).\n",
    "\n",
    "occ_at(agent_does(bob, give_to_because(\"Ration\", woody, \"Lieferung Ration\")), 4).\n",
    "occ_at(agent_does(woody, accept_from_because(\"Ration\", bob, \"Lieferung Ration\")), 4).\n",
    "\n",
    "\"\"\"\n",
    "solve([trace_GLE2_unmoeglich_glauebiger]);"
   ],
   "metadata": {
    "collapsed": false,
    "pycharm": {
     "name": "#%%\n"
    }
   }
  },
  {
   "cell_type": "code",
   "execution_count": 9,
   "outputs": [
    {
     "name": "stdout",
     "output_type": "stream",
     "text": [
      "Answer 1: { occ_at(agent_does(bob,gather(\"Nahrung\")),0) occ_at(agent_does(bob,process_to(\"Nahrung\",\"Ration\")),1) occ_at(agent_does(bob,communicate_to_because(\"Am Vertrag festhalten\",woody,\"Lieferung Bretter\")),5) occ_at(agent_does(woody,destroy(\"Bretter\")),3) occ_at(agent_does(woody,gather(\"Holz\")),0) occ_at(agent_does(woody,process_to(\"Holz\",\"Bretter\")),1) }\n",
      "SAT 1\n"
     ]
    }
   ],
   "source": [
    "trace_unmoeglich_schuldner_festhalten = \"\"\"\n",
    "\n",
    "occ_at(agent_does(bob, gather(\"Nahrung\")), 0).\n",
    "occ_at(agent_does(woody, gather(\"Holz\")), 0).\n",
    "\n",
    "occ_at(agent_does(bob, process_to(\"Nahrung\", \"Ration\")), 1).\n",
    "occ_at(agent_does(woody, process_to(\"Holz\", \"Brett\")), 1).\n",
    "\n",
    "occ_at(agent_does(woody, destroy(\"Brett\")), 3).\n",
    "\n",
    "occ_at(agent_does(bob, communicate_to_because(\"Am Vertrag festhalten\", woody, \"Lieferung Brett\")), 5).\n",
    "\n",
    "\"\"\"\n",
    "solve([trace_unmoeglich_schuldner_festhalten]);"
   ],
   "metadata": {
    "collapsed": false,
    "pycharm": {
     "name": "#%%\n"
    }
   }
  },
  {
   "cell_type": "code",
   "execution_count": 10,
   "outputs": [
    {
     "name": "stdout",
     "output_type": "stream",
     "text": [
      "Answer 1: { occ_at(agent_does(bob,gather(\"Nahrung\")),0) occ_at(agent_does(bob,process_to(\"Nahrung\",\"Ration\")),1) occ_at(agent_does(bob,communicate_to_because(\"Am Vertrag festhalten\",woody,\"Lieferung Bretter\")),5) occ_at(agent_does(bob,give_to_because(\"Ration\",woody,\"Lieferung Rationen\")),2) occ_at(agent_does(woody,destroy(\"Bretter\")),3) occ_at(agent_does(woody,gather(\"Holz\")),0) occ_at(agent_does(woody,process_to(\"Holz\",\"Bretter\")),1) occ_at(agent_does(woody,accept_from_because(\"Ration\",bob,\"Lieferung Rationen\")),2) }\n",
      "SAT 1\n"
     ]
    }
   ],
   "source": [
    "trace_GLE1_unmoeglich_schuldner_festhalten = \"\"\"\n",
    "\n",
    "occ_at(agent_does(bob, gather(\"Nahrung\")), 0).\n",
    "occ_at(agent_does(woody, gather(\"Holz\")), 0).\n",
    "\n",
    "occ_at(agent_does(bob, process_to(\"Nahrung\", \"Ration\")), 1).\n",
    "occ_at(agent_does(woody, process_to(\"Holz\", \"Brett\")), 1).\n",
    "\n",
    "occ_at(agent_does(bob, give_to_because(\"Ration\", woody, \"Lieferung Ration\")), 2).\n",
    "occ_at(agent_does(woody, accept_from_because(\"Ration\", bob, \"Lieferung Ration\")), 2).\n",
    "\n",
    "occ_at(agent_does(woody, destroy(\"Brett\")), 3).\n",
    "\n",
    "occ_at(agent_does(bob, communicate_to_because(\"Am Vertrag festhalten\", woody, \"Lieferung Brett\")), 5).\n",
    "\n",
    "\"\"\"\n",
    "solve([trace_GLE1_unmoeglich_schuldner_festhalten]);"
   ],
   "metadata": {
    "collapsed": false,
    "pycharm": {
     "name": "#%%\n"
    }
   }
  },
  {
   "cell_type": "code",
   "execution_count": 11,
   "outputs": [
    {
     "name": "stdout",
     "output_type": "stream",
     "text": [
      "Answer 1: { occ_at(agent_does(bob,gather(\"Nahrung\")),0) occ_at(agent_does(bob,process_to(\"Nahrung\",\"Ration\")),1) occ_at(agent_does(bob,communicate_to_because(\"Am Vertrag festhalten\",woody,\"Lieferung Bretter\")),5) occ_at(agent_does(bob,give_to_because(\"Ration\",woody,\"Lieferung Rationen\")),4) occ_at(agent_does(woody,destroy(\"Bretter\")),3) occ_at(agent_does(woody,gather(\"Holz\")),0) occ_at(agent_does(woody,process_to(\"Holz\",\"Bretter\")),1) occ_at(agent_does(woody,accept_from_because(\"Ration\",bob,\"Lieferung Rationen\")),4) }\n",
      "SAT 1\n"
     ]
    }
   ],
   "source": [
    "trace_GLE2_unmoeglich_schuldner_festhalten = \"\"\"\n",
    "\n",
    "occ_at(agent_does(bob, gather(\"Nahrung\")), 0).\n",
    "occ_at(agent_does(woody, gather(\"Holz\")), 0).\n",
    "\n",
    "occ_at(agent_does(bob, process_to(\"Nahrung\", \"Ration\")), 1).\n",
    "occ_at(agent_does(woody, process_to(\"Holz\", \"Brett\")), 1).\n",
    "\n",
    "occ_at(agent_does(woody, destroy(\"Brett\")), 3).\n",
    "\n",
    "occ_at(agent_does(bob, give_to_because(\"Ration\", woody, \"Lieferung Ration\")), 4).\n",
    "occ_at(agent_does(woody, accept_from_because(\"Ration\", bob, \"Lieferung Ration\")), 4).\n",
    "\n",
    "occ_at(agent_does(bob, communicate_to_because(\"Am Vertrag festhalten\", woody, \"Lieferung Brett\")), 5).\n",
    "\n",
    "\"\"\"\n",
    "solve([trace_GLE2_unmoeglich_schuldner_festhalten]);"
   ],
   "metadata": {
    "collapsed": false,
    "pycharm": {
     "name": "#%%\n"
    }
   }
  },
  {
   "cell_type": "code",
   "execution_count": 12,
   "outputs": [
    {
     "name": "stdout",
     "output_type": "stream",
     "text": [
      "Answer 1: { occ_at(agent_does(bob,gather(\"Nahrung\")),0) occ_at(agent_does(bob,process_to(\"Nahrung\",\"Ration\")),1) occ_at(agent_does(bob,communicate_to_because(\"Vom Vertrag zurücktreten\",woody,\"Lieferung Bretter\")),5) occ_at(agent_does(woody,destroy(\"Bretter\")),3) occ_at(agent_does(woody,gather(\"Holz\")),0) occ_at(agent_does(woody,process_to(\"Holz\",\"Bretter\")),1) }\n",
      "SAT 1\n"
     ]
    }
   ],
   "source": [
    "trace_unmoeglich_schuldner_zuruecktreten = \"\"\"\n",
    "\n",
    "occ_at(agent_does(bob, gather(\"Nahrung\")), 0).\n",
    "occ_at(agent_does(woody, gather(\"Holz\")), 0).\n",
    "\n",
    "occ_at(agent_does(bob, process_to(\"Nahrung\", \"Ration\")), 1).\n",
    "occ_at(agent_does(woody, process_to(\"Holz\", \"Brett\")), 1).\n",
    "\n",
    "occ_at(agent_does(woody, destroy(\"Brett\")), 3).\n",
    "\n",
    "occ_at(agent_does(bob, communicate_to_because(\"Vom Vertrag zurücktreten\", woody, \"Lieferung Brett\")), 5).\n",
    "\n",
    "\"\"\"\n",
    "solve([trace_unmoeglich_schuldner_zuruecktreten]);"
   ],
   "metadata": {
    "collapsed": false,
    "pycharm": {
     "name": "#%%\n"
    }
   }
  },
  {
   "cell_type": "code",
   "execution_count": 13,
   "outputs": [
    {
     "name": "stdout",
     "output_type": "stream",
     "text": [
      "Answer 1: { occ_at(agent_does(bob,gather(\"Nahrung\")),0) occ_at(agent_does(bob,process_to(\"Nahrung\",\"Ration\")),1) occ_at(agent_does(bob,communicate_to_because(\"Vom Vertrag zuruecktreten\",woody,\"Lieferung Bretter\")),5) occ_at(agent_does(bob,give_to_because(\"Ration\",woody,\"Lieferung Rationen\")),2) occ_at(agent_does(woody,destroy(\"Bretter\")),3) occ_at(agent_does(woody,gather(\"Holz\")),0) occ_at(agent_does(woody,process_to(\"Holz\",\"Bretter\")),1) occ_at(agent_does(woody,accept_from_because(\"Ration\",bob,\"Lieferung Rationen\")),2) }\n",
      "SAT 1\n"
     ]
    }
   ],
   "source": [
    "trace_GLE1_unmoeglich_schuldner_zuruecktreten = \"\"\"\n",
    "\n",
    "occ_at(agent_does(bob, gather(\"Nahrung\")), 0).\n",
    "occ_at(agent_does(woody, gather(\"Holz\")), 0).\n",
    "\n",
    "occ_at(agent_does(bob, process_to(\"Nahrung\", \"Ration\")), 1).\n",
    "occ_at(agent_does(woody, process_to(\"Holz\", \"Brett\")), 1).\n",
    "\n",
    "occ_at(agent_does(bob, give_to_because(\"Ration\", woody, \"Lieferung Ration\")), 2).\n",
    "occ_at(agent_does(woody, accept_from_because(\"Ration\", bob, \"Lieferung Ration\")), 2).\n",
    "\n",
    "occ_at(agent_does(woody, destroy(\"Brett\")), 3).\n",
    "\n",
    "occ_at(agent_does(bob, communicate_to_because(\"Vom Vertrag zuruecktreten\", woody, \"Lieferung Brett\")), 5).\n",
    "\n",
    "\"\"\"\n",
    "solve([trace_GLE1_unmoeglich_schuldner_zuruecktreten]);"
   ],
   "metadata": {
    "collapsed": false,
    "pycharm": {
     "name": "#%%\n"
    }
   }
  },
  {
   "cell_type": "code",
   "execution_count": 14,
   "outputs": [
    {
     "name": "stdout",
     "output_type": "stream",
     "text": [
      "Answer 1: { occ_at(agent_does(bob,gather(\"Nahrung\")),0) occ_at(agent_does(bob,process_to(\"Nahrung\",\"Ration\")),1) occ_at(agent_does(bob,communicate_to_because(\"Vom Vertrag zuruecktreten\",woody,\"Lieferung Bretter\")),5) occ_at(agent_does(bob,give_to_because(\"Ration\",woody,\"Lieferung Rationen\")),4) occ_at(agent_does(woody,destroy(\"Bretter\")),3) occ_at(agent_does(woody,gather(\"Holz\")),0) occ_at(agent_does(woody,process_to(\"Holz\",\"Bretter\")),1) occ_at(agent_does(woody,accept_from_because(\"Ration\",bob,\"Lieferung Rationen\")),4) }\n",
      "SAT 1\n"
     ]
    }
   ],
   "source": [
    "trace_GLE2_unmoeglich_schuldner_zuruecktreten = \"\"\"\n",
    "\n",
    "occ_at(agent_does(bob, gather(\"Nahrung\")), 0).\n",
    "occ_at(agent_does(woody, gather(\"Holz\")), 0).\n",
    "\n",
    "occ_at(agent_does(bob, process_to(\"Nahrung\", \"Ration\")), 1).\n",
    "occ_at(agent_does(woody, process_to(\"Holz\", \"Brett\")), 1).\n",
    "\n",
    "occ_at(agent_does(woody, destroy(\"Brett\")), 3).\n",
    "\n",
    "occ_at(agent_does(bob, give_to_because(\"Ration\", woody, \"Lieferung Ration\")), 4).\n",
    "occ_at(agent_does(woody, accept_from_because(\"Ration\", bob, \"Lieferung Ration\")), 4).\n",
    "\n",
    "occ_at(agent_does(bob, communicate_to_because(\"Vom Vertrag zuruecktreten\", woody, \"Lieferung Brett\")), 5).\n",
    "\n",
    "\"\"\"\n",
    "solve([trace_GLE2_unmoeglich_schuldner_zuruecktreten]);"
   ],
   "metadata": {
    "collapsed": false,
    "pycharm": {
     "name": "#%%\n"
    }
   }
  },
  {
   "cell_type": "code",
   "execution_count": 15,
   "outputs": [
    {
     "name": "stdout",
     "output_type": "stream",
     "text": [
      "Answer 1: { occ_at(destroy(\"Bretter\"),3) occ_at(agent_does(bob,gather(\"Nahrung\")),0) occ_at(agent_does(bob,process_to(\"Nahrung\",\"Ration\")),1) occ_at(agent_does(woody,gather(\"Holz\")),0) occ_at(agent_does(woody,process_to(\"Holz\",\"Bretter\")),1) }\n",
      "SAT 1\n"
     ]
    }
   ],
   "source": [
    "trace_unmoeglich_zufall_gattung = \"\"\"\n",
    "\n",
    "occ_at(agent_does(bob, gather(\"Nahrung\")), 0).\n",
    "occ_at(agent_does(woody, gather(\"Holz\")), 0).\n",
    "\n",
    "occ_at(agent_does(bob, process_to(\"Nahrung\", \"Ration\")), 1).\n",
    "occ_at(agent_does(woody, process_to(\"Holz\", \"Brett\")), 1).\n",
    "\n",
    "occ_at(destroy(\"Brett\"), 3).\n",
    "\n",
    "\"\"\"\n",
    "solve([trace_unmoeglich_zufall_gattung]);"
   ],
   "metadata": {
    "collapsed": false,
    "pycharm": {
     "name": "#%%\n"
    }
   }
  },
  {
   "cell_type": "code",
   "execution_count": 16,
   "outputs": [
    {
     "name": "stdout",
     "output_type": "stream",
     "text": [
      "Answer 1: { occ_at(destroy(\"Bretter\"),3) occ_at(agent_does(bob,gather(\"Nahrung\")),0) occ_at(agent_does(bob,process_to(\"Nahrung\",\"Ration\")),1) occ_at(agent_does(bob,give_to_because(\"Ration\",woody,\"Lieferung Rationen\")),2) occ_at(agent_does(woody,gather(\"Holz\")),0) occ_at(agent_does(woody,process_to(\"Holz\",\"Bretter\")),1) occ_at(agent_does(woody,accept_from_because(\"Ration\",bob,\"Lieferung Rationen\")),2) }\n",
      "SAT 1\n"
     ]
    }
   ],
   "source": [
    "trace_GLE1_unmoeglich_zufall_gattung = \"\"\"\n",
    "\n",
    "occ_at(agent_does(bob, gather(\"Nahrung\")), 0).\n",
    "occ_at(agent_does(woody, gather(\"Holz\")), 0).\n",
    "\n",
    "occ_at(agent_does(bob, process_to(\"Nahrung\", \"Ration\")), 1).\n",
    "occ_at(agent_does(woody, process_to(\"Holz\", \"Brett\")), 1).\n",
    "\n",
    "occ_at(agent_does(bob, give_to_because(\"Ration\", woody, \"Lieferung Ration\")), 2).\n",
    "occ_at(agent_does(woody, accept_from_because(\"Ration\", bob, \"Lieferung Ration\")), 2).\n",
    "\n",
    "occ_at(destroy(\"Brett\"), 3).\n",
    "\n",
    "\"\"\"\n",
    "solve([trace_GLE1_unmoeglich_zufall_gattung]);"
   ],
   "metadata": {
    "collapsed": false,
    "pycharm": {
     "name": "#%%\n"
    }
   }
  },
  {
   "cell_type": "code",
   "execution_count": 17,
   "outputs": [
    {
     "name": "stdout",
     "output_type": "stream",
     "text": [
      "Answer 1: { occ_at(destroy(\"Bretter\"),3) occ_at(agent_does(bob,gather(\"Nahrung\")),0) occ_at(agent_does(bob,process_to(\"Nahrung\",\"Ration\")),1) occ_at(agent_does(bob,give_to_because(\"Ration\",woody,\"Lieferung Rationen\")),4) occ_at(agent_does(woody,gather(\"Holz\")),0) occ_at(agent_does(woody,process_to(\"Holz\",\"Bretter\")),1) occ_at(agent_does(woody,accept_from_because(\"Ration\",bob,\"Lieferung Rationen\")),4) }\n",
      "SAT 1\n"
     ]
    }
   ],
   "source": [
    "trace_GLE2_unmoeglich_zufall_gattung = \"\"\"\n",
    "\n",
    "occ_at(agent_does(bob, gather(\"Nahrung\")), 0).\n",
    "occ_at(agent_does(woody, gather(\"Holz\")), 0).\n",
    "\n",
    "occ_at(agent_does(bob, process_to(\"Nahrung\", \"Ration\")), 1).\n",
    "occ_at(agent_does(woody, process_to(\"Holz\", \"Brett\")), 1).\n",
    "\n",
    "occ_at(destroy(\"Brett\"), 3).\n",
    "\n",
    "occ_at(agent_does(bob, give_to_because(\"Ration\", woody, \"Lieferung Ration\")), 4).\n",
    "occ_at(agent_does(woody, accept_from_because(\"Ration\", bob, \"Lieferung Ration\")), 4).\n",
    "\n",
    "\"\"\"\n",
    "solve([trace_GLE2_unmoeglich_zufall_gattung]);"
   ],
   "metadata": {
    "collapsed": false,
    "pycharm": {
     "name": "#%%\n"
    }
   }
  },
  {
   "cell_type": "code",
   "execution_count": 18,
   "outputs": [
    {
     "name": "stdout",
     "output_type": "stream",
     "text": [
      "Answer 1: { occ_at(destroy(\"Gemälde\"),3) occ_at(agent_does(bob,gather(\"Nahrung\")),0) occ_at(agent_does(bob,process_to(\"Nahrung\",\"Ration\")),1) occ_at(agent_does(woody,gather(\"Gemälde\")),0) }\n",
      "SAT 1\n"
     ]
    }
   ],
   "source": [
    "trace_unmoeglich_zufall_spezies = \"\"\"\n",
    "\n",
    "occ_at(agent_does(bob, gather(\"Nahrung\")), 0).\n",
    "occ_at(agent_does(woody, gather(\"Gemälde\")), 0).\n",
    "\n",
    "occ_at(agent_does(bob, process_to(\"Nahrung\", \"Ration\")), 1).\n",
    "\n",
    "occ_at(destroy(\"Gemälde\"), 3).\n",
    "\n",
    "\"\"\"\n",
    "solve([trace_unmoeglich_zufall_spezies]);"
   ],
   "metadata": {
    "collapsed": false,
    "pycharm": {
     "name": "#%%\n"
    }
   }
  },
  {
   "cell_type": "code",
   "execution_count": 19,
   "outputs": [
    {
     "name": "stdout",
     "output_type": "stream",
     "text": [
      "Answer 1: { occ_at(destroy(\"Gemälde\"),3) occ_at(agent_does(bob,gather(\"Nahrung\")),0) occ_at(agent_does(bob,process_to(\"Nahrung\",\"Ration\")),1) occ_at(agent_does(bob,give_to_because(\"Ration\",woody,\"Lieferung Rationen\")),2) occ_at(agent_does(woody,gather(\"Gemälde\")),0) occ_at(agent_does(woody,accept_from_because(\"Ration\",bob,\"Lieferung Rationen\")),2) }\n",
      "SAT 1\n"
     ]
    }
   ],
   "source": [
    "trace_GLE1_unmoeglich_zufall_spezies = \"\"\"\n",
    "\n",
    "occ_at(agent_does(bob, gather(\"Nahrung\")), 0).\n",
    "occ_at(agent_does(woody, gather(\"Gemälde\")), 0).\n",
    "\n",
    "occ_at(agent_does(bob, process_to(\"Nahrung\", \"Ration\")), 1).\n",
    "\n",
    "occ_at(agent_does(bob, give_to_because(\"Ration\", woody, \"Lieferung Ration\")), 2).\n",
    "occ_at(agent_does(woody, accept_from_because(\"Ration\", bob, \"Lieferung Ration\")), 2).\n",
    "\n",
    "occ_at(destroy(\"Gemälde\"), 3).\n",
    "\n",
    "\"\"\"\n",
    "solve([trace_GLE1_unmoeglich_zufall_spezies]);"
   ],
   "metadata": {
    "collapsed": false,
    "pycharm": {
     "name": "#%%\n"
    }
   }
  },
  {
   "cell_type": "code",
   "execution_count": 20,
   "outputs": [
    {
     "name": "stdout",
     "output_type": "stream",
     "text": [
      "Answer 1: { occ_at(destroy(\"Gemälde\"),3) occ_at(agent_does(bob,gather(\"Nahrung\")),0) occ_at(agent_does(bob,process_to(\"Nahrung\",\"Ration\")),1) occ_at(agent_does(bob,give_to_because(\"Ration\",woody,\"Lieferung Rationen\")),4) occ_at(agent_does(woody,gather(\"Gemälde\")),0) occ_at(agent_does(woody,process_to(\"Holz\",\"Bretter\")),1) occ_at(agent_does(woody,accept_from_because(\"Ration\",bob,\"Lieferung Rationen\")),4) }\n",
      "SAT 1\n"
     ]
    }
   ],
   "source": [
    "trace_GLE2_unmoeglich_zufall_spezies = \"\"\"\n",
    "\n",
    "occ_at(agent_does(bob, gather(\"Nahrung\")), 0).\n",
    "occ_at(agent_does(woody, gather(\"Gemälde\")), 0).\n",
    "\n",
    "occ_at(agent_does(bob, process_to(\"Nahrung\", \"Ration\")), 1).\n",
    "occ_at(agent_does(woody, process_to(\"Holz\", \"Brett\")), 1).\n",
    "\n",
    "occ_at(destroy(\"Gemälde\"), 3).\n",
    "\n",
    "occ_at(agent_does(bob, give_to_because(\"Ration\", woody, \"Lieferung Ration\")), 4).\n",
    "occ_at(agent_does(woody, accept_from_because(\"Ration\", bob, \"Lieferung Ration\")), 4).\n",
    "\n",
    "\"\"\"\n",
    "solve([trace_GLE2_unmoeglich_zufall_spezies]);"
   ],
   "metadata": {
    "collapsed": false,
    "pycharm": {
     "name": "#%%\n"
    }
   }
  },
  {
   "cell_type": "code",
   "execution_count": 21,
   "outputs": [
    {
     "name": "stdout",
     "output_type": "stream",
     "text": [
      "Answer 1: { occ_at(agent_does(bob,gather(\"Nahrung\")),0) occ_at(agent_does(bob,process_to(\"Nahrung\",\"Ration\")),1) occ_at(agent_does(bob,accept_from_because(\"Bretter\",woody,\"Lieferung Bretter\")),6) occ_at(agent_does(bob,communicate_to_because(\"Am Vertrag festhalten\",woody,\"Lieferung Bretter\")),5) occ_at(agent_does(woody,gather(\"Holz\")),0) occ_at(agent_does(woody,process_to(\"Holz\",\"Bretter\")),1) occ_at(agent_does(woody,give_to_because(\"Bretter\",bob,\"Lieferung Bretter\")),6) }\n",
      "SAT 1\n"
     ]
    }
   ],
   "source": [
    "trace_verzug_schuldner_festhalten = \"\"\"\n",
    "\n",
    "occ_at(agent_does(bob, gather(\"Nahrung\")), 0).\n",
    "occ_at(agent_does(woody, gather(\"Holz\")), 0).\n",
    "\n",
    "occ_at(agent_does(bob, process_to(\"Nahrung\", \"Ration\")), 1).\n",
    "occ_at(agent_does(woody, process_to(\"Holz\", \"Brett\")), 1).\n",
    "\n",
    "occ_at(agent_does(bob, communicate_to_because(\"Am Vertrag festhalten\", woody, \"Lieferung Brett\")), 5).\n",
    "\n",
    "occ_at(agent_does(woody, give_to_because(\"Brett\", bob, \"Lieferung Brett\")), 6).\n",
    "occ_at(agent_does(bob, accept_from_because(\"Brett\", woody, \"Lieferung Brett\")), 6).\n",
    "\n",
    "\"\"\"\n",
    "solve([trace_verzug_schuldner_festhalten]);"
   ],
   "metadata": {
    "collapsed": false,
    "pycharm": {
     "name": "#%%\n"
    }
   }
  },
  {
   "cell_type": "code",
   "execution_count": 22,
   "outputs": [
    {
     "name": "stdout",
     "output_type": "stream",
     "text": [
      "Answer 1: { occ_at(agent_does(bob,gather(\"Nahrung\")),0) occ_at(agent_does(bob,process_to(\"Nahrung\",\"Ration\")),1) occ_at(agent_does(bob,accept_from_because(\"Bretter\",woody,\"Lieferung Bretter\")),6) occ_at(agent_does(bob,communicate_to_because(\"Am Vertrag festhalten\",woody,\"Lieferung Bretter\")),5) occ_at(agent_does(bob,give_to_because(\"Ration\",woody,\"Lieferung Rationen\")),2) occ_at(agent_does(woody,gather(\"Holz\")),0) occ_at(agent_does(woody,process_to(\"Holz\",\"Bretter\")),1) occ_at(agent_does(woody,accept_from_because(\"Ration\",bob,\"Lieferung Rationen\")),2) occ_at(agent_does(woody,give_to_because(\"Bretter\",bob,\"Lieferung Bretter\")),6) }\n",
      "SAT 1\n"
     ]
    }
   ],
   "source": [
    "trace_GLE1_verzug_schuldner_festhalten = \"\"\"\n",
    "\n",
    "occ_at(agent_does(bob, gather(\"Nahrung\")), 0).\n",
    "occ_at(agent_does(woody, gather(\"Holz\")), 0).\n",
    "\n",
    "occ_at(agent_does(bob, process_to(\"Nahrung\", \"Ration\")), 1).\n",
    "occ_at(agent_does(woody, process_to(\"Holz\", \"Brett\")), 1).\n",
    "\n",
    "occ_at(agent_does(bob, give_to_because(\"Ration\", woody, \"Lieferung Ration\")), 2).\n",
    "occ_at(agent_does(woody, accept_from_because(\"Ration\", bob, \"Lieferung Ration\")), 2).\n",
    "\n",
    "occ_at(agent_does(bob, communicate_to_because(\"Am Vertrag festhalten\", woody, \"Lieferung Brett\")), 5).\n",
    "\n",
    "occ_at(agent_does(woody, give_to_because(\"Brett\", bob, \"Lieferung Brett\")), 6).\n",
    "occ_at(agent_does(bob, accept_from_because(\"Brett\", woody, \"Lieferung Brett\")), 6).\n",
    "\n",
    "\"\"\"\n",
    "solve([trace_GLE1_verzug_schuldner_festhalten]);"
   ],
   "metadata": {
    "collapsed": false,
    "pycharm": {
     "name": "#%%\n"
    }
   }
  },
  {
   "cell_type": "code",
   "execution_count": 23,
   "outputs": [
    {
     "name": "stdout",
     "output_type": "stream",
     "text": [
      "Answer 1: { occ_at(agent_does(bob,gather(\"Nahrung\")),0) occ_at(agent_does(bob,process_to(\"Nahrung\",\"Ration\")),1) occ_at(agent_does(bob,accept_from_because(\"Bretter\",woody,\"Lieferung Bretter\")),7) occ_at(agent_does(bob,communicate_to_because(\"Am Vertrag festhalten\",woody,\"Lieferung Bretter\")),5) occ_at(agent_does(bob,give_to_because(\"Ration\",woody,\"Lieferung Rationen\")),6) occ_at(agent_does(woody,gather(\"Holz\")),0) occ_at(agent_does(woody,process_to(\"Holz\",\"Bretter\")),1) occ_at(agent_does(woody,accept_from_because(\"Ration\",bob,\"Lieferung Rationen\")),6) occ_at(agent_does(woody,give_to_because(\"Bretter\",bob,\"Lieferung Bretter\")),7) }\n",
      "SAT 1\n"
     ]
    }
   ],
   "source": [
    "trace_GLE2_verzug_schuldner_festhalten = \"\"\"\n",
    "\n",
    "occ_at(agent_does(bob, gather(\"Nahrung\")), 0).\n",
    "occ_at(agent_does(woody, gather(\"Holz\")), 0).\n",
    "\n",
    "occ_at(agent_does(bob, process_to(\"Nahrung\", \"Ration\")), 1).\n",
    "occ_at(agent_does(woody, process_to(\"Holz\", \"Brett\")), 1).\n",
    "\n",
    "occ_at(agent_does(bob, communicate_to_because(\"Am Vertrag festhalten\", woody, \"Lieferung Brett\")), 5).\n",
    "\n",
    "occ_at(agent_does(bob, give_to_because(\"Ration\", woody, \"Lieferung Ration\")), 6).\n",
    "occ_at(agent_does(woody, accept_from_because(\"Ration\", bob, \"Lieferung Ration\")), 6).\n",
    "\n",
    "occ_at(agent_does(woody, give_to_because(\"Brett\", bob, \"Lieferung Brett\")), 7).\n",
    "occ_at(agent_does(bob, accept_from_because(\"Brett\", woody, \"Lieferung Brett\")), 7).\n",
    "\n",
    "\"\"\"\n",
    "solve([trace_GLE2_verzug_schuldner_festhalten]);"
   ],
   "metadata": {
    "collapsed": false,
    "pycharm": {
     "name": "#%%\n"
    }
   }
  },
  {
   "cell_type": "code",
   "execution_count": 24,
   "outputs": [
    {
     "name": "stdout",
     "output_type": "stream",
     "text": [
      "Answer 1: { occ_at(agent_does(bob,gather(\"Nahrung\")),0) occ_at(agent_does(bob,process_to(\"Nahrung\",\"Ration\")),1) occ_at(agent_does(bob,accept_from_because(\"Bretter\",woody,\"Lieferung Bretter\")),6) occ_at(agent_does(bob,communicate_to_because(\"Vom Vertrag zurücktreten\",woody,\"Lieferung Bretter\")),5) occ_at(agent_does(woody,gather(\"Holz\")),0) occ_at(agent_does(woody,process_to(\"Holz\",\"Bretter\")),1) occ_at(agent_does(woody,give_to_because(\"Bretter\",bob,\"Lieferung Bretter\")),6) }\n",
      "SAT 1\n"
     ]
    }
   ],
   "source": [
    "trace_verzug_schuldner_zuruecktreten_success = \"\"\"\n",
    "\n",
    "occ_at(agent_does(bob, gather(\"Nahrung\")), 0).\n",
    "occ_at(agent_does(woody, gather(\"Holz\")), 0).\n",
    "\n",
    "occ_at(agent_does(bob, process_to(\"Nahrung\", \"Ration\")), 1).\n",
    "occ_at(agent_does(woody, process_to(\"Holz\", \"Brett\")), 1).\n",
    "\n",
    "occ_at(agent_does(bob, communicate_to_because(\"Vom Vertrag zurücktreten\", woody, \"Lieferung Brett\")), 5).\n",
    "\n",
    "occ_at(agent_does(woody, give_to_because(\"Brett\", bob, \"Lieferung Brett\")), 6).\n",
    "occ_at(agent_does(bob, accept_from_because(\"Brett\", woody, \"Lieferung Brett\")), 6).\n",
    "\n",
    "\"\"\"\n",
    "solve([trace_verzug_schuldner_zuruecktreten_success]);"
   ],
   "metadata": {
    "collapsed": false,
    "pycharm": {
     "name": "#%%\n"
    }
   }
  },
  {
   "cell_type": "code",
   "execution_count": 25,
   "outputs": [
    {
     "name": "stdout",
     "output_type": "stream",
     "text": [
      "Answer 1: { occ_at(agent_does(bob,gather(\"Nahrung\")),0) occ_at(agent_does(bob,process_to(\"Nahrung\",\"Ration\")),1) occ_at(agent_does(bob,accept_from_because(\"Bretter\",woody,\"Lieferung Bretter\")),6) occ_at(agent_does(bob,communicate_to_because(\"Vom Vertrag zurücktreten\",woody,\"Lieferung Bretter\")),5) occ_at(agent_does(bob,give_to_because(\"Ration\",woody,\"Lieferung Rationen\")),2) occ_at(agent_does(woody,gather(\"Holz\")),0) occ_at(agent_does(woody,process_to(\"Holz\",\"Bretter\")),1) occ_at(agent_does(woody,accept_from_because(\"Ration\",bob,\"Lieferung Rationen\")),2) occ_at(agent_does(woody,give_to_because(\"Bretter\",bob,\"Lieferung Bretter\")),6) }\n",
      "SAT 1\n"
     ]
    }
   ],
   "source": [
    "trace_GLE1_verzug_schuldner_zuruecktreten_success = \"\"\"\n",
    "\n",
    "occ_at(agent_does(bob, gather(\"Nahrung\")), 0).\n",
    "occ_at(agent_does(woody, gather(\"Holz\")), 0).\n",
    "\n",
    "occ_at(agent_does(bob, process_to(\"Nahrung\", \"Ration\")), 1).\n",
    "occ_at(agent_does(woody, process_to(\"Holz\", \"Brett\")), 1).\n",
    "\n",
    "occ_at(agent_does(bob, give_to_because(\"Ration\", woody, \"Lieferung Ration\")), 2).\n",
    "occ_at(agent_does(woody, accept_from_because(\"Ration\", bob, \"Lieferung Ration\")), 2).\n",
    "\n",
    "occ_at(agent_does(bob, communicate_to_because(\"Vom Vertrag zurücktreten\", woody, \"Lieferung Brett\")), 5).\n",
    "\n",
    "occ_at(agent_does(woody, give_to_because(\"Brett\", bob, \"Lieferung Brett\")), 6).\n",
    "occ_at(agent_does(bob, accept_from_because(\"Brett\", woody, \"Lieferung Brett\")), 6).\n",
    "\n",
    "\"\"\"\n",
    "solve([trace_GLE1_verzug_schuldner_zuruecktreten_success]);"
   ],
   "metadata": {
    "collapsed": false,
    "pycharm": {
     "name": "#%%\n"
    }
   }
  },
  {
   "cell_type": "code",
   "execution_count": 26,
   "outputs": [
    {
     "name": "stdout",
     "output_type": "stream",
     "text": [
      "Answer 1: { occ_at(agent_does(bob,gather(\"Nahrung\")),0) occ_at(agent_does(bob,process_to(\"Nahrung\",\"Ration\")),1) occ_at(agent_does(bob,accept_from_because(\"Bretter\",woody,\"Lieferung Bretter\")),7) occ_at(agent_does(bob,communicate_to_because(\"Vom Vertrag zurücktreten\",woody,\"Lieferung Bretter\")),5) occ_at(agent_does(bob,give_to_because(\"Ration\",woody,\"Lieferung Rationen\")),6) occ_at(agent_does(woody,gather(\"Holz\")),0) occ_at(agent_does(woody,process_to(\"Holz\",\"Bretter\")),1) occ_at(agent_does(woody,accept_from_because(\"Ration\",bob,\"Lieferung Rationen\")),6) occ_at(agent_does(woody,give_to_because(\"Bretter\",bob,\"Lieferung Bretter\")),7) }\n",
      "SAT 1\n"
     ]
    }
   ],
   "source": [
    "trace_GLE2_verzug_schuldner_zuruecktreten_success = \"\"\"\n",
    "\n",
    "occ_at(agent_does(bob, gather(\"Nahrung\")), 0).\n",
    "occ_at(agent_does(woody, gather(\"Holz\")), 0).\n",
    "\n",
    "occ_at(agent_does(bob, process_to(\"Nahrung\", \"Ration\")), 1).\n",
    "occ_at(agent_does(woody, process_to(\"Holz\", \"Brett\")), 1).\n",
    "\n",
    "occ_at(agent_does(bob, communicate_to_because(\"Vom Vertrag zurücktreten\", woody, \"Lieferung Brett\")), 5).\n",
    "\n",
    "occ_at(agent_does(bob, give_to_because(\"Ration\", woody, \"Lieferung Ration\")), 6).\n",
    "occ_at(agent_does(woody, accept_from_because(\"Ration\", bob, \"Lieferung Ration\")), 6).\n",
    "\n",
    "occ_at(agent_does(woody, give_to_because(\"Brett\", bob, \"Lieferung Brett\")), 7).\n",
    "occ_at(agent_does(bob, accept_from_because(\"Brett\", woody, \"Lieferung Brett\")), 7).\n",
    "\n",
    "\"\"\"\n",
    "solve([trace_GLE2_verzug_schuldner_zuruecktreten_success]);"
   ],
   "metadata": {
    "collapsed": false,
    "pycharm": {
     "name": "#%%\n"
    }
   }
  },
  {
   "cell_type": "code",
   "execution_count": 27,
   "outputs": [
    {
     "name": "stdout",
     "output_type": "stream",
     "text": [
      "Answer 1: { occ_at(agent_does(bob,gather(\"Nahrung\")),0) occ_at(agent_does(bob,process_to(\"Nahrung\",\"Ration\")),1) occ_at(agent_does(bob,communicate_to_because(\"Vom Vertrag zurücktreten\",woody,\"Lieferung Bretter\")),5) occ_at(agent_does(woody,gather(\"Holz\")),0) occ_at(agent_does(woody,process_to(\"Holz\",\"Bretter\")),1) }\n",
      "SAT 1\n"
     ]
    }
   ],
   "source": [
    "trace_verzug_schuldner_zuruecktreten_fail = \"\"\"\n",
    "\n",
    "occ_at(agent_does(bob, gather(\"Nahrung\")), 0).\n",
    "occ_at(agent_does(woody, gather(\"Holz\")), 0).\n",
    "\n",
    "occ_at(agent_does(bob, process_to(\"Nahrung\", \"Ration\")), 1).\n",
    "occ_at(agent_does(woody, process_to(\"Holz\", \"Brett\")), 1).\n",
    "\n",
    "occ_at(agent_does(bob, communicate_to_because(\"Vom Vertrag zurücktreten\", woody, \"Lieferung Brett\")), 5).\n",
    "\n",
    "\"\"\"\n",
    "solve([trace_verzug_schuldner_zuruecktreten_fail]);"
   ],
   "metadata": {
    "collapsed": false,
    "pycharm": {
     "name": "#%%\n"
    }
   }
  },
  {
   "cell_type": "code",
   "execution_count": 28,
   "outputs": [
    {
     "name": "stdout",
     "output_type": "stream",
     "text": [
      "Answer 1: { occ_at(agent_does(bob,gather(\"Nahrung\")),0) occ_at(agent_does(bob,process_to(\"Nahrung\",\"Ration\")),1) occ_at(agent_does(bob,communicate_to_because(\"Vom Vertrag zurücktreten\",woody,\"Lieferung Bretter\")),5) occ_at(agent_does(bob,give_to_because(\"Ration\",woody,\"Lieferung Rationen\")),2) occ_at(agent_does(woody,gather(\"Holz\")),0) occ_at(agent_does(woody,process_to(\"Holz\",\"Bretter\")),1) occ_at(agent_does(woody,accept_from_because(\"Ration\",bob,\"Lieferung Rationen\")),2) }\n",
      "SAT 1\n"
     ]
    }
   ],
   "source": [
    "trace_GLE_verzug_schuldner_zuruecktreten_fail = \"\"\"\n",
    "\n",
    "occ_at(agent_does(bob, gather(\"Nahrung\")), 0).\n",
    "occ_at(agent_does(woody, gather(\"Holz\")), 0).\n",
    "\n",
    "occ_at(agent_does(bob, process_to(\"Nahrung\", \"Ration\")), 1).\n",
    "occ_at(agent_does(woody, process_to(\"Holz\", \"Brett\")), 1).\n",
    "\n",
    "occ_at(agent_does(bob, give_to_because(\"Ration\", woody, \"Lieferung Ration\")), 2).\n",
    "occ_at(agent_does(woody, accept_from_because(\"Ration\", bob, \"Lieferung Ration\")), 2).\n",
    "\n",
    "occ_at(agent_does(bob, communicate_to_because(\"Vom Vertrag zurücktreten\", woody, \"Lieferung Brett\")), 5).\n",
    "\n",
    "\"\"\"\n",
    "solve([trace_GLE_verzug_schuldner_zuruecktreten_fail]);"
   ],
   "metadata": {
    "collapsed": false,
    "pycharm": {
     "name": "#%%\n"
    }
   }
  },
  {
   "cell_type": "code",
   "execution_count": 29,
   "outputs": [
    {
     "name": "stdout",
     "output_type": "stream",
     "text": [
      "Answer 1: { occ_at(agent_does(bob,gather(\"Nahrung\")),0) occ_at(agent_does(bob,process_to(\"Nahrung\",\"Ration\")),1) occ_at(agent_does(woody,gather(\"Holz\")),0) occ_at(agent_does(woody,process_to(\"Holz\",\"Bretter\")),1) occ_at(agent_does(woody,give_to_because(\"Bretter\",bob,\"Lieferung Bretter\")),3) }\n",
      "SAT 1\n"
     ]
    }
   ],
   "source": [
    "trace_verzug_glauebiger = \"\"\"\n",
    "\n",
    "occ_at(agent_does(bob, gather(\"Nahrung\")), 0).\n",
    "occ_at(agent_does(woody, gather(\"Holz\")), 0).\n",
    "\n",
    "occ_at(agent_does(bob, process_to(\"Nahrung\", \"Ration\")), 1).\n",
    "occ_at(agent_does(woody, process_to(\"Holz\", \"Brett\")), 1).\n",
    "\n",
    "occ_at(agent_does(woody, give_to_because(\"Brett\", bob, \"Lieferung Brett\")), 3).\n",
    "\n",
    "\"\"\"\n",
    "solve([trace_verzug_glauebiger]);"
   ],
   "metadata": {
    "collapsed": false,
    "pycharm": {
     "name": "#%%\n"
    }
   }
  },
  {
   "cell_type": "code",
   "execution_count": 30,
   "outputs": [
    {
     "name": "stdout",
     "output_type": "stream",
     "text": [
      "Answer 1: { occ_at(agent_does(bob,gather(\"Nahrung\")),0) occ_at(agent_does(bob,process_to(\"Nahrung\",\"Ration\")),1) occ_at(agent_does(bob,give_to_because(\"Ration\",woody,\"Lieferung Rationen\")),2) occ_at(agent_does(woody,gather(\"Holz\")),0) occ_at(agent_does(woody,process_to(\"Holz\",\"Bretter\")),1) occ_at(agent_does(woody,accept_from_because(\"Ration\",bob,\"Lieferung Rationen\")),2) occ_at(agent_does(woody,give_to_because(\"Bretter\",bob,\"Lieferung Bretter\")),3) }\n",
      "SAT 1\n"
     ]
    }
   ],
   "source": [
    "trace_GLE1_verzug_glauebiger = \"\"\"\n",
    "\n",
    "occ_at(agent_does(bob, gather(\"Nahrung\")), 0).\n",
    "occ_at(agent_does(woody, gather(\"Holz\")), 0).\n",
    "\n",
    "occ_at(agent_does(bob, process_to(\"Nahrung\", \"Ration\")), 1).\n",
    "occ_at(agent_does(woody, process_to(\"Holz\", \"Brett\")), 1).\n",
    "\n",
    "occ_at(agent_does(bob, give_to_because(\"Ration\", woody, \"Lieferung Ration\")), 2).\n",
    "occ_at(agent_does(woody, accept_from_because(\"Ration\", bob, \"Lieferung Ration\")), 2).\n",
    "\n",
    "occ_at(agent_does(woody, give_to_because(\"Brett\", bob, \"Lieferung Brett\")), 3).\n",
    "\n",
    "\"\"\"\n",
    "solve([trace_GLE1_verzug_glauebiger]);"
   ],
   "metadata": {
    "collapsed": false,
    "pycharm": {
     "name": "#%%\n"
    }
   }
  },
  {
   "cell_type": "code",
   "execution_count": 31,
   "outputs": [
    {
     "name": "stdout",
     "output_type": "stream",
     "text": [
      "Answer 1: { occ_at(agent_does(bob,gather(\"Nahrung\")),0) occ_at(agent_does(bob,process_to(\"Nahrung\",\"Ration\")),1) occ_at(agent_does(bob,give_to_because(\"Ration\",woody,\"Lieferung Rationen\")),6) occ_at(agent_does(woody,gather(\"Holz\")),0) occ_at(agent_does(woody,process_to(\"Holz\",\"Bretter\")),1) occ_at(agent_does(woody,accept_from_because(\"Ration\",bob,\"Lieferung Rationen\")),6) occ_at(agent_does(woody,give_to_because(\"Bretter\",bob,\"Lieferung Bretter\")),3) }\n",
      "SAT 1\n"
     ]
    }
   ],
   "source": [
    "trace_GLE2_verzug_glauebiger = \"\"\"\n",
    "\n",
    "occ_at(agent_does(bob, gather(\"Nahrung\")), 0).\n",
    "occ_at(agent_does(woody, gather(\"Holz\")), 0).\n",
    "\n",
    "occ_at(agent_does(bob, process_to(\"Nahrung\", \"Ration\")), 1).\n",
    "occ_at(agent_does(woody, process_to(\"Holz\", \"Brett\")), 1).\n",
    "\n",
    "occ_at(agent_does(woody, give_to_because(\"Brett\", bob, \"Lieferung Brett\")), 3).\n",
    "\n",
    "occ_at(agent_does(bob, give_to_because(\"Ration\", woody, \"Lieferung Ration\")), 6).\n",
    "occ_at(agent_does(woody, accept_from_because(\"Ration\", bob, \"Lieferung Ration\")), 6).\n",
    "\n",
    "\"\"\"\n",
    "solve([trace_GLE2_verzug_glauebiger]);"
   ],
   "metadata": {
    "collapsed": false,
    "pycharm": {
     "name": "#%%\n"
    }
   }
  }
 ],
 "metadata": {
  "kernelspec": {
   "display_name": "Python 3",
   "language": "python",
   "name": "python3"
  },
  "language_info": {
   "codemirror_mode": {
    "name": "ipython",
    "version": 2
   },
   "file_extension": ".py",
   "mimetype": "text/x-python",
   "name": "python",
   "nbconvert_exporter": "python",
   "pygments_lexer": "ipython2",
   "version": "2.7.6"
  }
 },
 "nbformat": 4,
 "nbformat_minor": 0
}