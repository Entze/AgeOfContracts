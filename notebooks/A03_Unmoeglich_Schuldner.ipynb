{
 "cells": [
  {
   "cell_type": "code",
   "execution_count": 50,
   "metadata": {
    "collapsed": true
   },
   "outputs": [],
   "source": [
    "import clingo\n",
    "\n",
    "from typing import Sequence"
   ]
  },
  {
   "cell_type": "code",
   "execution_count": 51,
   "outputs": [],
   "source": [
    "def solve(programs: Sequence[str], grounding_context=None, sep:str=' '):\n",
    "    ctl = clingo.Control((\"--models\", \"0\"))\n",
    "    for program in programs:\n",
    "        ctl.add(\"base\", (), program)\n",
    "\n",
    "    ctl.ground(((\"base\", ()),), grounding_context)\n",
    "\n",
    "    models = []\n",
    "\n",
    "    with ctl.solve(yield_=True) as solve_handle:\n",
    "        for i, model in enumerate(solve_handle):\n",
    "            assert isinstance(model, clingo.Model)\n",
    "            symbols = model.symbols(shown=True)\n",
    "            print(\"Answer {}: {}{}{}{}{}\".format(i + 1, \"{\", sep, sep.join(map(str, sorted(symbols))), sep, \"}\"))\n",
    "            models.append(symbols)\n",
    "        mode = \"UNKNOWN\"\n",
    "        solve_result = solve_handle.get()\n",
    "        if solve_result.satisfiable:\n",
    "            mode = \"SAT\"\n",
    "        elif solve_result.unsatisfiable:\n",
    "            mode = \"UNSAT\"\n",
    "        cardinality_suffix = \"\"\n",
    "        if not solve_result.exhausted:\n",
    "            cardinality_suffix = \"+\"\n",
    "        print(mode, \"{}{}\".format(len(models), cardinality_suffix))\n",
    "\n",
    "    return models"
   ],
   "metadata": {
    "collapsed": false,
    "pycharm": {
     "name": "#%%\n"
    }
   }
  },
  {
   "cell_type": "code",
   "execution_count": 52,
   "outputs": [
    {
     "name": "stdout",
     "output_type": "stream",
     "text": [
      "Answer 1: { action(gather(\"Holz\")) action(gather(\"Nahrung\")) action(process_to(\"Holz\",\"Brett\")) action(process_to(\"Nahrung\",\"Ration\")) action(accept_from_because(\"Brett\",bob,\"Lieferung Brett\")) action(accept_from_because(\"Brett\",bob,\"Lieferung Brett Austauschanspruch\")) action(accept_from_because(\"Brett\",bob,\"Lieferung Brett Differenzanspruch\")) action(accept_from_because(\"Brett\",bob,\"Lieferung Brett cont.\")) action(accept_from_because(\"Brett\",bob,\"Lieferung Ration\")) action(accept_from_because(\"Brett\",bob,\"Nachfrist Lieferung Brett\")) action(accept_from_because(\"Brett\",bob,\"Rückabwicklung Ration\")) action(accept_from_because(\"Brett\",woody,\"Lieferung Brett\")) action(accept_from_because(\"Brett\",woody,\"Lieferung Brett Austauschanspruch\")) action(accept_from_because(\"Brett\",woody,\"Lieferung Brett Differenzanspruch\")) action(accept_from_because(\"Brett\",woody,\"Lieferung Brett cont.\")) action(accept_from_because(\"Brett\",woody,\"Lieferung Ration\")) action(accept_from_because(\"Brett\",woody,\"Nachfrist Lieferung Brett\")) action(accept_from_because(\"Brett\",woody,\"Rückabwicklung Ration\")) action(accept_from_because(\"Geld\",bob,\"Lieferung Brett\")) action(accept_from_because(\"Geld\",bob,\"Lieferung Brett Austauschanspruch\")) action(accept_from_because(\"Geld\",bob,\"Lieferung Brett Differenzanspruch\")) action(accept_from_because(\"Geld\",bob,\"Lieferung Brett cont.\")) action(accept_from_because(\"Geld\",bob,\"Lieferung Ration\")) action(accept_from_because(\"Geld\",bob,\"Nachfrist Lieferung Brett\")) action(accept_from_because(\"Geld\",bob,\"Rückabwicklung Ration\")) action(accept_from_because(\"Geld\",woody,\"Lieferung Brett\")) action(accept_from_because(\"Geld\",woody,\"Lieferung Brett Austauschanspruch\")) action(accept_from_because(\"Geld\",woody,\"Lieferung Brett Differenzanspruch\")) action(accept_from_because(\"Geld\",woody,\"Lieferung Brett cont.\")) action(accept_from_because(\"Geld\",woody,\"Lieferung Ration\")) action(accept_from_because(\"Geld\",woody,\"Nachfrist Lieferung Brett\")) action(accept_from_because(\"Geld\",woody,\"Rückabwicklung Ration\")) action(accept_from_because(\"Gemälde\",bob,\"Lieferung Brett\")) action(accept_from_because(\"Gemälde\",bob,\"Lieferung Brett Austauschanspruch\")) action(accept_from_because(\"Gemälde\",bob,\"Lieferung Brett Differenzanspruch\")) action(accept_from_because(\"Gemälde\",bob,\"Lieferung Brett cont.\")) action(accept_from_because(\"Gemälde\",bob,\"Lieferung Ration\")) action(accept_from_because(\"Gemälde\",bob,\"Nachfrist Lieferung Brett\")) action(accept_from_because(\"Gemälde\",bob,\"Rückabwicklung Ration\")) action(accept_from_because(\"Gemälde\",woody,\"Lieferung Brett\")) action(accept_from_because(\"Gemälde\",woody,\"Lieferung Brett Austauschanspruch\")) action(accept_from_because(\"Gemälde\",woody,\"Lieferung Brett Differenzanspruch\")) action(accept_from_because(\"Gemälde\",woody,\"Lieferung Brett cont.\")) action(accept_from_because(\"Gemälde\",woody,\"Lieferung Ration\")) action(accept_from_because(\"Gemälde\",woody,\"Nachfrist Lieferung Brett\")) action(accept_from_because(\"Gemälde\",woody,\"Rückabwicklung Ration\")) action(accept_from_because(\"Holz\",bob,\"Lieferung Brett\")) action(accept_from_because(\"Holz\",bob,\"Lieferung Brett Austauschanspruch\")) action(accept_from_because(\"Holz\",bob,\"Lieferung Brett Differenzanspruch\")) action(accept_from_because(\"Holz\",bob,\"Lieferung Brett cont.\")) action(accept_from_because(\"Holz\",bob,\"Lieferung Ration\")) action(accept_from_because(\"Holz\",bob,\"Nachfrist Lieferung Brett\")) action(accept_from_because(\"Holz\",bob,\"Rückabwicklung Ration\")) action(accept_from_because(\"Holz\",woody,\"Lieferung Brett\")) action(accept_from_because(\"Holz\",woody,\"Lieferung Brett Austauschanspruch\")) action(accept_from_because(\"Holz\",woody,\"Lieferung Brett Differenzanspruch\")) action(accept_from_because(\"Holz\",woody,\"Lieferung Brett cont.\")) action(accept_from_because(\"Holz\",woody,\"Lieferung Ration\")) action(accept_from_because(\"Holz\",woody,\"Nachfrist Lieferung Brett\")) action(accept_from_because(\"Holz\",woody,\"Rückabwicklung Ration\")) action(accept_from_because(\"Nahrung\",bob,\"Lieferung Brett\")) action(accept_from_because(\"Nahrung\",bob,\"Lieferung Brett Austauschanspruch\")) action(accept_from_because(\"Nahrung\",bob,\"Lieferung Brett Differenzanspruch\")) action(accept_from_because(\"Nahrung\",bob,\"Lieferung Brett cont.\")) action(accept_from_because(\"Nahrung\",bob,\"Lieferung Ration\")) action(accept_from_because(\"Nahrung\",bob,\"Nachfrist Lieferung Brett\")) action(accept_from_because(\"Nahrung\",bob,\"Rückabwicklung Ration\")) action(accept_from_because(\"Nahrung\",woody,\"Lieferung Brett\")) action(accept_from_because(\"Nahrung\",woody,\"Lieferung Brett Austauschanspruch\")) action(accept_from_because(\"Nahrung\",woody,\"Lieferung Brett Differenzanspruch\")) action(accept_from_because(\"Nahrung\",woody,\"Lieferung Brett cont.\")) action(accept_from_because(\"Nahrung\",woody,\"Lieferung Ration\")) action(accept_from_because(\"Nahrung\",woody,\"Nachfrist Lieferung Brett\")) action(accept_from_because(\"Nahrung\",woody,\"Rückabwicklung Ration\")) action(accept_from_because(\"Ration\",bob,\"Lieferung Brett\")) action(accept_from_because(\"Ration\",bob,\"Lieferung Brett Austauschanspruch\")) action(accept_from_because(\"Ration\",bob,\"Lieferung Brett Differenzanspruch\")) action(accept_from_because(\"Ration\",bob,\"Lieferung Brett cont.\")) action(accept_from_because(\"Ration\",bob,\"Lieferung Ration\")) action(accept_from_because(\"Ration\",bob,\"Nachfrist Lieferung Brett\")) action(accept_from_because(\"Ration\",bob,\"Rückabwicklung Ration\")) action(accept_from_because(\"Ration\",woody,\"Lieferung Brett\")) action(accept_from_because(\"Ration\",woody,\"Lieferung Brett Austauschanspruch\")) action(accept_from_because(\"Ration\",woody,\"Lieferung Brett Differenzanspruch\")) action(accept_from_because(\"Ration\",woody,\"Lieferung Brett cont.\")) action(accept_from_because(\"Ration\",woody,\"Lieferung Ration\")) action(accept_from_because(\"Ration\",woody,\"Nachfrist Lieferung Brett\")) action(accept_from_because(\"Ration\",woody,\"Rückabwicklung Ration\")) action(communicate_to_because(\"Am Vertrag festhalten\",bob,\"Lieferung Brett\")) action(communicate_to_because(\"Am Vertrag festhalten\",bob,\"Lieferung Brett Austauschanspruch\")) action(communicate_to_because(\"Am Vertrag festhalten\",bob,\"Lieferung Brett Differenzanspruch\")) action(communicate_to_because(\"Am Vertrag festhalten\",bob,\"Lieferung Brett cont.\")) action(communicate_to_because(\"Am Vertrag festhalten\",bob,\"Lieferung Ration\")) action(communicate_to_because(\"Am Vertrag festhalten\",bob,\"Nachfrist Lieferung Brett\")) action(communicate_to_because(\"Am Vertrag festhalten\",bob,\"Rückabwicklung Ration\")) action(communicate_to_because(\"Am Vertrag festhalten\",woody,\"Lieferung Brett\")) action(communicate_to_because(\"Am Vertrag festhalten\",woody,\"Lieferung Brett Austauschanspruch\")) action(communicate_to_because(\"Am Vertrag festhalten\",woody,\"Lieferung Brett Differenzanspruch\")) action(communicate_to_because(\"Am Vertrag festhalten\",woody,\"Lieferung Brett cont.\")) action(communicate_to_because(\"Am Vertrag festhalten\",woody,\"Lieferung Ration\")) action(communicate_to_because(\"Am Vertrag festhalten\",woody,\"Nachfrist Lieferung Brett\")) action(communicate_to_because(\"Am Vertrag festhalten\",woody,\"Rückabwicklung Ration\")) action(communicate_to_because(\"Vom Vertrag zurücktreten\",bob,\"Lieferung Brett\")) action(communicate_to_because(\"Vom Vertrag zurücktreten\",bob,\"Lieferung Brett Austauschanspruch\")) action(communicate_to_because(\"Vom Vertrag zurücktreten\",bob,\"Lieferung Brett Differenzanspruch\")) action(communicate_to_because(\"Vom Vertrag zurücktreten\",bob,\"Lieferung Brett cont.\")) action(communicate_to_because(\"Vom Vertrag zurücktreten\",bob,\"Lieferung Ration\")) action(communicate_to_because(\"Vom Vertrag zurücktreten\",bob,\"Nachfrist Lieferung Brett\")) action(communicate_to_because(\"Vom Vertrag zurücktreten\",bob,\"Rückabwicklung Ration\")) action(communicate_to_because(\"Vom Vertrag zurücktreten\",woody,\"Lieferung Brett\")) action(communicate_to_because(\"Vom Vertrag zurücktreten\",woody,\"Lieferung Brett Austauschanspruch\")) action(communicate_to_because(\"Vom Vertrag zurücktreten\",woody,\"Lieferung Brett Differenzanspruch\")) action(communicate_to_because(\"Vom Vertrag zurücktreten\",woody,\"Lieferung Brett cont.\")) action(communicate_to_because(\"Vom Vertrag zurücktreten\",woody,\"Lieferung Ration\")) action(communicate_to_because(\"Vom Vertrag zurücktreten\",woody,\"Nachfrist Lieferung Brett\")) action(communicate_to_because(\"Vom Vertrag zurücktreten\",woody,\"Rückabwicklung Ration\")) action(give_to_because(\"Brett\",bob,\"Lieferung Brett\")) action(give_to_because(\"Brett\",bob,\"Lieferung Brett Austauschanspruch\")) action(give_to_because(\"Brett\",bob,\"Lieferung Brett Differenzanspruch\")) action(give_to_because(\"Brett\",bob,\"Lieferung Brett cont.\")) action(give_to_because(\"Brett\",bob,\"Lieferung Ration\")) action(give_to_because(\"Brett\",bob,\"Nachfrist Lieferung Brett\")) action(give_to_because(\"Brett\",bob,\"Rückabwicklung Ration\")) action(give_to_because(\"Brett\",woody,\"Lieferung Brett\")) action(give_to_because(\"Brett\",woody,\"Lieferung Brett Austauschanspruch\")) action(give_to_because(\"Brett\",woody,\"Lieferung Brett Differenzanspruch\")) action(give_to_because(\"Brett\",woody,\"Lieferung Brett cont.\")) action(give_to_because(\"Brett\",woody,\"Lieferung Ration\")) action(give_to_because(\"Brett\",woody,\"Nachfrist Lieferung Brett\")) action(give_to_because(\"Brett\",woody,\"Rückabwicklung Ration\")) action(give_to_because(\"Geld\",bob,\"Lieferung Brett\")) action(give_to_because(\"Geld\",bob,\"Lieferung Brett Austauschanspruch\")) action(give_to_because(\"Geld\",bob,\"Lieferung Brett Differenzanspruch\")) action(give_to_because(\"Geld\",bob,\"Lieferung Brett cont.\")) action(give_to_because(\"Geld\",bob,\"Lieferung Ration\")) action(give_to_because(\"Geld\",bob,\"Nachfrist Lieferung Brett\")) action(give_to_because(\"Geld\",bob,\"Rückabwicklung Ration\")) action(give_to_because(\"Geld\",woody,\"Lieferung Brett\")) action(give_to_because(\"Geld\",woody,\"Lieferung Brett Austauschanspruch\")) action(give_to_because(\"Geld\",woody,\"Lieferung Brett Differenzanspruch\")) action(give_to_because(\"Geld\",woody,\"Lieferung Brett cont.\")) action(give_to_because(\"Geld\",woody,\"Lieferung Ration\")) action(give_to_because(\"Geld\",woody,\"Nachfrist Lieferung Brett\")) action(give_to_because(\"Geld\",woody,\"Rückabwicklung Ration\")) action(give_to_because(\"Gemälde\",bob,\"Lieferung Brett\")) action(give_to_because(\"Gemälde\",bob,\"Lieferung Brett Austauschanspruch\")) action(give_to_because(\"Gemälde\",bob,\"Lieferung Brett Differenzanspruch\")) action(give_to_because(\"Gemälde\",bob,\"Lieferung Brett cont.\")) action(give_to_because(\"Gemälde\",bob,\"Lieferung Ration\")) action(give_to_because(\"Gemälde\",bob,\"Nachfrist Lieferung Brett\")) action(give_to_because(\"Gemälde\",bob,\"Rückabwicklung Ration\")) action(give_to_because(\"Gemälde\",woody,\"Lieferung Brett\")) action(give_to_because(\"Gemälde\",woody,\"Lieferung Brett Austauschanspruch\")) action(give_to_because(\"Gemälde\",woody,\"Lieferung Brett Differenzanspruch\")) action(give_to_because(\"Gemälde\",woody,\"Lieferung Brett cont.\")) action(give_to_because(\"Gemälde\",woody,\"Lieferung Ration\")) action(give_to_because(\"Gemälde\",woody,\"Nachfrist Lieferung Brett\")) action(give_to_because(\"Gemälde\",woody,\"Rückabwicklung Ration\")) action(give_to_because(\"Holz\",bob,\"Lieferung Brett\")) action(give_to_because(\"Holz\",bob,\"Lieferung Brett Austauschanspruch\")) action(give_to_because(\"Holz\",bob,\"Lieferung Brett Differenzanspruch\")) action(give_to_because(\"Holz\",bob,\"Lieferung Brett cont.\")) action(give_to_because(\"Holz\",bob,\"Lieferung Ration\")) action(give_to_because(\"Holz\",bob,\"Nachfrist Lieferung Brett\")) action(give_to_because(\"Holz\",bob,\"Rückabwicklung Ration\")) action(give_to_because(\"Holz\",woody,\"Lieferung Brett\")) action(give_to_because(\"Holz\",woody,\"Lieferung Brett Austauschanspruch\")) action(give_to_because(\"Holz\",woody,\"Lieferung Brett Differenzanspruch\")) action(give_to_because(\"Holz\",woody,\"Lieferung Brett cont.\")) action(give_to_because(\"Holz\",woody,\"Lieferung Ration\")) action(give_to_because(\"Holz\",woody,\"Nachfrist Lieferung Brett\")) action(give_to_because(\"Holz\",woody,\"Rückabwicklung Ration\")) action(give_to_because(\"Nahrung\",bob,\"Lieferung Brett\")) action(give_to_because(\"Nahrung\",bob,\"Lieferung Brett Austauschanspruch\")) action(give_to_because(\"Nahrung\",bob,\"Lieferung Brett Differenzanspruch\")) action(give_to_because(\"Nahrung\",bob,\"Lieferung Brett cont.\")) action(give_to_because(\"Nahrung\",bob,\"Lieferung Ration\")) action(give_to_because(\"Nahrung\",bob,\"Nachfrist Lieferung Brett\")) action(give_to_because(\"Nahrung\",bob,\"Rückabwicklung Ration\")) action(give_to_because(\"Nahrung\",woody,\"Lieferung Brett\")) action(give_to_because(\"Nahrung\",woody,\"Lieferung Brett Austauschanspruch\")) action(give_to_because(\"Nahrung\",woody,\"Lieferung Brett Differenzanspruch\")) action(give_to_because(\"Nahrung\",woody,\"Lieferung Brett cont.\")) action(give_to_because(\"Nahrung\",woody,\"Lieferung Ration\")) action(give_to_because(\"Nahrung\",woody,\"Nachfrist Lieferung Brett\")) action(give_to_because(\"Nahrung\",woody,\"Rückabwicklung Ration\")) action(give_to_because(\"Ration\",bob,\"Lieferung Brett\")) action(give_to_because(\"Ration\",bob,\"Lieferung Brett Austauschanspruch\")) action(give_to_because(\"Ration\",bob,\"Lieferung Brett Differenzanspruch\")) action(give_to_because(\"Ration\",bob,\"Lieferung Brett cont.\")) action(give_to_because(\"Ration\",bob,\"Lieferung Ration\")) action(give_to_because(\"Ration\",bob,\"Nachfrist Lieferung Brett\")) action(give_to_because(\"Ration\",bob,\"Rückabwicklung Ration\")) action(give_to_because(\"Ration\",woody,\"Lieferung Brett\")) action(give_to_because(\"Ration\",woody,\"Lieferung Brett Austauschanspruch\")) action(give_to_because(\"Ration\",woody,\"Lieferung Brett Differenzanspruch\")) action(give_to_because(\"Ration\",woody,\"Lieferung Brett cont.\")) action(give_to_because(\"Ration\",woody,\"Lieferung Ration\")) action(give_to_because(\"Ration\",woody,\"Nachfrist Lieferung Brett\")) action(give_to_because(\"Ration\",woody,\"Rückabwicklung Ration\")) agent(bob) agent(woody) component(\"Lieferung Brett\") component(\"Lieferung Brett Austauschanspruch\") component(\"Lieferung Brett Differenzanspruch\") component(\"Lieferung Brett cont.\") component(\"Lieferung Ration\") component(\"Nachfrist Lieferung Brett\") component(\"Rückabwicklung Ration\") componentState(\"Abgeschlossen [GLE]\") componentState(\"Gewährleistung [GLE]\") componentState(\"Initialisiert\") componentState(\"Initialisiert [GLE]\") componentState(\"Unmöglichkeit (Schuldner)\") componentState(\"Unmöglichkeit (Schuldner) [GLE]\") componentType(\"Austauschanspruch\") componentType(\"Differenzanspruch\") componentType(\"Geldleistung\") componentType(\"Nachfrist\") componentType(\"Sachleistung\") contract(\"Instanz Tauschvertrag\") event(destroy(\"Brett\")) event(destroy(\"Geld\")) event(destroy(\"Gemälde\")) event(destroy(\"Holz\")) event(destroy(\"Nahrung\")) event(destroy(\"Ration\")) resource(\"Brett\") resource(\"Geld\") resource(\"Gemälde\") resource(\"Holz\") resource(\"Nahrung\") resource(\"Ration\") resourceType(\"Gattung\") resourceType(\"Geld\") resourceType(\"Spezies\") time(0) time(1) time(2) time(3) time(4) time(5) time(6) time(7) time(8) time(9) time(10) }\n",
      "SAT 1\n"
     ]
    }
   ],
   "source": [
    "domain = \"\"\"\n",
    "\n",
    "contract(\"Instanz Tauschvertrag\").\n",
    "\n",
    "component(\"Lieferung Ration\").\n",
    "component(\"Rückabwicklung Ration\").\n",
    "\n",
    "component(\"Lieferung Brett\").\n",
    "component(\"Nachfrist Lieferung Brett\").\n",
    "component(\"Lieferung Brett cont.\").\n",
    "\n",
    "component(\"Lieferung Brett Austauschanspruch\").\n",
    "component(\"Lieferung Brett Differenzanspruch\").\n",
    "\n",
    "componentType(\"Sachleistung\").\n",
    "componentType(\"Nachfrist\").\n",
    "componentType(\"Geldleistung\").\n",
    "componentType(\"Austauschanspruch\").\n",
    "componentType(\"Differenzanspruch\").\n",
    "\n",
    "componentState(\"Initialisiert\").\n",
    "componentState(\"Initialisiert [GLE]\").\n",
    "componentState(\"Gewährleistung [GLE]\").\n",
    "componentState(\"Abgeschlossen [GLE]\").\n",
    "componentState(\"Unmöglichkeit (Schuldner)\").\n",
    "componentState(\"Unmöglichkeit (Schuldner) [GLE]\").\n",
    "% componentState(\"Unmöglichkeit (Gläubiger)\").\n",
    "% componentState(\"Unmöglichkeit (Gläubiger) [GLE]\").\n",
    "% componentState(\"Unmöglichkeit (Zufall)\").\n",
    "% componentState(\"Unmöglichkeit (Zufall) [GLE]\").\n",
    "% componentState(\"Verzug (Schuldner)\").\n",
    "% componentState(\"Verzug (Schuldner) [GLE]\").\n",
    "% componentState(\"Verzug (Schuldner, Vertrag besteht)\").\n",
    "% componentState(\"Verzug (Schuldner, Vertrag besteht) [GLE]\").\n",
    "% componentState(\"Verzug (Schuldner, Vom Vertrag zurückgetreten)\").\n",
    "% componentState(\"Verzug (Schuldner, Vom Vertrag zurückgetreten) [GLE]\").\n",
    "% componentState(\"Verzug (Gläubiger)\").\n",
    "% componentState(\"Verzug (Gläubiger) [GLE]\").\n",
    "\n",
    "\n",
    "resource(\"Holz\").\n",
    "resource(\"Nahrung\").\n",
    "resource(\"Brett\").\n",
    "resource(\"Ration\").\n",
    "resource(\"Gemälde\").\n",
    "resource(\"Geld\").\n",
    "\n",
    "resourceType(\"Gattung\").\n",
    "resourceType(\"Spezies\").\n",
    "resourceType(\"Geld\").\n",
    "\n",
    "agent(bob).\n",
    "agent(woody).\n",
    "\n",
    "event(destroy(Resource)) :- resource(Resource).\n",
    "\n",
    "action(gather(\"Holz\")).\n",
    "action(gather(\"Nahrung\")).\n",
    "action(process_to(\"Holz\", \"Brett\")).\n",
    "action(process_to(\"Nahrung\", \"Ration\")).\n",
    "action(give_to_because(Resource, Agent, Component)) :- agent(Agent), resource(Resource), component(Component).\n",
    "action(accept_from_because(Resource, Agent, Component)) :- agent(Agent), resource(Resource), component(Component).\n",
    "\n",
    "action(communicate_to_because(\"Am Vertrag festhalten\", Agent, Component)) :- agent(Agent), component(Component).\n",
    "action(communicate_to_because(\"Vom Vertrag zurücktreten\", Agent, Component)) :- agent(Agent), component(Component).\n",
    "\n",
    "time(0..10).\n",
    "\n",
    "\"\"\"\n",
    "solve([domain]);"
   ],
   "metadata": {
    "collapsed": false,
    "pycharm": {
     "name": "#%%\n"
    }
   }
  },
  {
   "cell_type": "code",
   "execution_count": 53,
   "outputs": [
    {
     "name": "stdout",
     "output_type": "stream",
     "text": [
      "Answer 1: { component_beneficiary(\"Lieferung Brett\",bob) component_beneficiary(\"Lieferung Ration\",woody) component_item(\"Lieferung Brett\",\"Brett\") component_item(\"Lieferung Ration\",\"Ration\") component_provider(\"Lieferung Brett\",woody) component_provider(\"Lieferung Ration\",bob) component_type(\"Lieferung Brett\",\"Sachleistung\") component_type(\"Lieferung Ration\",\"Sachleistung\") contract_component(\"Instanz Tauschvertrag\",\"Lieferung Brett\") contract_component(\"Instanz Tauschvertrag\",\"Lieferung Ration\") deo_at(component_state(\"Lieferung Brett\",\"Initialisiert\"),0) deo_at(component_state(\"Lieferung Ration\",\"Initialisiert\"),0) }\n",
      "SAT 1\n"
     ]
    }
   ],
   "source": [
    "contract = \"\"\"\n",
    "\n",
    "contract_component(\"Instanz Tauschvertrag\", \"Lieferung Ration\").\n",
    "contract_component(\"Instanz Tauschvertrag\", \"Lieferung Brett\").\n",
    "\n",
    "component_type(\"Lieferung Ration\", \"Sachleistung\").\n",
    "component_provider(\"Lieferung Ration\", bob).\n",
    "component_beneficiary(\"Lieferung Ration\", woody).\n",
    "component_item(\"Lieferung Ration\", \"Ration\").\n",
    "\n",
    "component_type(\"Lieferung Brett\", \"Sachleistung\").\n",
    "component_provider(\"Lieferung Brett\", woody).\n",
    "component_beneficiary(\"Lieferung Brett\", bob).\n",
    "component_item(\"Lieferung Brett\", \"Brett\").\n",
    "\n",
    "deo_at(component_state(\"Lieferung Ration\", \"Initialisiert\"), 0).\n",
    "deo_at(component_state(\"Lieferung Brett\", \"Initialisiert\"), 0).\n",
    "\n",
    "\"\"\"\n",
    "solve([contract]);"
   ],
   "metadata": {
    "collapsed": false,
    "pycharm": {
     "name": "#%%\n"
    }
   }
  },
  {
   "cell_type": "code",
   "execution_count": 54,
   "outputs": [
    {
     "name": "stdout",
     "output_type": "stream",
     "text": [
      "Answer 1: { occ_at(agent_does(bob,gather(\"Nahrung\")),0) occ_at(agent_does(bob,process_to(\"Nahrung\",\"Ration\")),1) occ_at(agent_does(woody,destroy(\"Brett\")),3) occ_at(agent_does(woody,gather(\"Holz\")),0) occ_at(agent_does(woody,process_to(\"Holz\",\"Brett\")),1) }\n",
      "SAT 1\n"
     ]
    }
   ],
   "source": [
    "instance = \"\"\"\n",
    "\n",
    "occ_at(agent_does(bob, gather(\"Nahrung\")), 0).\n",
    "occ_at(agent_does(woody, gather(\"Holz\")), 0).\n",
    "\n",
    "occ_at(agent_does(bob, process_to(\"Nahrung\", \"Ration\")), 1).\n",
    "occ_at(agent_does(woody, process_to(\"Holz\", \"Brett\")), 1).\n",
    "\n",
    "occ_at(agent_does(woody, destroy(\"Brett\")), 3).\n",
    "\n",
    "\"\"\"\n",
    "solve([instance]);"
   ],
   "metadata": {
    "collapsed": false,
    "pycharm": {
     "name": "#%%\n"
    }
   }
  },
  {
   "cell_type": "code",
   "execution_count": 55,
   "outputs": [
    {
     "name": "stdout",
     "output_type": "stream",
     "text": [
      "Answer 1: {  }\n",
      "SAT 1\n"
     ]
    },
    {
     "name": "stderr",
     "output_type": "stream",
     "text": [
      "<block>:4:2-22: info: atom does not occur in any rule head:\n",
      "  component(Component)\n",
      "\n",
      "<block>:4:24-39: info: atom does not occur in any rule head:\n",
      "  component(Dual)\n",
      "\n",
      "<block>:5:2-20: info: atom does not occur in any rule head:\n",
      "  contract(Contract)\n",
      "\n",
      "<block>:7:2-41: info: atom does not occur in any rule head:\n",
      "  contract_component(Contract,Component)\n",
      "\n",
      "<block>:7:43-77: info: atom does not occur in any rule head:\n",
      "  contract_component(Contract,Dual)\n",
      "\n",
      "<block>:10:3-23: info: atom does not occur in any rule head:\n",
      "  component(Component)\n",
      "\n",
      "<block>:10:25-46: info: atom does not occur in any rule head:\n",
      "  componentState(State)\n",
      "\n",
      "<block>:10:48-55: info: atom does not occur in any rule head:\n",
      "  time(T)\n",
      "\n",
      "<block>:16:3-12: info: atom does not occur in any rule head:\n",
      "  time((T+1))\n",
      "\n",
      "<block>:16:14-21: info: atom does not occur in any rule head:\n",
      "  time(T)\n",
      "\n",
      "<block>:28:3-23: info: atom does not occur in any rule head:\n",
      "  component(Component)\n",
      "\n",
      "<block>:28:25-34: info: atom does not occur in any rule head:\n",
      "  time((T+1))\n",
      "\n",
      "<block>:36:3-23: info: atom does not occur in any rule head:\n",
      "  component(Component)\n",
      "\n",
      "<block>:36:25-34: info: atom does not occur in any rule head:\n",
      "  time((T+1))\n",
      "\n",
      "<block>:44:3-23: info: atom does not occur in any rule head:\n",
      "  component(Component)\n",
      "\n",
      "<block>:44:25-34: info: atom does not occur in any rule head:\n",
      "  time((T+1))\n",
      "\n",
      "<block>:45:3-10: info: atom does not occur in any rule head:\n",
      "  time(T)\n",
      "\n",
      "<block>:52:3-23: info: atom does not occur in any rule head:\n",
      "  component(Component)\n",
      "\n",
      "<block>:52:25-34: info: atom does not occur in any rule head:\n",
      "  time((T+1))\n",
      "\n",
      "<block>:53:3-10: info: atom does not occur in any rule head:\n",
      "  time(T)\n",
      "\n"
     ]
    }
   ],
   "source": [
    "rules = \"\"\"\n",
    "\n",
    "component_dual(Component, Dual) :-\n",
    " component(Component), component(Dual),\n",
    " contract(Contract),\n",
    " Component != Dual,\n",
    " contract_component(Contract, Component), contract_component(Contract, Dual).\n",
    "\n",
    "imp_at(component_state(Component, State), T) :-\n",
    "  component(Component), componentState(State), time(T),\n",
    "  deo_at(component_state(Component, AlternativeState), T),\n",
    "  not inertial_to(component_state(Component, AlternativeState), T),\n",
    "  AlternativeState != State.\n",
    "\n",
    "inertial_to(component_state(Component, State), T+1) :-\n",
    "  time(T+1), time(T),\n",
    "  deo_at(component_state(Component, State), T),\n",
    "  not imp_at(component_state(Component, State), T+1).\n",
    "\n",
    "%% INERTIA\n",
    "deo_at(component_state(Component, State), T) :-\n",
    "  inertial_to(component_state(Component, State), T).\n",
    "\n",
    "%%% TRANSITION\n",
    "%% Transition Initialisiert -> Initialisiert [GLE]\n",
    "% Dual Gewährleistung\n",
    "deo_at(component_state(Component, \"Initialisiert [GLE]\"), T+1) :-\n",
    "  component(Component), time(T+1),\n",
    "  component_dual(Component, Dual),\n",
    "  deo_at(component_state(Component, \"Initialisiert\"),            T),\n",
    "  deo_at(component_state(Dual, \"Gewährleistung\"),                T+1),\n",
    "  not imp_at(component_state(Component, \"Initialisiert [GLE]\"),  T+1).\n",
    "\n",
    "% Dual Abgeschlossen\n",
    "deo_at(component_state(Component, \"Initialisiert [GLE]\"), T+1) :-\n",
    "  component(Component), time(T+1),\n",
    "  component_dual(Component, Dual),\n",
    "  deo_at(component_state(Component, \"Initialisiert\"),            T),\n",
    "  deo_at(component_state(Dual, \"Abgeschlossen\"),                 T+1),\n",
    "  not imp_at(component_state(Component, \"Initialisiert [GLE]\"),   T+1).\n",
    "\n",
    "%% Transition Initialisiert -> Gewährleistung\n",
    "deo_at(component_state(Component, \"Gewährleistung\"), T+1) :-\n",
    "  component(Component), time(T+1),\n",
    "  time(T),\n",
    "  deo_at(component_state(Component, \"Initialisiert\"),            T),\n",
    "  rul_component_at(transaction_from_to(_, _, _), Component,      T),\n",
    "  not imp_at(component_state(Component, \"Gewährleistung\"),       T+1).\n",
    "\n",
    "%% Transition Initialisiert [GLE] -> Gewährleistung [GLE]\n",
    "deo_at(component_state(Component, \"Gewährleistung [GLE]\"), T+1) :-\n",
    "  component(Component), time(T+1),\n",
    "  time(T),\n",
    "  deo_at(component_state(Component, \"Initialisiert [GLE]\"), T),\n",
    "  rul_component_at(transaction_from_to(_, _, _), Component, T).\n",
    "\n",
    "%% Transition Gewährleistung -> Gewährleistung [GLE]\n",
    "% Dual Gewährleistung [GLE]\n",
    "deo_at(component_state(Component, \"Gewährleistung [GLE]\"), T+1) :-\n",
    "  component(Component), time(T+1),\n",
    "  time(T), component_dual(Component, Dual),\n",
    "  deo_at(component_state(Component, \"Gewährleistung\"), T),\n",
    "  deo_at(component_state(Dual, \"Gewährleistung [GLE]\"), T).\n",
    "\n",
    "% Dual Abgeschlossen [GLE]\n",
    "deo_at(component_state(Component, \"Gewährleistung [GLE]\"), T+1) :-\n",
    "  component(Component), time(T+1),\n",
    "  time(T), component_dual(Component, Dual),\n",
    "  deo_at(component_state(Component, \"Gewährleistung\"), T),\n",
    "  deo_at(component_state(Dual, \"Abgeschlossen [GLE]\"), T).\n",
    "\n",
    "%% Transition Any -> Unmöglichkeit (Schuldner)\n",
    "deo_at(component_state(Component, \"Unmöglichkeit (Schuldner)\"), T+1) :-\n",
    "  component(Component), time(T+1),\n",
    "  time(T), component_provider(Component, Provider),\n",
    "  rul_component_at(impossibility(Provider), Component, T),\n",
    "  not imp_at(component_state(Component, \"Unmöglichkeit (Schuldner)\"), T+1).\n",
    "\n",
    "% Physical Exchange leads to Deontic Transaction\n",
    "rul_component_at(transaction_from_to(Item, Provider, Beneficiary), Component, T) :-\n",
    "  resource(Item), agent(Provider), agent(Beneficiary), component(Component), time(T),\n",
    "  component_provider(Component, Provider),\n",
    "  component_beneficiary(Component, Beneficiary),\n",
    "  component_item(Component, Item),\n",
    "  occ_at(agent_does(Provider, give_to_because(Item, Beneficiary, Component)),     T),\n",
    "  occ_at(agent_does(Beneficiary, accept_from_because(Item, Provider, Component)), T).\n",
    "\n",
    "% An agent destroying an object leads to Deontic Impossiblity, caused by the agent\n",
    "rul_component_at(impossibility(Agent), Component, T) :-\n",
    "  agent(Agent), component(Component), time(T),\n",
    "  component_item(Component, Item),\n",
    "  occ_at(agent_does(Agent, destroy(Item)), T).\n",
    "\n",
    "\"\"\"\n",
    "solve([rules]);"
   ],
   "metadata": {
    "collapsed": false,
    "pycharm": {
     "name": "#%%\n"
    }
   }
  },
  {
   "cell_type": "code",
   "execution_count": 56,
   "outputs": [
    {
     "name": "stdout",
     "output_type": "stream",
     "text": [
      "Answer 1: {\n",
      "deo_at(component_state(\"Lieferung Brett\",\"Initialisiert\"),0)\n",
      "deo_at(component_state(\"Lieferung Brett\",\"Initialisiert\"),1)\n",
      "deo_at(component_state(\"Lieferung Brett\",\"Initialisiert\"),2)\n",
      "deo_at(component_state(\"Lieferung Brett\",\"Initialisiert\"),3)\n",
      "deo_at(component_state(\"Lieferung Brett\",\"Unmöglichkeit (Schuldner)\"),4)\n",
      "deo_at(component_state(\"Lieferung Brett\",\"Unmöglichkeit (Schuldner)\"),5)\n",
      "deo_at(component_state(\"Lieferung Brett\",\"Unmöglichkeit (Schuldner)\"),6)\n",
      "deo_at(component_state(\"Lieferung Brett\",\"Unmöglichkeit (Schuldner)\"),7)\n",
      "deo_at(component_state(\"Lieferung Brett\",\"Unmöglichkeit (Schuldner)\"),8)\n",
      "deo_at(component_state(\"Lieferung Brett\",\"Unmöglichkeit (Schuldner)\"),9)\n",
      "deo_at(component_state(\"Lieferung Brett\",\"Unmöglichkeit (Schuldner)\"),10)\n",
      "deo_at(component_state(\"Lieferung Ration\",\"Initialisiert\"),0)\n",
      "deo_at(component_state(\"Lieferung Ration\",\"Initialisiert\"),1)\n",
      "deo_at(component_state(\"Lieferung Ration\",\"Initialisiert\"),2)\n",
      "deo_at(component_state(\"Lieferung Ration\",\"Initialisiert\"),3)\n",
      "deo_at(component_state(\"Lieferung Ration\",\"Initialisiert\"),4)\n",
      "deo_at(component_state(\"Lieferung Ration\",\"Initialisiert\"),5)\n",
      "deo_at(component_state(\"Lieferung Ration\",\"Initialisiert\"),6)\n",
      "deo_at(component_state(\"Lieferung Ration\",\"Initialisiert\"),7)\n",
      "deo_at(component_state(\"Lieferung Ration\",\"Initialisiert\"),8)\n",
      "deo_at(component_state(\"Lieferung Ration\",\"Initialisiert\"),9)\n",
      "deo_at(component_state(\"Lieferung Ration\",\"Initialisiert\"),10)\n",
      "occ_at(agent_does(bob,gather(\"Nahrung\")),0)\n",
      "occ_at(agent_does(bob,process_to(\"Nahrung\",\"Ration\")),1)\n",
      "occ_at(agent_does(woody,destroy(\"Brett\")),3)\n",
      "occ_at(agent_does(woody,gather(\"Holz\")),0)\n",
      "occ_at(agent_does(woody,process_to(\"Holz\",\"Brett\")),1)\n",
      "rul_component_at(impossibility(woody),\"Lieferung Brett\",3)\n",
      "}\n",
      "SAT 1\n"
     ]
    },
    {
     "name": "stderr",
     "output_type": "stream",
     "text": [
      "<block>:1:1-16: info: no atoms over signature occur in program:\n",
      "  obs_at/2\n",
      "\n"
     ]
    }
   ],
   "source": [
    "solve([\n",
    "    domain,\n",
    "    rules,\n",
    "    contract,\n",
    "    instance,\n",
    "    '#show occ_at/2.',\n",
    "    '#show obs_at/2.',\n",
    "    '#show deo_at/2.',\n",
    "    '#show rul_component_at/3.'\n",
    "    #'#show imp_at/2.',\n",
    "], sep='\\n');"
   ],
   "metadata": {
    "collapsed": false,
    "pycharm": {
     "name": "#%%\n"
    }
   }
  },
  {
   "cell_type": "code",
   "execution_count": 56,
   "outputs": [],
   "source": [],
   "metadata": {
    "collapsed": false,
    "pycharm": {
     "name": "#%%\n"
    }
   }
  }
 ],
 "metadata": {
  "kernelspec": {
   "display_name": "Python 3",
   "language": "python",
   "name": "python3"
  },
  "language_info": {
   "codemirror_mode": {
    "name": "ipython",
    "version": 2
   },
   "file_extension": ".py",
   "mimetype": "text/x-python",
   "name": "python",
   "nbconvert_exporter": "python",
   "pygments_lexer": "ipython2",
   "version": "2.7.6"
  }
 },
 "nbformat": 4,
 "nbformat_minor": 0
}